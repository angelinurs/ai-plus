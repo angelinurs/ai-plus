{
 "cells": [
  {
   "cell_type": "code",
   "execution_count": 23,
   "metadata": {},
   "outputs": [
    {
     "name": "stdout",
     "output_type": "stream",
     "text": [
      "\"Cloud Insight (Monitoring), Cloud Log Analytics, Object Storage, VPC, Cloud DB for PostgreSQL, Kubernetes Service, Load Balancer, Ncloud Simple RabbitMQ, SourceDeploy'\n"
     ]
    }
   ],
   "source": [
    "text = '''\n",
    "Cloud Insight (Monitoring)  공통  \n",
    "View (Full)\n",
    "모든 리소스\n",
    "  Cloud Log Analytics 공통  \n",
    "View (Full)\n",
    "모든 리소스\n",
    "  Object Storage  공통  \n",
    "View (Full)\n",
    "모든 리소스\n",
    "  VPC VPC \n",
    "View (Full)\n",
    "모든 리소스\n",
    "  Cloud DB for PostgreSQL VPC \n",
    "View (Full)\n",
    "모든 리소스\n",
    "  Kubernetes Service  VPC \n",
    "View (Full)\n",
    "모든 리소스\n",
    "  Load Balancer VPC \n",
    "View (Full)\n",
    "모든 리소스\n",
    "  Ncloud Simple RabbitMQ  VPC \n",
    "View (Full)\n",
    "모든 리소스\n",
    "  SourceDeploy\n",
    "'''\n",
    "\n",
    "arr = text.replace('\\n', '') \\\n",
    "        .replace('공통', '' ) \\\n",
    "        .replace('View', '') \\\n",
    "        .replace('(Full)', '') \\\n",
    "        .replace('모든 리소스  ', '').split('  ')\n",
    "arr\n",
    "tarr = []\n",
    "for item in arr:\n",
    "    if item not in ('', 'VPC'):\n",
    "        tarr.append(item.strip().replace(' VPC', ''))\n",
    "print( '\"' +', '.join(tarr) + \"'\")"
   ]
  }
 ],
 "metadata": {
  "kernelspec": {
   "display_name": "py3.9.5",
   "language": "python",
   "name": "python3"
  },
  "language_info": {
   "codemirror_mode": {
    "name": "ipython",
    "version": 3
   },
   "file_extension": ".py",
   "mimetype": "text/x-python",
   "name": "python",
   "nbconvert_exporter": "python",
   "pygments_lexer": "ipython3",
   "version": "3.9.5"
  },
  "orig_nbformat": 4
 },
 "nbformat": 4,
 "nbformat_minor": 2
}
