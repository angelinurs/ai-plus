{
 "cells": [
  {
   "cell_type": "code",
   "execution_count": 1,
   "metadata": {},
   "outputs": [],
   "source": [
    "import time\n",
    "import urllib.request\n",
    "import concurrent.futures"
   ]
  },
  {
   "cell_type": "code",
   "execution_count": 9,
   "metadata": {},
   "outputs": [],
   "source": [
    "def get_wikidocs( page ):\n",
    "    print( f'wikidocs page : { page }' )\n",
    "    \n",
    "    resource = f'http://wikidocs.net/{ page }'\n",
    "    \n",
    "    try:\n",
    "        with urllib.request.urlopen( resource ) as s:\n",
    "            with open( f'wikidocs_{page}.html', 'wb' ) as f:\n",
    "                f.write( s.read() )\n",
    "    except urllib.error.HTTPError:\n",
    "        return 'Not Found'"
   ]
  },
  {
   "cell_type": "code",
   "execution_count": 10,
   "metadata": {},
   "outputs": [
    {
     "name": "stdout",
     "output_type": "stream",
     "text": [
      "wikidocs page : 12\n",
      "wikidocs page : 13\n",
      "wikidocs page : 14\n",
      "wikidocs page : 15\n",
      "수행시간 : 0.010514 초\n"
     ]
    },
    {
     "name": "stdout",
     "output_type": "stream",
     "text": [
      "wikidocs page : 17\n",
      "wikidocs page : 18\n",
      "wikidocs page : 20\n",
      "wikidocs page : 21\n",
      "wikidocs page : 22\n",
      "wikidocs page : 24\n"
     ]
    }
   ],
   "source": [
    "start = time.time()\n",
    "\n",
    "pages = [ 12, 13, 14, 15, 17, 18, 20, 21, 22, 24 ]\n",
    "\n",
    "pool = concurrent.futures.ThreadPoolExecutor( max_workers=4 )\n",
    "\n",
    "threads = []\n",
    "for page in pages:\n",
    "    threads.append( pool.submit( get_wikidocs, page ) )\n",
    "    threads.append( pool.submit( get_wikidocs, page ) )\n",
    "\n",
    "# thread 가 종료 될때까지 대기    \n",
    "# concurrent.futures.wait( threads )\n",
    "# 반환값이 있을때, 사용\n",
    "# concurrent.futures.as_completed( threads )\n",
    "\n",
    "end = time.time()\n",
    "\n",
    "print( '수행시간 : %f 초' % ( end - start ) )"
   ]
  },
  {
   "attachments": {},
   "cell_type": "markdown",
   "metadata": {},
   "source": [
    "## - multiprocessing"
   ]
  },
  {
   "cell_type": "code",
   "execution_count": 4,
   "metadata": {},
   "outputs": [],
   "source": [
    "def heavy_work( name ):\n",
    "    result = 0\n",
    "    for i in range( 4000000 ):\n",
    "        result += i\n",
    "    print( f'{name} done' )\n",
    "    \n",
    "    return result"
   ]
  },
  {
   "cell_type": "code",
   "execution_count": 11,
   "metadata": {},
   "outputs": [],
   "source": [
    "def heavy_work():\n",
    "    result = 0\n",
    "    for i in range( 4000000 ):\n",
    "        result += i\n",
    "        \n",
    "    print( f'done' )\n",
    "    \n",
    "    return result"
   ]
  },
  {
   "cell_type": "code",
   "execution_count": 17,
   "metadata": {},
   "outputs": [
    {
     "name": "stdout",
     "output_type": "stream",
     "text": [
      "수행시간 : 0.342868 초\n",
      "done\n",
      "done\n",
      "done\n",
      "done\n"
     ]
    },
    {
     "name": "stdout",
     "output_type": "stream",
     "text": [
      "done\n",
      "done\n",
      "done\n",
      "done\n",
      "done\n",
      "done\n"
     ]
    }
   ],
   "source": [
    "start = time.time()\n",
    "\n",
    "pages = [ 12, 13, 14, 15, 17, 18, 20, 21, 22, 24 ]\n",
    "\n",
    "pool = concurrent.futures.ThreadPoolExecutor( max_workers=4 )\n",
    "\n",
    "threads = []\n",
    "for page in pages:\n",
    "    threads.append( pool.submit( heavy_work ) )\n",
    "\n",
    "# thread 가 종료 될때까지 대기    \n",
    "# concurrent.futures.wait( threads )\n",
    "# 반환값이 있을때, 사용\n",
    "# concurrent.futures.as_completed( threads )\n",
    "\n",
    "end = time.time()\n",
    "\n",
    "print( '수행시간 : %f 초' % ( end - start ) )"
   ]
  },
  {
   "cell_type": "code",
   "execution_count": 4,
   "metadata": {},
   "outputs": [
    {
     "name": "stdout",
     "output_type": "stream",
     "text": [
      "수행시간 : 0.118351 초\n"
     ]
    }
   ],
   "source": [
    "import multiprocessing\n",
    "\n",
    "start = time.time()\n",
    "\n",
    "procs = []\n",
    "for i in range( 4 ):\n",
    "    p = multiprocessing.Process( target=heavy_work, args=( i, ) )\n",
    "    p.start()\n",
    "    procs.append(p)\n",
    "    \n",
    "for p in procs:\n",
    "    p.join()\n",
    "\n",
    "end = time.time()\n",
    "\n",
    "print( '수행시간 : %f 초' % ( end - start ) )"
   ]
  },
  {
   "cell_type": "code",
   "execution_count": 5,
   "metadata": {},
   "outputs": [],
   "source": [
    "import multiprocessing\n",
    "\n",
    "start = time.time()\n",
    "\n",
    "pool = multiprocessing.Pool( processes=8 )\n",
    "pool.map( heavy_work, range( 4 ) )\n",
    "pool.close()\n",
    "pool.join()\n",
    "\n",
    "end = time.time()\n",
    "\n",
    "print( '수행시간 : %f 초' % ( end - start ) )"
   ]
  },
  {
   "cell_type": "code",
   "execution_count": 8,
   "metadata": {},
   "outputs": [
    {
     "ename": "BrokenProcessPool",
     "evalue": "A process in the process pool was terminated abruptly while the future was running or pending.",
     "output_type": "error",
     "traceback": [
      "\u001b[1;31m---------------------------------------------------------------------------\u001b[0m",
      "\u001b[1;31mBrokenProcessPool\u001b[0m                         Traceback (most recent call last)",
      "Cell \u001b[1;32mIn[8], line 13\u001b[0m\n\u001b[0;32m     10\u001b[0m     procs\u001b[39m.\u001b[39mappend( pool\u001b[39m.\u001b[39msubmit( heavy_work, i) )\n\u001b[0;32m     12\u001b[0m \u001b[39mfor\u001b[39;00m p \u001b[39min\u001b[39;00m concurrent\u001b[39m.\u001b[39mfutures\u001b[39m.\u001b[39mas_completed( procs ):\n\u001b[1;32m---> 13\u001b[0m     total_result \u001b[39m+\u001b[39m\u001b[39m=\u001b[39m p\u001b[39m.\u001b[39;49mresult()\n\u001b[0;32m     15\u001b[0m end \u001b[39m=\u001b[39m time\u001b[39m.\u001b[39mtime()\n\u001b[0;32m     17\u001b[0m \u001b[39mprint\u001b[39m( \u001b[39m'\u001b[39m\u001b[39m수행시간 : \u001b[39m\u001b[39m%f\u001b[39;00m\u001b[39m 초\u001b[39m\u001b[39m'\u001b[39m \u001b[39m%\u001b[39m ( end \u001b[39m-\u001b[39m start ) )\n",
      "File \u001b[1;32mc:\\Python39\\lib\\concurrent\\futures\\_base.py:439\u001b[0m, in \u001b[0;36mFuture.result\u001b[1;34m(self, timeout)\u001b[0m\n\u001b[0;32m    437\u001b[0m     \u001b[39mraise\u001b[39;00m CancelledError()\n\u001b[0;32m    438\u001b[0m \u001b[39melif\u001b[39;00m \u001b[39mself\u001b[39m\u001b[39m.\u001b[39m_state \u001b[39m==\u001b[39m FINISHED:\n\u001b[1;32m--> 439\u001b[0m     \u001b[39mreturn\u001b[39;00m \u001b[39mself\u001b[39;49m\u001b[39m.\u001b[39;49m__get_result()\n\u001b[0;32m    441\u001b[0m \u001b[39mself\u001b[39m\u001b[39m.\u001b[39m_condition\u001b[39m.\u001b[39mwait(timeout)\n\u001b[0;32m    443\u001b[0m \u001b[39mif\u001b[39;00m \u001b[39mself\u001b[39m\u001b[39m.\u001b[39m_state \u001b[39min\u001b[39;00m [CANCELLED, CANCELLED_AND_NOTIFIED]:\n",
      "File \u001b[1;32mc:\\Python39\\lib\\concurrent\\futures\\_base.py:391\u001b[0m, in \u001b[0;36mFuture.__get_result\u001b[1;34m(self)\u001b[0m\n\u001b[0;32m    389\u001b[0m \u001b[39mif\u001b[39;00m \u001b[39mself\u001b[39m\u001b[39m.\u001b[39m_exception:\n\u001b[0;32m    390\u001b[0m     \u001b[39mtry\u001b[39;00m:\n\u001b[1;32m--> 391\u001b[0m         \u001b[39mraise\u001b[39;00m \u001b[39mself\u001b[39m\u001b[39m.\u001b[39m_exception\n\u001b[0;32m    392\u001b[0m     \u001b[39mfinally\u001b[39;00m:\n\u001b[0;32m    393\u001b[0m         \u001b[39m# Break a reference cycle with the exception in self._exception\u001b[39;00m\n\u001b[0;32m    394\u001b[0m         \u001b[39mself\u001b[39m \u001b[39m=\u001b[39m \u001b[39mNone\u001b[39;00m\n",
      "\u001b[1;31mBrokenProcessPool\u001b[0m: A process in the process pool was terminated abruptly while the future was running or pending."
     ]
    }
   ],
   "source": [
    "import concurrent.futures\n",
    "\n",
    "start = time.time()\n",
    "\n",
    "total_result = 0\n",
    "pool = concurrent.futures.ProcessPoolExecutor( max_workers=4 )\n",
    "\n",
    "procs = []\n",
    "for i in range( 4 ):\n",
    "    procs.append( pool.submit( heavy_work, i) )\n",
    "    \n",
    "for p in concurrent.futures.as_completed( procs ):\n",
    "    total_result += p.result()\n",
    "\n",
    "end = time.time()\n",
    "\n",
    "print( '수행시간 : %f 초' % ( end - start ) )\n",
    "print( '총결과값 : %s ' % ( total_result ) )"
   ]
  },
  {
   "cell_type": "code",
   "execution_count": 5,
   "metadata": {},
   "outputs": [
    {
     "name": "stdout",
     "output_type": "stream",
     "text": [
      "merong\n"
     ]
    },
    {
     "ename": "TypeError",
     "evalue": "map() missing 1 required positional argument: 'iterable'",
     "output_type": "error",
     "traceback": [
      "\u001b[0;31m---------------------------------------------------------------------------\u001b[0m",
      "\u001b[0;31mTypeError\u001b[0m                                 Traceback (most recent call last)",
      "Cell \u001b[0;32mIn[5], line 8\u001b[0m\n\u001b[1;32m      5\u001b[0m     \u001b[39mprint\u001b[39m( msg )\n\u001b[1;32m      7\u001b[0m pool \u001b[39m=\u001b[39m Pool(cpu_count())\n\u001b[0;32m----> 8\u001b[0m pool\u001b[39m.\u001b[39;49mmap( hello(\u001b[39m'\u001b[39;49m\u001b[39mmerong\u001b[39;49m\u001b[39m'\u001b[39;49m), )\n",
      "\u001b[0;31mTypeError\u001b[0m: map() missing 1 required positional argument: 'iterable'"
     ]
    }
   ],
   "source": [
    "from multiprocessing.dummy import Pool\n",
    "from multiprocessing import cpu_count\n",
    "\n",
    "def hello( msg ):\n",
    "    print( msg )\n",
    "\n",
    "pool = Pool(cpu_count())\n",
    "pool.map( hello('merong'), )"
   ]
  },
  {
   "cell_type": "code",
   "execution_count": 3,
   "metadata": {},
   "outputs": [
    {
     "name": "stdout",
     "output_type": "stream",
     "text": [
      "멈추고 싶으면 아무키나 누르세요.\n"
     ]
    },
    {
     "name": "stdout",
     "output_type": "stream",
     "text": [
      "홍길동 0\n",
      "강감찬 0\n",
      "홍길동 1\n",
      "홍길동 2\n",
      "강감찬 1\n",
      "강감찬 2\n",
      "홍길동 3\n",
      "홍길동 4\n",
      "강감찬 3\n",
      "홍길동 5\n",
      "홍길동 6\n",
      "강감찬 4\n",
      "홍길동 7\n",
      "홍길동 8\n",
      "강감찬 5\n",
      "홍길동 9\n",
      "강감찬 6\n",
      "강감찬 7\n",
      "강감찬 8\n",
      "강감찬 9\n"
     ]
    }
   ],
   "source": [
    "#스레드 개요\n",
    "\n",
    "import _thread\n",
    "import time\n",
    "import random\n",
    "\n",
    "def DoItThread(str):\n",
    "    cnt = 0\n",
    "    while(cnt<10):\n",
    "        time.sleep(random.randint(0,100)/300.0)\n",
    "        print(str,cnt)\n",
    "        cnt+=1\n",
    "\n",
    "_thread.start_new_thread(DoItThread,(\"홍길동\",))\n",
    "_thread.start_new_thread(DoItThread,(\"강감찬\",))\n",
    "print(\"멈추고 싶으면 아무키나 누르세요.\")"
   ]
  }
 ],
 "metadata": {
  "kernelspec": {
   "display_name": "Python 3",
   "language": "python",
   "name": "python3"
  },
  "language_info": {
   "codemirror_mode": {
    "name": "ipython",
    "version": 3
   },
   "file_extension": ".py",
   "mimetype": "text/x-python",
   "name": "python",
   "nbconvert_exporter": "python",
   "pygments_lexer": "ipython3",
   "version": "3.9.13"
  },
  "orig_nbformat": 4,
  "vscode": {
   "interpreter": {
    "hash": "81794d4967e6c3204c66dcd87b604927b115b27c00565d3d43f05ba2f3a2cb0d"
   }
  }
 },
 "nbformat": 4,
 "nbformat_minor": 2
}
