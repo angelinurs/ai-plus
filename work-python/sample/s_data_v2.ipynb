{
 "cells": [
  {
   "cell_type": "code",
   "execution_count": 1,
   "metadata": {},
   "outputs": [],
   "source": [
    "import pandas as pd"
   ]
  },
  {
   "cell_type": "code",
   "execution_count": 2,
   "metadata": {},
   "outputs": [],
   "source": [
    "path = \"../data\""
   ]
  },
  {
   "cell_type": "code",
   "execution_count": 3,
   "metadata": {},
   "outputs": [],
   "source": [
    "cdata = pd.read_csv( path + '/cdata_07.csv',sep=',', dtype='object')"
   ]
  },
  {
   "cell_type": "code",
   "execution_count": 4,
   "metadata": {},
   "outputs": [
    {
     "name": "stdout",
     "output_type": "stream",
     "text": [
      "<class 'pandas.core.frame.DataFrame'>\n",
      "RangeIndex: 41705360 entries, 0 to 41705359\n",
      "Data columns (total 11 columns):\n",
      " #   Column         Dtype \n",
      "---  ------         ----- \n",
      " 0   Unnamed: 0     object\n",
      " 1   emp_user_id    object\n",
      " 2   emp_user_name  object\n",
      " 3   dept_id        object\n",
      " 4   dept_name      object\n",
      " 5   user_ip        object\n",
      " 6   req_type       object\n",
      " 7   system_seq     object\n",
      " 8   req_url        object\n",
      " 9   req_end_time   object\n",
      " 10  result_type    object\n",
      "dtypes: object(11)\n",
      "memory usage: 3.4+ GB\n"
     ]
    }
   ],
   "source": [
    "cdata.info()"
   ]
  },
  {
   "cell_type": "code",
   "execution_count": 4,
   "metadata": {},
   "outputs": [
    {
     "data": {
      "text/plain": [
       "emp_user_id        404508\n",
       "emp_user_name    15463976\n",
       "dept_id          15565535\n",
       "dept_name        16161006\n",
       "user_ip                 0\n",
       "req_type                0\n",
       "system_seq              0\n",
       "req_url                 0\n",
       "req_end_time            0\n",
       "result_type             0\n",
       "dtype: int64"
      ]
     },
     "execution_count": 4,
     "metadata": {},
     "output_type": "execute_result"
    }
   ],
   "source": [
    "cdata.isnull().sum()"
   ]
  },
  {
   "cell_type": "code",
   "execution_count": 5,
   "metadata": {},
   "outputs": [
    {
     "data": {
      "text/html": [
       "<div>\n",
       "<style scoped>\n",
       "    .dataframe tbody tr th:only-of-type {\n",
       "        vertical-align: middle;\n",
       "    }\n",
       "\n",
       "    .dataframe tbody tr th {\n",
       "        vertical-align: top;\n",
       "    }\n",
       "\n",
       "    .dataframe thead th {\n",
       "        text-align: right;\n",
       "    }\n",
       "</style>\n",
       "<table border=\"1\" class=\"dataframe\">\n",
       "  <thead>\n",
       "    <tr style=\"text-align: right;\">\n",
       "      <th></th>\n",
       "      <th>emp_user_id</th>\n",
       "      <th>emp_user_name</th>\n",
       "      <th>dept_id</th>\n",
       "      <th>dept_name</th>\n",
       "      <th>user_ip</th>\n",
       "      <th>req_type</th>\n",
       "      <th>system_seq</th>\n",
       "      <th>req_url</th>\n",
       "      <th>req_end_time</th>\n",
       "      <th>result_type</th>\n",
       "    </tr>\n",
       "  </thead>\n",
       "  <tbody>\n",
       "    <tr>\n",
       "      <th>0</th>\n",
       "      <td>172.10.132.6</td>\n",
       "      <td>NaN</td>\n",
       "      <td>NaN</td>\n",
       "      <td>NaN</td>\n",
       "      <td>172.10.132.6</td>\n",
       "      <td>RD</td>\n",
       "      <td>2</td>\n",
       "      <td>http://erp.kistec.or.kr:80/com/mainForm.do</td>\n",
       "      <td>20220701101108</td>\n",
       "      <td>6</td>\n",
       "    </tr>\n",
       "    <tr>\n",
       "      <th>1</th>\n",
       "      <td>172.12.101.72</td>\n",
       "      <td>NaN</td>\n",
       "      <td>NaN</td>\n",
       "      <td>NaN</td>\n",
       "      <td>172.12.101.72</td>\n",
       "      <td>RD</td>\n",
       "      <td>2</td>\n",
       "      <td>http://erp.kistec.or.kr:80/com/mainForm.do</td>\n",
       "      <td>20220701090809</td>\n",
       "      <td>6</td>\n",
       "    </tr>\n",
       "    <tr>\n",
       "      <th>2</th>\n",
       "      <td>172.12.101.72</td>\n",
       "      <td>NaN</td>\n",
       "      <td>NaN</td>\n",
       "      <td>NaN</td>\n",
       "      <td>172.12.101.72</td>\n",
       "      <td>RD</td>\n",
       "      <td>2</td>\n",
       "      <td>http://erp.kistec.or.kr:80/com/mainForm.do</td>\n",
       "      <td>20220701090827</td>\n",
       "      <td>6</td>\n",
       "    </tr>\n",
       "    <tr>\n",
       "      <th>3</th>\n",
       "      <td>172.10.122.14</td>\n",
       "      <td>NaN</td>\n",
       "      <td>NaN</td>\n",
       "      <td>NaN</td>\n",
       "      <td>172.10.122.14</td>\n",
       "      <td>RD</td>\n",
       "      <td>2</td>\n",
       "      <td>http://erp.kistec.or.kr:80/com/mainForm.do</td>\n",
       "      <td>20220701091044</td>\n",
       "      <td>6</td>\n",
       "    </tr>\n",
       "    <tr>\n",
       "      <th>4</th>\n",
       "      <td>2018041340</td>\n",
       "      <td>고다상</td>\n",
       "      <td>61111139</td>\n",
       "      <td>교량실</td>\n",
       "      <td>172.10.122.14</td>\n",
       "      <td>RD</td>\n",
       "      <td>2</td>\n",
       "      <td>http://erp.kistec.or.kr:80/com/bottomFrame.do</td>\n",
       "      <td>20220701091051</td>\n",
       "      <td>6,7</td>\n",
       "    </tr>\n",
       "  </tbody>\n",
       "</table>\n",
       "</div>"
      ],
      "text/plain": [
       "     emp_user_id emp_user_name   dept_id dept_name        user_ip req_type  \\\n",
       "0   172.10.132.6           NaN       NaN       NaN   172.10.132.6       RD   \n",
       "1  172.12.101.72           NaN       NaN       NaN  172.12.101.72       RD   \n",
       "2  172.12.101.72           NaN       NaN       NaN  172.12.101.72       RD   \n",
       "3  172.10.122.14           NaN       NaN       NaN  172.10.122.14       RD   \n",
       "4     2018041340           고다상  61111139       교량실  172.10.122.14       RD   \n",
       "\n",
       "  system_seq                                        req_url    req_end_time  \\\n",
       "0          2     http://erp.kistec.or.kr:80/com/mainForm.do  20220701101108   \n",
       "1          2     http://erp.kistec.or.kr:80/com/mainForm.do  20220701090809   \n",
       "2          2     http://erp.kistec.or.kr:80/com/mainForm.do  20220701090827   \n",
       "3          2     http://erp.kistec.or.kr:80/com/mainForm.do  20220701091044   \n",
       "4          2  http://erp.kistec.or.kr:80/com/bottomFrame.do  20220701091051   \n",
       "\n",
       "  result_type  \n",
       "0           6  \n",
       "1           6  \n",
       "2           6  \n",
       "3           6  \n",
       "4         6,7  "
      ]
     },
     "execution_count": 5,
     "metadata": {},
     "output_type": "execute_result"
    }
   ],
   "source": [
    "cdata.head()"
   ]
  },
  {
   "cell_type": "code",
   "execution_count": 6,
   "metadata": {},
   "outputs": [
    {
     "data": {
      "text/plain": [
       "array(['http://erp.kistec.or.kr:80/com/mainForm.do',\n",
       "       'http://erp.kistec.or.kr:80/com/bottomFrame.do',\n",
       "       'http://erp.kistec.or.kr:80/com/other.do?method=employeePop&empl_no=199903020',\n",
       "       ...,\n",
       "       'https://www.kalisedu.or.kr/user/enroll/EnrollUserPaymentPrepareUpdate.do?payMethodCd=001000000000&res_msg=성공&req_tx=pay&paymentEndDt=Fri Oct 21 18:00:00 KST 2022&trace_no=B6833ACAGH8UJ6KI&buyr_mail=ktg05218@naver.com&shop_user_id=3016920&tran_cd=00100000&enc_info=4my8daI0rICh2Q5XyaV6TSXhS89Lvc.X97dL3vzlvRMcwHxqE8avuRKQlVbtinuiNO2iJj9uoxNNorSTdDvN2gOkyvW-9dImd9StSk8hVScDrBEvPd5zznzZ23ySCq0tf9Dna9v3Dw13z1Na0smboe4a9BzjrdvDhOcIjnvnsysk8BGdKvY0f5foddSRLMy3j0.XB8k6Nhk__&_menu=206&endDay=9&buyr_name=김태근&currency',\n",
       "       'https://www.kalisedu.or.kr/common/payment/PaymentCommonSave.do?payMethodCd=001000000000&res_msg=성공&req_tx=pay&paymentEndDt=Fri Oct 21 18:00:00 KST 2022&trace_no=B6833ACAGH8UJ6KI&buyr_mail=ktg05218@naver.com&shop_user_id=3016920&tran_cd=00100000&enc_info=4my8daI0rICh2Q5XyaV6TSXhS89Lvc.X97dL3vzlvRMcwHxqE8avuRKQlVbtinuiNO2iJj9uoxNNorSTdDvN2gOkyvW-9dImd9StSk8hVScDrBEvPd5zznzZ23ySCq0tf9Dna9v3Dw13z1Na0smboe4a9BzjrdvDhOcIjnvnsysk8BGdKvY0f5foddSRLMy3j0.XB8k6Nhk__&_menu=206&paymentId=202210121042567711495&endDay=9&',\n",
       "       'https://www.kalisedu.or.kr/user/enroll/EnrollUserPaymentView.do?_menu=206&enrollNo=1333133&searchCompNm=행정안전부 정부청사관리본부'],\n",
       "      dtype=object)"
      ]
     },
     "execution_count": 6,
     "metadata": {},
     "output_type": "execute_result"
    }
   ],
   "source": [
    "cdata.req_url.unique()"
   ]
  },
  {
   "attachments": {},
   "cell_type": "markdown",
   "metadata": {},
   "source": [
    "> ##### Add date, time column #####"
   ]
  },
  {
   "cell_type": "code",
   "execution_count": 7,
   "metadata": {},
   "outputs": [],
   "source": [
    "cdata['datetime'] = pd.to_datetime( cdata['req_end_time'], format='%Y%m%d%H%M%S')"
   ]
  },
  {
   "cell_type": "code",
   "execution_count": 8,
   "metadata": {},
   "outputs": [
    {
     "data": {
      "text/plain": [
       "0   2022-07-01 10:11:08\n",
       "1   2022-07-01 09:08:09\n",
       "2   2022-07-01 09:08:27\n",
       "3   2022-07-01 09:10:44\n",
       "4   2022-07-01 09:10:51\n",
       "Name: datetime, dtype: datetime64[ns]"
      ]
     },
     "execution_count": 8,
     "metadata": {},
     "output_type": "execute_result"
    }
   ],
   "source": [
    "cdata.datetime.head()"
   ]
  },
  {
   "attachments": {},
   "cell_type": "markdown",
   "metadata": {},
   "source": [
    "> ##### Add days columns #####"
   ]
  },
  {
   "cell_type": "code",
   "execution_count": 9,
   "metadata": {},
   "outputs": [],
   "source": [
    "from datetime import datetime"
   ]
  },
  {
   "cell_type": "code",
   "execution_count": 10,
   "metadata": {},
   "outputs": [],
   "source": [
    "days = [ 'mon', 'tue', 'wed', 'thi', 'fri', 'sat', 'sun' ]\n",
    "\n",
    "cdata['days'] =  cdata.datetime.apply( pd.to_datetime ).map( datetime.weekday ).map( lambda x: days[x] )"
   ]
  },
  {
   "cell_type": "code",
   "execution_count": 15,
   "metadata": {},
   "outputs": [],
   "source": [
    "# cdata.drop( columns=['req_end_time', ], inplace=True )"
   ]
  },
  {
   "cell_type": "code",
   "execution_count": 12,
   "metadata": {},
   "outputs": [],
   "source": [
    "cdata_v2 = cdata[\n",
    "        ['emp_user_id', 'emp_user_name', 'dept_id', 'dept_name', 'user_ip', 'req_type', 'system_seq', 'result_type', 'datetime', 'days']\n",
    "    ]"
   ]
  },
  {
   "cell_type": "code",
   "execution_count": 11,
   "metadata": {},
   "outputs": [],
   "source": [
    "# d = cdata_v2.values"
   ]
  },
  {
   "cell_type": "code",
   "execution_count": 13,
   "metadata": {},
   "outputs": [
    {
     "data": {
      "text/plain": [
       "Index(['emp_user_id', 'emp_user_name', 'dept_id', 'dept_name', 'user_ip',\n",
       "       'req_type', 'system_seq', 'result_type', 'datetime', 'days'],\n",
       "      dtype='object')"
      ]
     },
     "execution_count": 13,
     "metadata": {},
     "output_type": "execute_result"
    }
   ],
   "source": [
    "cdata_v2.columns"
   ]
  },
  {
   "cell_type": "code",
   "execution_count": 14,
   "metadata": {},
   "outputs": [
    {
     "data": {
      "text/html": [
       "<div>\n",
       "<style scoped>\n",
       "    .dataframe tbody tr th:only-of-type {\n",
       "        vertical-align: middle;\n",
       "    }\n",
       "\n",
       "    .dataframe tbody tr th {\n",
       "        vertical-align: top;\n",
       "    }\n",
       "\n",
       "    .dataframe thead th {\n",
       "        text-align: right;\n",
       "    }\n",
       "</style>\n",
       "<table border=\"1\" class=\"dataframe\">\n",
       "  <thead>\n",
       "    <tr style=\"text-align: right;\">\n",
       "      <th></th>\n",
       "      <th>emp_user_id</th>\n",
       "      <th>emp_user_name</th>\n",
       "      <th>dept_id</th>\n",
       "      <th>dept_name</th>\n",
       "      <th>user_ip</th>\n",
       "      <th>req_type</th>\n",
       "      <th>system_seq</th>\n",
       "      <th>result_type</th>\n",
       "      <th>datetime</th>\n",
       "      <th>days</th>\n",
       "    </tr>\n",
       "  </thead>\n",
       "  <tbody>\n",
       "    <tr>\n",
       "      <th>0</th>\n",
       "      <td>172.10.132.6</td>\n",
       "      <td>NaN</td>\n",
       "      <td>NaN</td>\n",
       "      <td>NaN</td>\n",
       "      <td>172.10.132.6</td>\n",
       "      <td>RD</td>\n",
       "      <td>2</td>\n",
       "      <td>6</td>\n",
       "      <td>2022-07-01 10:11:08</td>\n",
       "      <td>fri</td>\n",
       "    </tr>\n",
       "    <tr>\n",
       "      <th>1</th>\n",
       "      <td>172.12.101.72</td>\n",
       "      <td>NaN</td>\n",
       "      <td>NaN</td>\n",
       "      <td>NaN</td>\n",
       "      <td>172.12.101.72</td>\n",
       "      <td>RD</td>\n",
       "      <td>2</td>\n",
       "      <td>6</td>\n",
       "      <td>2022-07-01 09:08:09</td>\n",
       "      <td>fri</td>\n",
       "    </tr>\n",
       "    <tr>\n",
       "      <th>2</th>\n",
       "      <td>172.12.101.72</td>\n",
       "      <td>NaN</td>\n",
       "      <td>NaN</td>\n",
       "      <td>NaN</td>\n",
       "      <td>172.12.101.72</td>\n",
       "      <td>RD</td>\n",
       "      <td>2</td>\n",
       "      <td>6</td>\n",
       "      <td>2022-07-01 09:08:27</td>\n",
       "      <td>fri</td>\n",
       "    </tr>\n",
       "    <tr>\n",
       "      <th>3</th>\n",
       "      <td>172.10.122.14</td>\n",
       "      <td>NaN</td>\n",
       "      <td>NaN</td>\n",
       "      <td>NaN</td>\n",
       "      <td>172.10.122.14</td>\n",
       "      <td>RD</td>\n",
       "      <td>2</td>\n",
       "      <td>6</td>\n",
       "      <td>2022-07-01 09:10:44</td>\n",
       "      <td>fri</td>\n",
       "    </tr>\n",
       "    <tr>\n",
       "      <th>4</th>\n",
       "      <td>2018041340</td>\n",
       "      <td>고다상</td>\n",
       "      <td>61111139</td>\n",
       "      <td>교량실</td>\n",
       "      <td>172.10.122.14</td>\n",
       "      <td>RD</td>\n",
       "      <td>2</td>\n",
       "      <td>6,7</td>\n",
       "      <td>2022-07-01 09:10:51</td>\n",
       "      <td>fri</td>\n",
       "    </tr>\n",
       "  </tbody>\n",
       "</table>\n",
       "</div>"
      ],
      "text/plain": [
       "     emp_user_id emp_user_name   dept_id dept_name        user_ip req_type  \\\n",
       "0   172.10.132.6           NaN       NaN       NaN   172.10.132.6       RD   \n",
       "1  172.12.101.72           NaN       NaN       NaN  172.12.101.72       RD   \n",
       "2  172.12.101.72           NaN       NaN       NaN  172.12.101.72       RD   \n",
       "3  172.10.122.14           NaN       NaN       NaN  172.10.122.14       RD   \n",
       "4     2018041340           고다상  61111139       교량실  172.10.122.14       RD   \n",
       "\n",
       "  system_seq result_type            datetime days  \n",
       "0          2           6 2022-07-01 10:11:08  fri  \n",
       "1          2           6 2022-07-01 09:08:09  fri  \n",
       "2          2           6 2022-07-01 09:08:27  fri  \n",
       "3          2           6 2022-07-01 09:10:44  fri  \n",
       "4          2         6,7 2022-07-01 09:10:51  fri  "
      ]
     },
     "execution_count": 14,
     "metadata": {},
     "output_type": "execute_result"
    }
   ],
   "source": [
    "cdata_v2.head()"
   ]
  },
  {
   "cell_type": "code",
   "execution_count": 15,
   "metadata": {},
   "outputs": [
    {
     "name": "stderr",
     "output_type": "stream",
     "text": [
      "C:\\Users\\user\\AppData\\Local\\Temp\\ipykernel_18392\\3025207583.py:1: SettingWithCopyWarning: \n",
      "A value is trying to be set on a copy of a slice from a DataFrame.\n",
      "Try using .loc[row_indexer,col_indexer] = value instead\n",
      "\n",
      "See the caveats in the documentation: https://pandas.pydata.org/pandas-docs/stable/user_guide/indexing.html#returning-a-view-versus-a-copy\n",
      "  cdata_v2['time'] = cdata_v2.datetime.apply( pd.Timestamp ).dt.time.astype('string')\n"
     ]
    }
   ],
   "source": [
    "cdata_v2['time'] = cdata_v2.datetime.apply( pd.Timestamp ).dt.time.astype('string')"
   ]
  },
  {
   "cell_type": "code",
   "execution_count": 16,
   "metadata": {},
   "outputs": [
    {
     "data": {
      "text/html": [
       "<div>\n",
       "<style scoped>\n",
       "    .dataframe tbody tr th:only-of-type {\n",
       "        vertical-align: middle;\n",
       "    }\n",
       "\n",
       "    .dataframe tbody tr th {\n",
       "        vertical-align: top;\n",
       "    }\n",
       "\n",
       "    .dataframe thead th {\n",
       "        text-align: right;\n",
       "    }\n",
       "</style>\n",
       "<table border=\"1\" class=\"dataframe\">\n",
       "  <thead>\n",
       "    <tr style=\"text-align: right;\">\n",
       "      <th></th>\n",
       "      <th>emp_user_id</th>\n",
       "      <th>emp_user_name</th>\n",
       "      <th>dept_id</th>\n",
       "      <th>dept_name</th>\n",
       "      <th>user_ip</th>\n",
       "      <th>req_type</th>\n",
       "      <th>system_seq</th>\n",
       "      <th>result_type</th>\n",
       "      <th>datetime</th>\n",
       "      <th>days</th>\n",
       "      <th>time</th>\n",
       "    </tr>\n",
       "  </thead>\n",
       "  <tbody>\n",
       "    <tr>\n",
       "      <th>0</th>\n",
       "      <td>172.10.132.6</td>\n",
       "      <td>NaN</td>\n",
       "      <td>NaN</td>\n",
       "      <td>NaN</td>\n",
       "      <td>172.10.132.6</td>\n",
       "      <td>RD</td>\n",
       "      <td>2</td>\n",
       "      <td>6</td>\n",
       "      <td>2022-07-01 10:11:08</td>\n",
       "      <td>fri</td>\n",
       "      <td>10:11:08</td>\n",
       "    </tr>\n",
       "    <tr>\n",
       "      <th>1</th>\n",
       "      <td>172.12.101.72</td>\n",
       "      <td>NaN</td>\n",
       "      <td>NaN</td>\n",
       "      <td>NaN</td>\n",
       "      <td>172.12.101.72</td>\n",
       "      <td>RD</td>\n",
       "      <td>2</td>\n",
       "      <td>6</td>\n",
       "      <td>2022-07-01 09:08:09</td>\n",
       "      <td>fri</td>\n",
       "      <td>09:08:09</td>\n",
       "    </tr>\n",
       "    <tr>\n",
       "      <th>2</th>\n",
       "      <td>172.12.101.72</td>\n",
       "      <td>NaN</td>\n",
       "      <td>NaN</td>\n",
       "      <td>NaN</td>\n",
       "      <td>172.12.101.72</td>\n",
       "      <td>RD</td>\n",
       "      <td>2</td>\n",
       "      <td>6</td>\n",
       "      <td>2022-07-01 09:08:27</td>\n",
       "      <td>fri</td>\n",
       "      <td>09:08:27</td>\n",
       "    </tr>\n",
       "    <tr>\n",
       "      <th>3</th>\n",
       "      <td>172.10.122.14</td>\n",
       "      <td>NaN</td>\n",
       "      <td>NaN</td>\n",
       "      <td>NaN</td>\n",
       "      <td>172.10.122.14</td>\n",
       "      <td>RD</td>\n",
       "      <td>2</td>\n",
       "      <td>6</td>\n",
       "      <td>2022-07-01 09:10:44</td>\n",
       "      <td>fri</td>\n",
       "      <td>09:10:44</td>\n",
       "    </tr>\n",
       "    <tr>\n",
       "      <th>4</th>\n",
       "      <td>2018041340</td>\n",
       "      <td>고다상</td>\n",
       "      <td>61111139</td>\n",
       "      <td>교량실</td>\n",
       "      <td>172.10.122.14</td>\n",
       "      <td>RD</td>\n",
       "      <td>2</td>\n",
       "      <td>6,7</td>\n",
       "      <td>2022-07-01 09:10:51</td>\n",
       "      <td>fri</td>\n",
       "      <td>09:10:51</td>\n",
       "    </tr>\n",
       "  </tbody>\n",
       "</table>\n",
       "</div>"
      ],
      "text/plain": [
       "     emp_user_id emp_user_name   dept_id dept_name        user_ip req_type  \\\n",
       "0   172.10.132.6           NaN       NaN       NaN   172.10.132.6       RD   \n",
       "1  172.12.101.72           NaN       NaN       NaN  172.12.101.72       RD   \n",
       "2  172.12.101.72           NaN       NaN       NaN  172.12.101.72       RD   \n",
       "3  172.10.122.14           NaN       NaN       NaN  172.10.122.14       RD   \n",
       "4     2018041340           고다상  61111139       교량실  172.10.122.14       RD   \n",
       "\n",
       "  system_seq result_type            datetime days      time  \n",
       "0          2           6 2022-07-01 10:11:08  fri  10:11:08  \n",
       "1          2           6 2022-07-01 09:08:09  fri  09:08:09  \n",
       "2          2           6 2022-07-01 09:08:27  fri  09:08:27  \n",
       "3          2           6 2022-07-01 09:10:44  fri  09:10:44  \n",
       "4          2         6,7 2022-07-01 09:10:51  fri  09:10:51  "
      ]
     },
     "execution_count": 16,
     "metadata": {},
     "output_type": "execute_result"
    }
   ],
   "source": [
    "cdata_v2.head()"
   ]
  },
  {
   "cell_type": "code",
   "execution_count": 17,
   "metadata": {},
   "outputs": [
    {
     "data": {
      "text/plain": [
       "array(['RD', 'CR', 'UD', 'DL', 'DN', 'PR'], dtype=object)"
      ]
     },
     "execution_count": 17,
     "metadata": {},
     "output_type": "execute_result"
    }
   ],
   "source": [
    "cdata_v2['req_type'].unique()"
   ]
  },
  {
   "cell_type": "code",
   "execution_count": 18,
   "metadata": {},
   "outputs": [
    {
     "data": {
      "text/plain": [
       "array(['2', '4', '5', '8', '9', '10', '12', '13', '14', '15', '3', '7'],\n",
       "      dtype=object)"
      ]
     },
     "execution_count": 18,
     "metadata": {},
     "output_type": "execute_result"
    }
   ],
   "source": [
    "cdata_v2['system_seq'].unique()"
   ]
  },
  {
   "cell_type": "code",
   "execution_count": 19,
   "metadata": {},
   "outputs": [],
   "source": [
    "cdata_v2.groupby('req_type').sum()"
   ]
  },
  {
   "cell_type": "code",
   "execution_count": null,
   "metadata": {},
   "outputs": [],
   "source": [
    "cdata_v2.groupby('system_seq').sum()"
   ]
  }
 ],
 "metadata": {
  "kernelspec": {
   "display_name": "Python 3",
   "language": "python",
   "name": "python3"
  },
  "language_info": {
   "codemirror_mode": {
    "name": "ipython",
    "version": 3
   },
   "file_extension": ".py",
   "mimetype": "text/x-python",
   "name": "python",
   "nbconvert_exporter": "python",
   "pygments_lexer": "ipython3",
   "version": "3.11.0"
  },
  "orig_nbformat": 4,
  "vscode": {
   "interpreter": {
    "hash": "c261aea317cc0286b3b3261fbba9abdec21eaa57589985bb7a274bf54d6cc0a7"
   }
  }
 },
 "nbformat": 4,
 "nbformat_minor": 2
}
