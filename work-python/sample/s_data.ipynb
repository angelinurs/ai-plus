{
 "cells": [
  {
   "cell_type": "code",
   "execution_count": 1,
   "metadata": {},
   "outputs": [],
   "source": [
    "import pandas as pd"
   ]
  },
  {
   "cell_type": "code",
   "execution_count": 2,
   "metadata": {},
   "outputs": [
    {
     "data": {
      "text/plain": [
       "21"
      ]
     },
     "execution_count": 2,
     "metadata": {},
     "output_type": "execute_result"
    }
   ],
   "source": [
    "columns = [\n",
    "            'log_seq', 'proc_date', 'proc_time', 'emp_user_id', 'emp_user_name', 'dept_id', \n",
    "            'dept_name', 'user_ip', 'user_id', 'scrn_id', 'scrn_name', 'req_type', 'system_seq', 'server_seq', \n",
    "            'req_context',\n",
    "            'req_url', \n",
    "            'req_end_time', 'result_type', 'file_name', 'reason', 'reason_codebiz_log_result_seq'    \n",
    "        ]\n",
    "len( columns )"
   ]
  },
  {
   "cell_type": "code",
   "execution_count": 3,
   "metadata": {},
   "outputs": [
    {
     "name": "stdout",
     "output_type": "stream",
     "text": [
      "file_list: ['s_0705.csv', 's_0710.csv', 's_0715.csv', 's_0720.csv', 's_0725.csv', 's_0731.csv', 's_0805.csv', 's_0810.csv', 's_0815.csv', 's_0820.csv', 's_0825.csv']\n"
     ]
    }
   ],
   "source": [
    "import os\n",
    "\n",
    "path = \"../data\"\n",
    "file_list = os.listdir(path)\n",
    "file_list = list(filter( lambda x: x.startswith('s_') and x.endswith( '.csv'), file_list ))\n",
    "print (\"file_list: {}\".format(file_list))"
   ]
  },
  {
   "cell_type": "code",
   "execution_count": 4,
   "metadata": {},
   "outputs": [],
   "source": [
    "clear_columns = [\n",
    "            'emp_user_id', 'emp_user_name', 'dept_id', \n",
    "            'dept_name', 'user_ip', 'req_type', 'system_seq', \n",
    "            'req_url', \n",
    "            'req_end_time', 'result_type',     \n",
    "        ]"
   ]
  },
  {
   "cell_type": "code",
   "execution_count": 8,
   "metadata": {},
   "outputs": [],
   "source": [
    "data_dict = dict()\n",
    "for file in file_list:\n",
    "    if file.startswith( 's_08'):\n",
    "        continue\n",
    "    \n",
    "    key = file.split('.')[0]\n",
    "    value = pd.read_csv( path + '/' + file, names=columns, sep=',')[clear_columns]\n",
    "    \n",
    "    data_dict.update( { key : value } )"
   ]
  },
  {
   "cell_type": "code",
   "execution_count": 9,
   "metadata": {},
   "outputs": [
    {
     "data": {
      "text/plain": [
       "dict_keys(['s_0705', 's_0710', 's_0715', 's_0720', 's_0725', 's_0731'])"
      ]
     },
     "execution_count": 9,
     "metadata": {},
     "output_type": "execute_result"
    }
   ],
   "source": [
    "data_dict.keys()"
   ]
  },
  {
   "cell_type": "code",
   "execution_count": 7,
   "metadata": {},
   "outputs": [
    {
     "data": {
      "text/html": [
       "<div>\n",
       "<style scoped>\n",
       "    .dataframe tbody tr th:only-of-type {\n",
       "        vertical-align: middle;\n",
       "    }\n",
       "\n",
       "    .dataframe tbody tr th {\n",
       "        vertical-align: top;\n",
       "    }\n",
       "\n",
       "    .dataframe thead th {\n",
       "        text-align: right;\n",
       "    }\n",
       "</style>\n",
       "<table border=\"1\" class=\"dataframe\">\n",
       "  <thead>\n",
       "    <tr style=\"text-align: right;\">\n",
       "      <th></th>\n",
       "      <th>emp_user_id</th>\n",
       "      <th>emp_user_name</th>\n",
       "      <th>dept_id</th>\n",
       "      <th>dept_name</th>\n",
       "      <th>user_ip</th>\n",
       "      <th>req_type</th>\n",
       "      <th>system_seq</th>\n",
       "      <th>req_url</th>\n",
       "      <th>req_end_time</th>\n",
       "      <th>result_type</th>\n",
       "    </tr>\n",
       "  </thead>\n",
       "  <tbody>\n",
       "    <tr>\n",
       "      <th>0</th>\n",
       "      <td>39.124.66.73</td>\n",
       "      <td>NaN</td>\n",
       "      <td>NaN</td>\n",
       "      <td>NaN</td>\n",
       "      <td>39.124.66.73</td>\n",
       "      <td>RD</td>\n",
       "      <td>4</td>\n",
       "      <td>https://www.fms.or.kr/com/redirectEx.do?reqUrl...</td>\n",
       "      <td>20220821000046</td>\n",
       "      <td>6</td>\n",
       "    </tr>\n",
       "    <tr>\n",
       "      <th>1</th>\n",
       "      <td>14.40.87.44</td>\n",
       "      <td>NaN</td>\n",
       "      <td>NaN</td>\n",
       "      <td>NaN</td>\n",
       "      <td>14.40.87.44</td>\n",
       "      <td>RD</td>\n",
       "      <td>4</td>\n",
       "      <td>https://www.fms.or.kr/edoc/pd/opn01003_edit.do...</td>\n",
       "      <td>20220821000408</td>\n",
       "      <td>6</td>\n",
       "    </tr>\n",
       "    <tr>\n",
       "      <th>2</th>\n",
       "      <td>14.40.87.44</td>\n",
       "      <td>NaN</td>\n",
       "      <td>NaN</td>\n",
       "      <td>NaN</td>\n",
       "      <td>14.40.87.44</td>\n",
       "      <td>RD</td>\n",
       "      <td>4</td>\n",
       "      <td>https://www.fms.or.kr/edoc/pd/opn01003_edit.do...</td>\n",
       "      <td>20220821000433</td>\n",
       "      <td>6</td>\n",
       "    </tr>\n",
       "    <tr>\n",
       "      <th>3</th>\n",
       "      <td>207.46.13.163</td>\n",
       "      <td>NaN</td>\n",
       "      <td>NaN</td>\n",
       "      <td>NaN</td>\n",
       "      <td>207.46.13.163</td>\n",
       "      <td>RD</td>\n",
       "      <td>4</td>\n",
       "      <td>https://www.fms.or.kr/com/redirectEx.do?reqUrl...</td>\n",
       "      <td>20220821000447</td>\n",
       "      <td>6</td>\n",
       "    </tr>\n",
       "    <tr>\n",
       "      <th>4</th>\n",
       "      <td>14.40.87.44</td>\n",
       "      <td>NaN</td>\n",
       "      <td>NaN</td>\n",
       "      <td>NaN</td>\n",
       "      <td>14.40.87.44</td>\n",
       "      <td>RD</td>\n",
       "      <td>4</td>\n",
       "      <td>https://www.fms.or.kr/facility/bas11001_list.d...</td>\n",
       "      <td>20220821000639</td>\n",
       "      <td>6</td>\n",
       "    </tr>\n",
       "    <tr>\n",
       "      <th>...</th>\n",
       "      <td>...</td>\n",
       "      <td>...</td>\n",
       "      <td>...</td>\n",
       "      <td>...</td>\n",
       "      <td>...</td>\n",
       "      <td>...</td>\n",
       "      <td>...</td>\n",
       "      <td>...</td>\n",
       "      <td>...</td>\n",
       "      <td>...</td>\n",
       "    </tr>\n",
       "    <tr>\n",
       "      <th>1209620</th>\n",
       "      <td>115.91.52.125</td>\n",
       "      <td>NaN</td>\n",
       "      <td>NaN</td>\n",
       "      <td>NaN</td>\n",
       "      <td>115.91.52.125</td>\n",
       "      <td>RD</td>\n",
       "      <td>10</td>\n",
       "      <td>https://www.kalisedu.or.kr/user/Main.do</td>\n",
       "      <td>20221012104507</td>\n",
       "      <td>6,6,6,6</td>\n",
       "    </tr>\n",
       "    <tr>\n",
       "      <th>1209621</th>\n",
       "      <td>210.91.70.182</td>\n",
       "      <td>NaN</td>\n",
       "      <td>NaN</td>\n",
       "      <td>NaN</td>\n",
       "      <td>210.91.70.182</td>\n",
       "      <td>RD</td>\n",
       "      <td>10</td>\n",
       "      <td>https://www.kalisedu.or.kr/user/Main.do</td>\n",
       "      <td>20221012104508</td>\n",
       "      <td>6,6,6,6</td>\n",
       "    </tr>\n",
       "    <tr>\n",
       "      <th>1209622</th>\n",
       "      <td>JTW605</td>\n",
       "      <td>전태원</td>\n",
       "      <td>E00028</td>\n",
       "      <td>(사)대한산업안전협회</td>\n",
       "      <td>14.36.193.72</td>\n",
       "      <td>RD</td>\n",
       "      <td>10</td>\n",
       "      <td>https://www.kalisedu.or.kr/user/intro/IntroUse...</td>\n",
       "      <td>20221012104509</td>\n",
       "      <td>6,6,6,6,6</td>\n",
       "    </tr>\n",
       "    <tr>\n",
       "      <th>1209623</th>\n",
       "      <td>NaN</td>\n",
       "      <td>NaN</td>\n",
       "      <td>NaN</td>\n",
       "      <td>NaN</td>\n",
       "      <td>217.113.194.58</td>\n",
       "      <td>RD</td>\n",
       "      <td>10</td>\n",
       "      <td>https://www.kalisedu.or.kr/user/Copyright.do</td>\n",
       "      <td>20221012104510</td>\n",
       "      <td>6,6,6,6</td>\n",
       "    </tr>\n",
       "    <tr>\n",
       "      <th>1209624</th>\n",
       "      <td>115.91.52.125</td>\n",
       "      <td>NaN</td>\n",
       "      <td>NaN</td>\n",
       "      <td>NaN</td>\n",
       "      <td>115.91.52.125</td>\n",
       "      <td>RD</td>\n",
       "      <td>10</td>\n",
       "      <td>https://www.kalisedu.or.kr/user/Main.do?_login=1</td>\n",
       "      <td>20221012104510</td>\n",
       "      <td>6,6,6,6</td>\n",
       "    </tr>\n",
       "  </tbody>\n",
       "</table>\n",
       "<p>1209625 rows × 10 columns</p>\n",
       "</div>"
      ],
      "text/plain": [
       "           emp_user_id emp_user_name dept_id    dept_name         user_ip  \\\n",
       "0         39.124.66.73           NaN     NaN          NaN    39.124.66.73   \n",
       "1          14.40.87.44           NaN     NaN          NaN     14.40.87.44   \n",
       "2          14.40.87.44           NaN     NaN          NaN     14.40.87.44   \n",
       "3        207.46.13.163           NaN     NaN          NaN   207.46.13.163   \n",
       "4          14.40.87.44           NaN     NaN          NaN     14.40.87.44   \n",
       "...                ...           ...     ...          ...             ...   \n",
       "1209620  115.91.52.125           NaN     NaN          NaN   115.91.52.125   \n",
       "1209621  210.91.70.182           NaN     NaN          NaN   210.91.70.182   \n",
       "1209622         JTW605           전태원  E00028  (사)대한산업안전협회    14.36.193.72   \n",
       "1209623            NaN           NaN     NaN          NaN  217.113.194.58   \n",
       "1209624  115.91.52.125           NaN     NaN          NaN   115.91.52.125   \n",
       "\n",
       "        req_type  system_seq  \\\n",
       "0             RD           4   \n",
       "1             RD           4   \n",
       "2             RD           4   \n",
       "3             RD           4   \n",
       "4             RD           4   \n",
       "...          ...         ...   \n",
       "1209620       RD          10   \n",
       "1209621       RD          10   \n",
       "1209622       RD          10   \n",
       "1209623       RD          10   \n",
       "1209624       RD          10   \n",
       "\n",
       "                                                   req_url    req_end_time  \\\n",
       "0        https://www.fms.or.kr/com/redirectEx.do?reqUrl...  20220821000046   \n",
       "1        https://www.fms.or.kr/edoc/pd/opn01003_edit.do...  20220821000408   \n",
       "2        https://www.fms.or.kr/edoc/pd/opn01003_edit.do...  20220821000433   \n",
       "3        https://www.fms.or.kr/com/redirectEx.do?reqUrl...  20220821000447   \n",
       "4        https://www.fms.or.kr/facility/bas11001_list.d...  20220821000639   \n",
       "...                                                    ...             ...   \n",
       "1209620            https://www.kalisedu.or.kr/user/Main.do  20221012104507   \n",
       "1209621            https://www.kalisedu.or.kr/user/Main.do  20221012104508   \n",
       "1209622  https://www.kalisedu.or.kr/user/intro/IntroUse...  20221012104509   \n",
       "1209623       https://www.kalisedu.or.kr/user/Copyright.do  20221012104510   \n",
       "1209624   https://www.kalisedu.or.kr/user/Main.do?_login=1  20221012104510   \n",
       "\n",
       "        result_type  \n",
       "0                 6  \n",
       "1                 6  \n",
       "2                 6  \n",
       "3                 6  \n",
       "4                 6  \n",
       "...             ...  \n",
       "1209620     6,6,6,6  \n",
       "1209621     6,6,6,6  \n",
       "1209622   6,6,6,6,6  \n",
       "1209623     6,6,6,6  \n",
       "1209624     6,6,6,6  \n",
       "\n",
       "[1209625 rows x 10 columns]"
      ]
     },
     "execution_count": 7,
     "metadata": {},
     "output_type": "execute_result"
    }
   ],
   "source": [
    "# data_dict.get('s_0825')"
   ]
  },
  {
   "cell_type": "code",
   "execution_count": 10,
   "metadata": {},
   "outputs": [],
   "source": [
    "data = pd.concat( data_dict.values() )"
   ]
  },
  {
   "cell_type": "code",
   "execution_count": 11,
   "metadata": {},
   "outputs": [],
   "source": [
    "del( data_dict )"
   ]
  },
  {
   "cell_type": "code",
   "execution_count": 9,
   "metadata": {},
   "outputs": [
    {
     "data": {
      "text/plain": [
       "(41705360, 21)"
      ]
     },
     "execution_count": 9,
     "metadata": {},
     "output_type": "execute_result"
    }
   ],
   "source": [
    "data.shape"
   ]
  },
  {
   "cell_type": "code",
   "execution_count": 12,
   "metadata": {},
   "outputs": [
    {
     "data": {
      "text/plain": [
       "(30879001, 10)"
      ]
     },
     "execution_count": 12,
     "metadata": {},
     "output_type": "execute_result"
    }
   ],
   "source": [
    "data.shape"
   ]
  },
  {
   "cell_type": "code",
   "execution_count": 13,
   "metadata": {},
   "outputs": [
    {
     "data": {
      "text/plain": [
       "emp_user_id        404508\n",
       "emp_user_name    15463976\n",
       "dept_id          15565535\n",
       "dept_name        16161006\n",
       "user_ip                 0\n",
       "req_type                0\n",
       "system_seq              0\n",
       "req_url                 0\n",
       "req_end_time            0\n",
       "result_type             0\n",
       "dtype: int64"
      ]
     },
     "execution_count": 13,
     "metadata": {},
     "output_type": "execute_result"
    }
   ],
   "source": [
    "data.isnull().sum()"
   ]
  },
  {
   "cell_type": "code",
   "execution_count": 11,
   "metadata": {},
   "outputs": [],
   "source": [
    "clear_columns = [\n",
    "            'emp_user_id', 'emp_user_name', 'dept_id', \n",
    "            'dept_name', 'user_ip', 'req_type', 'system_seq', \n",
    "            'req_url', \n",
    "            'req_end_time', 'result_type',     \n",
    "        ]"
   ]
  },
  {
   "cell_type": "code",
   "execution_count": 13,
   "metadata": {},
   "outputs": [],
   "source": [
    "cdata = data[ clear_columns ]"
   ]
  },
  {
   "cell_type": "code",
   "execution_count": 14,
   "metadata": {},
   "outputs": [],
   "source": [
    "data.to_csv( path_or_buf=path + '/cdata_07.csv', mode='w', index=False )"
   ]
  },
  {
   "cell_type": "code",
   "execution_count": null,
   "metadata": {},
   "outputs": [],
   "source": [
    "# cdata.to_csv( path_or_buf=path + '/cdata_07.csv', mode='w', index=False )"
   ]
  }
 ],
 "metadata": {
  "kernelspec": {
   "display_name": "Python 3",
   "language": "python",
   "name": "python3"
  },
  "language_info": {
   "codemirror_mode": {
    "name": "ipython",
    "version": 3
   },
   "file_extension": ".py",
   "mimetype": "text/x-python",
   "name": "python",
   "nbconvert_exporter": "python",
   "pygments_lexer": "ipython3",
   "version": "3.11.0"
  },
  "orig_nbformat": 4,
  "vscode": {
   "interpreter": {
    "hash": "c261aea317cc0286b3b3261fbba9abdec21eaa57589985bb7a274bf54d6cc0a7"
   }
  }
 },
 "nbformat": 4,
 "nbformat_minor": 2
}
