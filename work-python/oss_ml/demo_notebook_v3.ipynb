{
 "cells": [
  {
   "cell_type": "markdown",
   "metadata": {},
   "source": [
    "# Demo Notebook for Dataframe\n",
    "\n",
    "#### [Download notebook](https://github.com/opensearch-project/opensearch-py-ml/blob/main/docs/source/examples/demo_notebook.ipynb)"
   ]
  },
  {
   "cell_type": "markdown",
   "metadata": {
    "pycharm": {
     "name": "#%% md\n"
    }
   },
   "source": [
    "## Step 0: Imports"
   ]
  },
  {
   "cell_type": "code",
   "execution_count": 2,
   "metadata": {},
   "outputs": [],
   "source": [
    "%load_ext autoreload\n",
    "%autoreload 2"
   ]
  },
  {
   "cell_type": "code",
   "execution_count": 3,
   "metadata": {},
   "outputs": [],
   "source": [
    "# import this to stop opensearch-py-ml from yelling every time a DataFrame connection made\n",
    "import warnings\n",
    "warnings.filterwarnings('ignore')"
   ]
  },
  {
   "cell_type": "code",
   "execution_count": 4,
   "metadata": {
    "execution": {
     "iopub.execute_input": "2021-12-15T20:24:28.813370Z",
     "iopub.status.busy": "2021-12-15T20:24:28.802670Z",
     "iopub.status.idle": "2021-12-15T20:24:30.192643Z",
     "shell.execute_reply": "2021-12-15T20:24:30.192931Z"
    },
    "pycharm": {
     "is_executing": true
    }
   },
   "outputs": [],
   "source": [
    "# imports to demonstrate DataFrame support\n",
    "import pandas as pd\n",
    "import numpy as np\n",
    "import matplotlib.pyplot as plt\n",
    "import opensearch_py_ml as oml\n",
    "from opensearchpy import OpenSearch\n",
    "\n",
    "# Import standard test settings for consistent results\n",
    "from opensearch_py_ml.conftest import *"
   ]
  },
  {
   "cell_type": "markdown",
   "metadata": {},
   "source": [
    "## Step 1: Setup clients"
   ]
  },
  {
   "cell_type": "code",
   "execution_count": 5,
   "metadata": {},
   "outputs": [],
   "source": [
    "# CLUSTER_URL = 'https://localhost:9200'\n",
    "CLUSTER_URL = 'default-opensearch-node1-0c190-1595032-15144b153298.kr-gov.lb.naverncp.com'\n",
    "\n",
    "def get_os_client(cluster_url = CLUSTER_URL,\n",
    "                  username='admin',\n",
    "                  password='admin'):\n",
    "    '''\n",
    "    Get OpenSearch client\n",
    "    :param cluster_url: cluster URL like https://ml-te-netwo-1s12ba42br23v-ff1736fa7db98ff2.elb.us-west-2.amazonaws.com:443\n",
    "    :return: OpenSearch client\n",
    "    '''\n",
    "    client = OpenSearch(\n",
    "        hosts = [{\"host\": \"default-opensearch-node1-0c190-1595032-15144b153298.kr-gov.lb.naverncp.com\", \"port\": 9200}],\n",
    "        http_auth = (\"admin\", \"admin\"),\n",
    "        use_ssl = True,\n",
    "        verify_certs = False,\n",
    "        ssl_assert_hostname = False,\n",
    "        ssl_show_warn = False,\n",
    "    )\n",
    "    \n",
    "    return client"
   ]
  },
  {
   "cell_type": "code",
   "execution_count": 6,
   "metadata": {},
   "outputs": [],
   "source": [
    "client = get_os_client()"
   ]
  },
  {
   "cell_type": "markdown",
   "metadata": {},
   "source": [
    "## Comparing similarities and differences between panda dataframe vs opensearch_py_ml dataframe"
   ]
  },
  {
   "cell_type": "markdown",
   "metadata": {},
   "source": [
    "Create an opensearch_py_ml.DataFrame from a `flights` index"
   ]
  },
  {
   "cell_type": "code",
   "execution_count": 7,
   "metadata": {
    "execution": {
     "iopub.execute_input": "2021-12-15T20:24:30.195931Z",
     "iopub.status.busy": "2021-12-15T20:24:30.195563Z",
     "iopub.status.idle": "2021-12-15T20:24:30.668077Z",
     "shell.execute_reply": "2021-12-15T20:24:30.667531Z"
    },
    "pycharm": {
     "is_executing": false
    }
   },
   "outputs": [],
   "source": [
    "oml_biz_log = oml.DataFrame(client, 'biz_logs_v2')"
   ]
  },
  {
   "cell_type": "code",
   "execution_count": 8,
   "metadata": {
    "execution": {
     "iopub.execute_input": "2021-12-15T20:24:30.673583Z",
     "iopub.status.busy": "2021-12-15T20:24:30.673088Z",
     "iopub.status.idle": "2021-12-15T20:24:30.677254Z",
     "shell.execute_reply": "2021-12-15T20:24:30.677676Z"
    },
    "pycharm": {
     "is_executing": false
    }
   },
   "outputs": [
    {
     "data": {
      "text/plain": [
       "opensearch_py_ml.dataframe.DataFrame"
      ]
     },
     "execution_count": 8,
     "metadata": {},
     "output_type": "execute_result"
    }
   ],
   "source": [
    "type(oml_biz_log)"
   ]
  },
  {
   "cell_type": "markdown",
   "metadata": {},
   "source": [
    "Compare to pandas DataFrame (created from the same data)"
   ]
  },
  {
   "cell_type": "code",
   "execution_count": 15,
   "metadata": {
    "execution": {
     "iopub.execute_input": "2021-12-15T20:24:30.682438Z",
     "iopub.status.busy": "2021-12-15T20:24:30.681925Z",
     "iopub.status.idle": "2021-12-15T20:24:35.046707Z",
     "shell.execute_reply": "2021-12-15T20:24:35.046060Z"
    },
    "pycharm": {
     "is_executing": false
    }
   },
   "outputs": [],
   "source": [
    "pd_biz_log = oml.opensearch_to_pandas(oml_biz_log)"
   ]
  },
  {
   "cell_type": "code",
   "execution_count": 16,
   "metadata": {
    "execution": {
     "iopub.execute_input": "2021-12-15T20:24:35.050698Z",
     "iopub.status.busy": "2021-12-15T20:24:35.050158Z",
     "iopub.status.idle": "2021-12-15T20:24:35.053100Z",
     "shell.execute_reply": "2021-12-15T20:24:35.052560Z"
    },
    "pycharm": {
     "is_executing": false
    }
   },
   "outputs": [
    {
     "data": {
      "text/plain": [
       "pandas.core.frame.DataFrame"
      ]
     },
     "execution_count": 16,
     "metadata": {},
     "output_type": "execute_result"
    }
   ],
   "source": [
    "type(pd_biz_log)"
   ]
  },
  {
   "cell_type": "markdown",
   "metadata": {},
   "source": [
    "## Attributes and underlying data"
   ]
  },
  {
   "cell_type": "markdown",
   "metadata": {},
   "source": [
    "### DataFrame.columns"
   ]
  },
  {
   "cell_type": "code",
   "execution_count": 16,
   "metadata": {
    "execution": {
     "iopub.execute_input": "2021-12-15T20:24:35.057245Z",
     "iopub.status.busy": "2021-12-15T20:24:35.056812Z",
     "iopub.status.idle": "2021-12-15T20:24:35.059852Z",
     "shell.execute_reply": "2021-12-15T20:24:35.059182Z"
    },
    "pycharm": {
     "is_executing": false
    }
   },
   "outputs": [
    {
     "data": {
      "text/plain": [
       "Index(['busi_cd', 'busi_dtl_contn', 'button_cd', 'dept_cd', 'emp_cd', 'hq_cd', 'inq_reason',\n",
       "       'inq_seq', 'join_ssn', 'log_agency_cd', 'log_seq', 'org_cd', 'per_inf_cd', 'prg_id',\n",
       "       'proc_date', 'proc_hour', 'proc_time', 'recv_no', 'recv_yyyy', 'req_url', 'sear_val',\n",
       "       'sys_cd', 'user_id', 'user_ip', 'ykiho_cd'],\n",
       "      dtype='object')"
      ]
     },
     "execution_count": 16,
     "metadata": {},
     "output_type": "execute_result"
    }
   ],
   "source": [
    "pd_biz_log.columns"
   ]
  },
  {
   "cell_type": "code",
   "execution_count": 17,
   "metadata": {
    "execution": {
     "iopub.execute_input": "2021-12-15T20:24:35.063057Z",
     "iopub.status.busy": "2021-12-15T20:24:35.062660Z",
     "iopub.status.idle": "2021-12-15T20:24:35.065130Z",
     "shell.execute_reply": "2021-12-15T20:24:35.064757Z"
    },
    "pycharm": {
     "is_executing": false
    }
   },
   "outputs": [
    {
     "data": {
      "text/plain": [
       "Index(['busi_cd', 'busi_dtl_contn', 'button_cd', 'dept_cd', 'emp_cd', 'hq_cd', 'inq_reason',\n",
       "       'inq_seq', 'join_ssn', 'log_agency_cd', 'log_seq', 'org_cd', 'per_inf_cd', 'prg_id',\n",
       "       'proc_date', 'proc_hour', 'proc_time', 'recv_no', 'recv_yyyy', 'req_url', 'sear_val',\n",
       "       'sys_cd', 'user_id', 'user_ip', 'ykiho_cd'],\n",
       "      dtype='object')"
      ]
     },
     "execution_count": 17,
     "metadata": {},
     "output_type": "execute_result"
    }
   ],
   "source": [
    "oml_biz_log.columns"
   ]
  },
  {
   "cell_type": "markdown",
   "metadata": {},
   "source": [
    "### DataFrame.dtypes"
   ]
  },
  {
   "cell_type": "code",
   "execution_count": 18,
   "metadata": {
    "execution": {
     "iopub.execute_input": "2021-12-15T20:24:35.076896Z",
     "iopub.status.busy": "2021-12-15T20:24:35.076493Z",
     "iopub.status.idle": "2021-12-15T20:24:35.079007Z",
     "shell.execute_reply": "2021-12-15T20:24:35.078592Z"
    },
    "pycharm": {
     "is_executing": false
    }
   },
   "outputs": [
    {
     "data": {
      "text/plain": [
       "busi_cd            object\n",
       "busi_dtl_contn     object\n",
       "button_cd          object\n",
       "dept_cd            object\n",
       "emp_cd            float64\n",
       "                   ...   \n",
       "sear_val           object\n",
       "sys_cd             object\n",
       "user_id           float64\n",
       "user_ip            object\n",
       "ykiho_cd           object\n",
       "Length: 25, dtype: object"
      ]
     },
     "execution_count": 18,
     "metadata": {},
     "output_type": "execute_result"
    }
   ],
   "source": [
    "pd_biz_log.dtypes"
   ]
  },
  {
   "cell_type": "code",
   "execution_count": 19,
   "metadata": {
    "execution": {
     "iopub.execute_input": "2021-12-15T20:24:35.083103Z",
     "iopub.status.busy": "2021-12-15T20:24:35.082693Z",
     "iopub.status.idle": "2021-12-15T20:24:35.085336Z",
     "shell.execute_reply": "2021-12-15T20:24:35.084836Z"
    },
    "pycharm": {
     "is_executing": false
    }
   },
   "outputs": [
    {
     "data": {
      "text/plain": [
       "busi_cd           object\n",
       "busi_dtl_contn    object\n",
       "button_cd         object\n",
       "dept_cd           object\n",
       "emp_cd            object\n",
       "                   ...  \n",
       "sear_val          object\n",
       "sys_cd            object\n",
       "user_id           object\n",
       "user_ip           object\n",
       "ykiho_cd          object\n",
       "Length: 25, dtype: object"
      ]
     },
     "execution_count": 19,
     "metadata": {},
     "output_type": "execute_result"
    }
   ],
   "source": [
    "oml_biz_log.dtypes"
   ]
  },
  {
   "cell_type": "markdown",
   "metadata": {},
   "source": [
    "### DataFrame.select_dtypes"
   ]
  },
  {
   "cell_type": "code",
   "execution_count": 20,
   "metadata": {
    "execution": {
     "iopub.execute_input": "2021-12-15T20:24:35.090387Z",
     "iopub.status.busy": "2021-12-15T20:24:35.089910Z",
     "iopub.status.idle": "2021-12-15T20:24:35.113517Z",
     "shell.execute_reply": "2021-12-15T20:24:35.113801Z"
    },
    "pycharm": {
     "is_executing": false
    }
   },
   "outputs": [
    {
     "data": {
      "text/html": [
       "<div>\n",
       "<style scoped>\n",
       "    .dataframe tbody tr th:only-of-type {\n",
       "        vertical-align: middle;\n",
       "    }\n",
       "\n",
       "    .dataframe tbody tr th {\n",
       "        vertical-align: top;\n",
       "    }\n",
       "\n",
       "    .dataframe thead th {\n",
       "        text-align: right;\n",
       "    }\n",
       "</style>\n",
       "<table border=\"1\" class=\"dataframe\">\n",
       "  <thead>\n",
       "    <tr style=\"text-align: right;\">\n",
       "      <th></th>\n",
       "      <th>emp_cd</th>\n",
       "      <th>inq_seq</th>\n",
       "      <th>...</th>\n",
       "      <th>proc_time</th>\n",
       "      <th>user_id</th>\n",
       "    </tr>\n",
       "  </thead>\n",
       "  <tbody>\n",
       "    <tr>\n",
       "      <th>0</th>\n",
       "      <td>20150068.0</td>\n",
       "      <td>6626256.0</td>\n",
       "      <td>...</td>\n",
       "      <td>36.0</td>\n",
       "      <td>20150068.0</td>\n",
       "    </tr>\n",
       "    <tr>\n",
       "      <th>1</th>\n",
       "      <td>20150068.0</td>\n",
       "      <td>6626255.0</td>\n",
       "      <td>...</td>\n",
       "      <td>35.0</td>\n",
       "      <td>20150068.0</td>\n",
       "    </tr>\n",
       "    <tr>\n",
       "      <th>2</th>\n",
       "      <td>20150068.0</td>\n",
       "      <td>6626254.0</td>\n",
       "      <td>...</td>\n",
       "      <td>38.0</td>\n",
       "      <td>20150068.0</td>\n",
       "    </tr>\n",
       "    <tr>\n",
       "      <th>3</th>\n",
       "      <td>20150068.0</td>\n",
       "      <td>6626253.0</td>\n",
       "      <td>...</td>\n",
       "      <td>36.0</td>\n",
       "      <td>20150068.0</td>\n",
       "    </tr>\n",
       "    <tr>\n",
       "      <th>4</th>\n",
       "      <td>20162405.0</td>\n",
       "      <td>6626379.0</td>\n",
       "      <td>...</td>\n",
       "      <td>21.0</td>\n",
       "      <td>20162405.0</td>\n",
       "    </tr>\n",
       "    <tr>\n",
       "      <th>...</th>\n",
       "      <td>...</td>\n",
       "      <td>...</td>\n",
       "      <td>...</td>\n",
       "      <td>...</td>\n",
       "      <td>...</td>\n",
       "    </tr>\n",
       "    <tr>\n",
       "      <th>7780</th>\n",
       "      <td>20060107.0</td>\n",
       "      <td>27124648.0</td>\n",
       "      <td>...</td>\n",
       "      <td>50.0</td>\n",
       "      <td>20060107.0</td>\n",
       "    </tr>\n",
       "    <tr>\n",
       "      <th>7781</th>\n",
       "      <td>19930011.0</td>\n",
       "      <td>27124647.0</td>\n",
       "      <td>...</td>\n",
       "      <td>32.0</td>\n",
       "      <td>19930011.0</td>\n",
       "    </tr>\n",
       "    <tr>\n",
       "      <th>7782</th>\n",
       "      <td>19930011.0</td>\n",
       "      <td>27124646.0</td>\n",
       "      <td>...</td>\n",
       "      <td>37.0</td>\n",
       "      <td>19930011.0</td>\n",
       "    </tr>\n",
       "    <tr>\n",
       "      <th>7783</th>\n",
       "      <td>19930011.0</td>\n",
       "      <td>27124645.0</td>\n",
       "      <td>...</td>\n",
       "      <td>35.0</td>\n",
       "      <td>19930011.0</td>\n",
       "    </tr>\n",
       "    <tr>\n",
       "      <th>7784</th>\n",
       "      <td>20162405.0</td>\n",
       "      <td>6626318.0</td>\n",
       "      <td>...</td>\n",
       "      <td>32.0</td>\n",
       "      <td>20162405.0</td>\n",
       "    </tr>\n",
       "  </tbody>\n",
       "</table>\n",
       "<p>7783 rows × 6 columns</p>\n",
       "</div>"
      ],
      "text/plain": [
       "          emp_cd     inq_seq  ...  proc_time     user_id\n",
       "0     20150068.0   6626256.0  ...       36.0  20150068.0\n",
       "1     20150068.0   6626255.0  ...       35.0  20150068.0\n",
       "2     20150068.0   6626254.0  ...       38.0  20150068.0\n",
       "3     20150068.0   6626253.0  ...       36.0  20150068.0\n",
       "4     20162405.0   6626379.0  ...       21.0  20162405.0\n",
       "...          ...         ...  ...        ...         ...\n",
       "7780  20060107.0  27124648.0  ...       50.0  20060107.0\n",
       "7781  19930011.0  27124647.0  ...       32.0  19930011.0\n",
       "7782  19930011.0  27124646.0  ...       37.0  19930011.0\n",
       "7783  19930011.0  27124645.0  ...       35.0  19930011.0\n",
       "7784  20162405.0   6626318.0  ...       32.0  20162405.0\n",
       "\n",
       "[7783 rows x 6 columns]"
      ]
     },
     "execution_count": 20,
     "metadata": {},
     "output_type": "execute_result"
    }
   ],
   "source": [
    "pd_biz_log.select_dtypes(include=np.number)"
   ]
  },
  {
   "cell_type": "code",
   "execution_count": 21,
   "metadata": {
    "execution": {
     "iopub.execute_input": "2021-12-15T20:24:35.131083Z",
     "iopub.status.busy": "2021-12-15T20:24:35.130699Z",
     "iopub.status.idle": "2021-12-15T20:24:38.362018Z",
     "shell.execute_reply": "2021-12-15T20:24:38.360520Z"
    },
    "pycharm": {
     "is_executing": false
    }
   },
   "outputs": [
    {
     "data": {
      "text/html": [
       "<div>\n",
       "<style scoped>\n",
       "    .dataframe tbody tr th:only-of-type {\n",
       "        vertical-align: middle;\n",
       "    }\n",
       "\n",
       "    .dataframe tbody tr th {\n",
       "        vertical-align: top;\n",
       "    }\n",
       "\n",
       "    .dataframe thead th {\n",
       "        text-align: right;\n",
       "    }\n",
       "</style>\n",
       "<table border=\"1\" class=\"dataframe\">\n",
       "  <thead>\n",
       "    <tr style=\"text-align: right;\">\n",
       "      <th></th>\n",
       "    </tr>\n",
       "  </thead>\n",
       "  <tbody>\n",
       "    <tr>\n",
       "      <th>0</th>\n",
       "    </tr>\n",
       "    <tr>\n",
       "      <th>1</th>\n",
       "    </tr>\n",
       "    <tr>\n",
       "      <th>2</th>\n",
       "    </tr>\n",
       "    <tr>\n",
       "      <th>3</th>\n",
       "    </tr>\n",
       "    <tr>\n",
       "      <th>4</th>\n",
       "    </tr>\n",
       "    <tr>\n",
       "      <th>...</th>\n",
       "    </tr>\n",
       "    <tr>\n",
       "      <th>7780</th>\n",
       "    </tr>\n",
       "    <tr>\n",
       "      <th>7781</th>\n",
       "    </tr>\n",
       "    <tr>\n",
       "      <th>7782</th>\n",
       "    </tr>\n",
       "    <tr>\n",
       "      <th>7783</th>\n",
       "    </tr>\n",
       "    <tr>\n",
       "      <th>7784</th>\n",
       "    </tr>\n",
       "  </tbody>\n",
       "</table>\n",
       "</div>\n",
       "<p>7783 rows × 0 columns</p>"
      ],
      "text/plain": [
       "Empty DataFrame\n",
       "Columns: []\n",
       "Index: [0, 1, 2, 3, 4, 5, 7780, 7781, 7782, 7783, 7784]\n",
       "\n",
       "[7783 rows x 0 columns]"
      ]
     },
     "execution_count": 21,
     "metadata": {},
     "output_type": "execute_result"
    }
   ],
   "source": [
    "oml_biz_log.select_dtypes(include=np.number)"
   ]
  },
  {
   "cell_type": "markdown",
   "metadata": {},
   "source": [
    "### DataFrame.empty"
   ]
  },
  {
   "cell_type": "code",
   "execution_count": 22,
   "metadata": {
    "execution": {
     "iopub.execute_input": "2021-12-15T20:24:38.376647Z",
     "iopub.status.busy": "2021-12-15T20:24:38.374422Z",
     "iopub.status.idle": "2021-12-15T20:24:38.382068Z",
     "shell.execute_reply": "2021-12-15T20:24:38.383242Z"
    },
    "pycharm": {
     "is_executing": false
    }
   },
   "outputs": [
    {
     "data": {
      "text/plain": [
       "False"
      ]
     },
     "execution_count": 22,
     "metadata": {},
     "output_type": "execute_result"
    }
   ],
   "source": [
    "pd_biz_log.empty"
   ]
  },
  {
   "cell_type": "code",
   "execution_count": 23,
   "metadata": {
    "execution": {
     "iopub.execute_input": "2021-12-15T20:24:38.391560Z",
     "iopub.status.busy": "2021-12-15T20:24:38.390590Z",
     "iopub.status.idle": "2021-12-15T20:24:38.463948Z",
     "shell.execute_reply": "2021-12-15T20:24:38.463507Z"
    },
    "pycharm": {
     "is_executing": false
    }
   },
   "outputs": [
    {
     "data": {
      "text/plain": [
       "False"
      ]
     },
     "execution_count": 23,
     "metadata": {},
     "output_type": "execute_result"
    }
   ],
   "source": [
    "oml_biz_log.empty"
   ]
  },
  {
   "cell_type": "markdown",
   "metadata": {},
   "source": [
    "### DataFrame.shape"
   ]
  },
  {
   "cell_type": "code",
   "execution_count": 24,
   "metadata": {
    "execution": {
     "iopub.execute_input": "2021-12-15T20:24:38.467067Z",
     "iopub.status.busy": "2021-12-15T20:24:38.466671Z",
     "iopub.status.idle": "2021-12-15T20:24:38.469107Z",
     "shell.execute_reply": "2021-12-15T20:24:38.468710Z"
    },
    "pycharm": {
     "is_executing": false
    }
   },
   "outputs": [
    {
     "data": {
      "text/plain": [
       "(7783, 25)"
      ]
     },
     "execution_count": 24,
     "metadata": {},
     "output_type": "execute_result"
    }
   ],
   "source": [
    "pd_biz_log.shape"
   ]
  },
  {
   "cell_type": "code",
   "execution_count": 25,
   "metadata": {
    "execution": {
     "iopub.execute_input": "2021-12-15T20:24:38.471904Z",
     "iopub.status.busy": "2021-12-15T20:24:38.471491Z",
     "iopub.status.idle": "2021-12-15T20:24:38.558583Z",
     "shell.execute_reply": "2021-12-15T20:24:38.557300Z"
    },
    "pycharm": {
     "is_executing": false
    }
   },
   "outputs": [
    {
     "data": {
      "text/plain": [
       "(7783, 25)"
      ]
     },
     "execution_count": 25,
     "metadata": {},
     "output_type": "execute_result"
    }
   ],
   "source": [
    "oml_biz_log.shape"
   ]
  },
  {
   "cell_type": "markdown",
   "metadata": {},
   "source": [
    "### DataFrame.index\n",
    "\n",
    "Note, `opensearch_py_ml.DataFrame.index` does not mirror `pandas.DataFrame.index`. "
   ]
  },
  {
   "cell_type": "code",
   "execution_count": 26,
   "metadata": {
    "execution": {
     "iopub.execute_input": "2021-12-15T20:24:38.569600Z",
     "iopub.status.busy": "2021-12-15T20:24:38.568315Z",
     "iopub.status.idle": "2021-12-15T20:24:38.575273Z",
     "shell.execute_reply": "2021-12-15T20:24:38.574007Z"
    },
    "pycharm": {
     "is_executing": false
    }
   },
   "outputs": [
    {
     "data": {
      "text/plain": [
       "Index(['0', '1', '2', '3', '4', '5', '6', '7', '8', '9',\n",
       "       ...\n",
       "       '7775', '7776', '7777', '7778', '7779', '7780', '7781', '7782', '7783', '7784'],\n",
       "      dtype='object', length=7783)"
      ]
     },
     "execution_count": 26,
     "metadata": {},
     "output_type": "execute_result"
    }
   ],
   "source": [
    "pd_biz_log.index"
   ]
  },
  {
   "cell_type": "code",
   "execution_count": 27,
   "metadata": {
    "execution": {
     "iopub.execute_input": "2021-12-15T20:24:38.583800Z",
     "iopub.status.busy": "2021-12-15T20:24:38.582630Z",
     "iopub.status.idle": "2021-12-15T20:24:38.588504Z",
     "shell.execute_reply": "2021-12-15T20:24:38.589469Z"
    },
    "pycharm": {
     "is_executing": false
    }
   },
   "outputs": [
    {
     "data": {
      "text/plain": [
       "<opensearch_py_ml.index.Index at 0x15b767e82d0>"
      ]
     },
     "execution_count": 27,
     "metadata": {},
     "output_type": "execute_result"
    }
   ],
   "source": [
    "# NBVAL_IGNORE_OUTPUT\n",
    "oml_biz_log.index"
   ]
  },
  {
   "cell_type": "code",
   "execution_count": 28,
   "metadata": {
    "execution": {
     "iopub.execute_input": "2021-12-15T20:24:38.598654Z",
     "iopub.status.busy": "2021-12-15T20:24:38.597416Z",
     "iopub.status.idle": "2021-12-15T20:24:38.604549Z",
     "shell.execute_reply": "2021-12-15T20:24:38.603361Z"
    },
    "pycharm": {
     "is_executing": false
    }
   },
   "outputs": [
    {
     "data": {
      "text/plain": [
       "'_id'"
      ]
     },
     "execution_count": 28,
     "metadata": {},
     "output_type": "execute_result"
    }
   ],
   "source": [
    "oml_biz_log.index.os_index_field"
   ]
  },
  {
   "cell_type": "markdown",
   "metadata": {},
   "source": [
    "### DataFrame.values\n",
    "\n",
    "Note, `opensearch_py_ml.DataFrame.values` is not supported."
   ]
  },
  {
   "cell_type": "code",
   "execution_count": 29,
   "metadata": {
    "execution": {
     "iopub.execute_input": "2021-12-15T20:24:38.634011Z",
     "iopub.status.busy": "2021-12-15T20:24:38.629434Z",
     "iopub.status.idle": "2021-12-15T20:24:38.681698Z",
     "shell.execute_reply": "2021-12-15T20:24:38.681982Z"
    },
    "pycharm": {
     "is_executing": false
    }
   },
   "outputs": [
    {
     "data": {
      "text/plain": [
       "array([['2', '1498', 'R', ..., 20150068.0, '10.1.72.55', ''],\n",
       "       ['2', '', 'R', ..., 20150068.0, '10.1.72.55', ''],\n",
       "       ['2', '', 'R', ..., 20150068.0, '10.1.72.55', ''],\n",
       "       ...,\n",
       "       ['', '', 'R', ..., 19930011.0, '10.6.1.104', '34343288'],\n",
       "       ['', '', 'R', ..., 19930011.0, '10.6.1.104', '34343288'],\n",
       "       ['1', '', 'R', ..., 20162405.0, '10.100.4.66', '']], dtype=object)"
      ]
     },
     "execution_count": 29,
     "metadata": {},
     "output_type": "execute_result"
    }
   ],
   "source": [
    "pd_biz_log.values"
   ]
  },
  {
   "cell_type": "code",
   "execution_count": 30,
   "metadata": {
    "execution": {
     "iopub.execute_input": "2021-12-15T20:24:38.685031Z",
     "iopub.status.busy": "2021-12-15T20:24:38.684450Z",
     "iopub.status.idle": "2021-12-15T20:24:38.687106Z",
     "shell.execute_reply": "2021-12-15T20:24:38.686771Z"
    },
    "pycharm": {
     "is_executing": false
    }
   },
   "outputs": [
    {
     "name": "stdout",
     "output_type": "stream",
     "text": [
      "This method would scan/scroll the entire OpenSearch index(s) into memory. If this is explicitly required, and there is sufficient memory, call `oml.opensearch_to_pandas(oml_df).values`\n"
     ]
    }
   ],
   "source": [
    "try:\n",
    "    oml_biz_log.values\n",
    "except AttributeError as e:\n",
    "    print(e)"
   ]
  },
  {
   "cell_type": "markdown",
   "metadata": {},
   "source": [
    "## Indexing, iteration"
   ]
  },
  {
   "cell_type": "markdown",
   "metadata": {},
   "source": [
    "### DataFrame.head"
   ]
  },
  {
   "cell_type": "code",
   "execution_count": 31,
   "metadata": {
    "execution": {
     "iopub.execute_input": "2021-12-15T20:24:38.694742Z",
     "iopub.status.busy": "2021-12-15T20:24:38.694371Z",
     "iopub.status.idle": "2021-12-15T20:24:38.696502Z",
     "shell.execute_reply": "2021-12-15T20:24:38.696207Z"
    },
    "pycharm": {
     "is_executing": false
    }
   },
   "outputs": [
    {
     "data": {
      "text/html": [
       "<div>\n",
       "<style scoped>\n",
       "    .dataframe tbody tr th:only-of-type {\n",
       "        vertical-align: middle;\n",
       "    }\n",
       "\n",
       "    .dataframe tbody tr th {\n",
       "        vertical-align: top;\n",
       "    }\n",
       "\n",
       "    .dataframe thead th {\n",
       "        text-align: right;\n",
       "    }\n",
       "</style>\n",
       "<table border=\"1\" class=\"dataframe\">\n",
       "  <thead>\n",
       "    <tr style=\"text-align: right;\">\n",
       "      <th></th>\n",
       "      <th>busi_cd</th>\n",
       "      <th>busi_dtl_contn</th>\n",
       "      <th>...</th>\n",
       "      <th>user_ip</th>\n",
       "      <th>ykiho_cd</th>\n",
       "    </tr>\n",
       "  </thead>\n",
       "  <tbody>\n",
       "    <tr>\n",
       "      <th>0</th>\n",
       "      <td>2</td>\n",
       "      <td>1498</td>\n",
       "      <td>...</td>\n",
       "      <td>10.1.72.55</td>\n",
       "      <td></td>\n",
       "    </tr>\n",
       "    <tr>\n",
       "      <th>1</th>\n",
       "      <td>2</td>\n",
       "      <td></td>\n",
       "      <td>...</td>\n",
       "      <td>10.1.72.55</td>\n",
       "      <td></td>\n",
       "    </tr>\n",
       "    <tr>\n",
       "      <th>2</th>\n",
       "      <td>2</td>\n",
       "      <td></td>\n",
       "      <td>...</td>\n",
       "      <td>10.1.72.55</td>\n",
       "      <td></td>\n",
       "    </tr>\n",
       "    <tr>\n",
       "      <th>3</th>\n",
       "      <td>2</td>\n",
       "      <td></td>\n",
       "      <td>...</td>\n",
       "      <td>10.1.72.55</td>\n",
       "      <td></td>\n",
       "    </tr>\n",
       "    <tr>\n",
       "      <th>4</th>\n",
       "      <td>1</td>\n",
       "      <td>invision</td>\n",
       "      <td>...</td>\n",
       "      <td>10.100.4.66</td>\n",
       "      <td></td>\n",
       "    </tr>\n",
       "  </tbody>\n",
       "</table>\n",
       "<p>5 rows × 25 columns</p>\n",
       "</div>"
      ],
      "text/plain": [
       "  busi_cd busi_dtl_contn  ...      user_ip ykiho_cd\n",
       "0       2           1498  ...   10.1.72.55         \n",
       "1       2                 ...   10.1.72.55         \n",
       "2       2                 ...   10.1.72.55         \n",
       "3       2                 ...   10.1.72.55         \n",
       "4       1       invision  ...  10.100.4.66         \n",
       "\n",
       "[5 rows x 25 columns]"
      ]
     },
     "execution_count": 31,
     "metadata": {},
     "output_type": "execute_result"
    }
   ],
   "source": [
    "pd_biz_log.head()"
   ]
  },
  {
   "cell_type": "code",
   "execution_count": 32,
   "metadata": {
    "execution": {
     "iopub.execute_input": "2021-12-15T20:24:38.699691Z",
     "iopub.status.busy": "2021-12-15T20:24:38.699271Z",
     "iopub.status.idle": "2021-12-15T20:24:40.675206Z",
     "shell.execute_reply": "2021-12-15T20:24:40.676183Z"
    },
    "pycharm": {
     "is_executing": false
    }
   },
   "outputs": [
    {
     "data": {
      "text/html": [
       "<div>\n",
       "<style scoped>\n",
       "    .dataframe tbody tr th:only-of-type {\n",
       "        vertical-align: middle;\n",
       "    }\n",
       "\n",
       "    .dataframe tbody tr th {\n",
       "        vertical-align: top;\n",
       "    }\n",
       "\n",
       "    .dataframe thead th {\n",
       "        text-align: right;\n",
       "    }\n",
       "</style>\n",
       "<table border=\"1\" class=\"dataframe\">\n",
       "  <thead>\n",
       "    <tr style=\"text-align: right;\">\n",
       "      <th></th>\n",
       "      <th>busi_cd</th>\n",
       "      <th>busi_dtl_contn</th>\n",
       "      <th>...</th>\n",
       "      <th>user_ip</th>\n",
       "      <th>ykiho_cd</th>\n",
       "    </tr>\n",
       "  </thead>\n",
       "  <tbody>\n",
       "    <tr>\n",
       "      <th>0</th>\n",
       "      <td>2</td>\n",
       "      <td>1498</td>\n",
       "      <td>...</td>\n",
       "      <td>10.1.72.55</td>\n",
       "      <td></td>\n",
       "    </tr>\n",
       "    <tr>\n",
       "      <th>1</th>\n",
       "      <td>2</td>\n",
       "      <td></td>\n",
       "      <td>...</td>\n",
       "      <td>10.1.72.55</td>\n",
       "      <td></td>\n",
       "    </tr>\n",
       "    <tr>\n",
       "      <th>2</th>\n",
       "      <td>2</td>\n",
       "      <td></td>\n",
       "      <td>...</td>\n",
       "      <td>10.1.72.55</td>\n",
       "      <td></td>\n",
       "    </tr>\n",
       "    <tr>\n",
       "      <th>3</th>\n",
       "      <td>2</td>\n",
       "      <td></td>\n",
       "      <td>...</td>\n",
       "      <td>10.1.72.55</td>\n",
       "      <td></td>\n",
       "    </tr>\n",
       "    <tr>\n",
       "      <th>4</th>\n",
       "      <td>1</td>\n",
       "      <td>invision</td>\n",
       "      <td>...</td>\n",
       "      <td>10.100.4.66</td>\n",
       "      <td></td>\n",
       "    </tr>\n",
       "  </tbody>\n",
       "</table>\n",
       "</div>\n",
       "<p>5 rows × 25 columns</p>"
      ],
      "text/plain": [
       "  busi_cd busi_dtl_contn  ...      user_ip ykiho_cd\n",
       "0       2           1498  ...   10.1.72.55         \n",
       "1       2                 ...   10.1.72.55         \n",
       "2       2                 ...   10.1.72.55         \n",
       "3       2                 ...   10.1.72.55         \n",
       "4       1       invision  ...  10.100.4.66         \n",
       "\n",
       "[5 rows x 25 columns]"
      ]
     },
     "execution_count": 32,
     "metadata": {},
     "output_type": "execute_result"
    }
   ],
   "source": [
    "oml_biz_log.head()"
   ]
  },
  {
   "cell_type": "markdown",
   "metadata": {},
   "source": [
    "### DataFrame.tail"
   ]
  },
  {
   "cell_type": "code",
   "execution_count": 33,
   "metadata": {
    "execution": {
     "iopub.execute_input": "2021-12-15T20:24:40.695639Z",
     "iopub.status.busy": "2021-12-15T20:24:40.694910Z",
     "iopub.status.idle": "2021-12-15T20:24:40.698148Z",
     "shell.execute_reply": "2021-12-15T20:24:40.698704Z"
    },
    "pycharm": {
     "is_executing": false
    }
   },
   "outputs": [
    {
     "data": {
      "text/html": [
       "<div>\n",
       "<style scoped>\n",
       "    .dataframe tbody tr th:only-of-type {\n",
       "        vertical-align: middle;\n",
       "    }\n",
       "\n",
       "    .dataframe tbody tr th {\n",
       "        vertical-align: top;\n",
       "    }\n",
       "\n",
       "    .dataframe thead th {\n",
       "        text-align: right;\n",
       "    }\n",
       "</style>\n",
       "<table border=\"1\" class=\"dataframe\">\n",
       "  <thead>\n",
       "    <tr style=\"text-align: right;\">\n",
       "      <th></th>\n",
       "      <th>busi_cd</th>\n",
       "      <th>busi_dtl_contn</th>\n",
       "      <th>...</th>\n",
       "      <th>user_ip</th>\n",
       "      <th>ykiho_cd</th>\n",
       "    </tr>\n",
       "  </thead>\n",
       "  <tbody>\n",
       "    <tr>\n",
       "      <th>7780</th>\n",
       "      <td></td>\n",
       "      <td></td>\n",
       "      <td>...</td>\n",
       "      <td>10.100.20.176</td>\n",
       "      <td>372821</td>\n",
       "    </tr>\n",
       "    <tr>\n",
       "      <th>7781</th>\n",
       "      <td></td>\n",
       "      <td></td>\n",
       "      <td>...</td>\n",
       "      <td>10.6.1.104</td>\n",
       "      <td>33811636</td>\n",
       "    </tr>\n",
       "    <tr>\n",
       "      <th>7782</th>\n",
       "      <td></td>\n",
       "      <td></td>\n",
       "      <td>...</td>\n",
       "      <td>10.6.1.104</td>\n",
       "      <td>34343288</td>\n",
       "    </tr>\n",
       "    <tr>\n",
       "      <th>7783</th>\n",
       "      <td></td>\n",
       "      <td></td>\n",
       "      <td>...</td>\n",
       "      <td>10.6.1.104</td>\n",
       "      <td>34343288</td>\n",
       "    </tr>\n",
       "    <tr>\n",
       "      <th>7784</th>\n",
       "      <td>1</td>\n",
       "      <td></td>\n",
       "      <td>...</td>\n",
       "      <td>10.100.4.66</td>\n",
       "      <td></td>\n",
       "    </tr>\n",
       "  </tbody>\n",
       "</table>\n",
       "<p>5 rows × 25 columns</p>\n",
       "</div>"
      ],
      "text/plain": [
       "     busi_cd busi_dtl_contn  ...        user_ip  ykiho_cd\n",
       "7780                         ...  10.100.20.176    372821\n",
       "7781                         ...     10.6.1.104  33811636\n",
       "7782                         ...     10.6.1.104  34343288\n",
       "7783                         ...     10.6.1.104  34343288\n",
       "7784       1                 ...    10.100.4.66          \n",
       "\n",
       "[5 rows x 25 columns]"
      ]
     },
     "execution_count": 33,
     "metadata": {},
     "output_type": "execute_result"
    }
   ],
   "source": [
    "pd_biz_log.tail()"
   ]
  },
  {
   "cell_type": "code",
   "execution_count": 34,
   "metadata": {
    "execution": {
     "iopub.execute_input": "2021-12-15T20:24:40.703670Z",
     "iopub.status.busy": "2021-12-15T20:24:40.702923Z",
     "iopub.status.idle": "2021-12-15T20:24:42.789898Z",
     "shell.execute_reply": "2021-12-15T20:24:42.789460Z"
    },
    "pycharm": {
     "is_executing": false
    }
   },
   "outputs": [
    {
     "data": {
      "text/html": [
       "<div>\n",
       "<style scoped>\n",
       "    .dataframe tbody tr th:only-of-type {\n",
       "        vertical-align: middle;\n",
       "    }\n",
       "\n",
       "    .dataframe tbody tr th {\n",
       "        vertical-align: top;\n",
       "    }\n",
       "\n",
       "    .dataframe thead th {\n",
       "        text-align: right;\n",
       "    }\n",
       "</style>\n",
       "<table border=\"1\" class=\"dataframe\">\n",
       "  <thead>\n",
       "    <tr style=\"text-align: right;\">\n",
       "      <th></th>\n",
       "      <th>busi_cd</th>\n",
       "      <th>busi_dtl_contn</th>\n",
       "      <th>...</th>\n",
       "      <th>user_ip</th>\n",
       "      <th>ykiho_cd</th>\n",
       "    </tr>\n",
       "  </thead>\n",
       "  <tbody>\n",
       "    <tr>\n",
       "      <th>7780</th>\n",
       "      <td></td>\n",
       "      <td></td>\n",
       "      <td>...</td>\n",
       "      <td>10.100.20.176</td>\n",
       "      <td>372821</td>\n",
       "    </tr>\n",
       "    <tr>\n",
       "      <th>7781</th>\n",
       "      <td></td>\n",
       "      <td></td>\n",
       "      <td>...</td>\n",
       "      <td>10.6.1.104</td>\n",
       "      <td>33811636</td>\n",
       "    </tr>\n",
       "    <tr>\n",
       "      <th>7782</th>\n",
       "      <td></td>\n",
       "      <td></td>\n",
       "      <td>...</td>\n",
       "      <td>10.6.1.104</td>\n",
       "      <td>34343288</td>\n",
       "    </tr>\n",
       "    <tr>\n",
       "      <th>7783</th>\n",
       "      <td></td>\n",
       "      <td></td>\n",
       "      <td>...</td>\n",
       "      <td>10.6.1.104</td>\n",
       "      <td>34343288</td>\n",
       "    </tr>\n",
       "    <tr>\n",
       "      <th>7784</th>\n",
       "      <td>1</td>\n",
       "      <td></td>\n",
       "      <td>...</td>\n",
       "      <td>10.100.4.66</td>\n",
       "      <td></td>\n",
       "    </tr>\n",
       "  </tbody>\n",
       "</table>\n",
       "</div>\n",
       "<p>5 rows × 25 columns</p>"
      ],
      "text/plain": [
       "     busi_cd busi_dtl_contn  ...        user_ip  ykiho_cd\n",
       "7780                         ...  10.100.20.176    372821\n",
       "7781                         ...     10.6.1.104  33811636\n",
       "7782                         ...     10.6.1.104  34343288\n",
       "7783                         ...     10.6.1.104  34343288\n",
       "7784       1                 ...    10.100.4.66          \n",
       "\n",
       "[5 rows x 25 columns]"
      ]
     },
     "execution_count": 34,
     "metadata": {},
     "output_type": "execute_result"
    }
   ],
   "source": [
    "oml_biz_log.tail()"
   ]
  },
  {
   "cell_type": "markdown",
   "metadata": {},
   "source": [
    "### DataFrame.keys"
   ]
  },
  {
   "cell_type": "code",
   "execution_count": 35,
   "metadata": {
    "execution": {
     "iopub.execute_input": "2021-12-15T20:24:42.793363Z",
     "iopub.status.busy": "2021-12-15T20:24:42.791765Z",
     "iopub.status.idle": "2021-12-15T20:24:42.796116Z",
     "shell.execute_reply": "2021-12-15T20:24:42.795742Z"
    },
    "pycharm": {
     "is_executing": false
    }
   },
   "outputs": [
    {
     "data": {
      "text/plain": [
       "Index(['busi_cd', 'busi_dtl_contn', 'button_cd', 'dept_cd', 'emp_cd', 'hq_cd', 'inq_reason',\n",
       "       'inq_seq', 'join_ssn', 'log_agency_cd', 'log_seq', 'org_cd', 'per_inf_cd', 'prg_id',\n",
       "       'proc_date', 'proc_hour', 'proc_time', 'recv_no', 'recv_yyyy', 'req_url', 'sear_val',\n",
       "       'sys_cd', 'user_id', 'user_ip', 'ykiho_cd'],\n",
       "      dtype='object')"
      ]
     },
     "execution_count": 35,
     "metadata": {},
     "output_type": "execute_result"
    }
   ],
   "source": [
    "pd_biz_log.keys()"
   ]
  },
  {
   "cell_type": "code",
   "execution_count": 36,
   "metadata": {
    "execution": {
     "iopub.execute_input": "2021-12-15T20:24:42.799972Z",
     "iopub.status.busy": "2021-12-15T20:24:42.799336Z",
     "iopub.status.idle": "2021-12-15T20:24:42.802144Z",
     "shell.execute_reply": "2021-12-15T20:24:42.801772Z"
    },
    "pycharm": {
     "is_executing": false
    }
   },
   "outputs": [
    {
     "data": {
      "text/plain": [
       "Index(['busi_cd', 'busi_dtl_contn', 'button_cd', 'dept_cd', 'emp_cd', 'hq_cd', 'inq_reason',\n",
       "       'inq_seq', 'join_ssn', 'log_agency_cd', 'log_seq', 'org_cd', 'per_inf_cd', 'prg_id',\n",
       "       'proc_date', 'proc_hour', 'proc_time', 'recv_no', 'recv_yyyy', 'req_url', 'sear_val',\n",
       "       'sys_cd', 'user_id', 'user_ip', 'ykiho_cd'],\n",
       "      dtype='object')"
      ]
     },
     "execution_count": 36,
     "metadata": {},
     "output_type": "execute_result"
    }
   ],
   "source": [
    "oml_biz_log.keys()"
   ]
  },
  {
   "cell_type": "markdown",
   "metadata": {},
   "source": [
    "### DataFrame.get"
   ]
  },
  {
   "cell_type": "code",
   "execution_count": 38,
   "metadata": {
    "execution": {
     "iopub.execute_input": "2021-12-15T20:24:42.807664Z",
     "iopub.status.busy": "2021-12-15T20:24:42.807137Z",
     "iopub.status.idle": "2021-12-15T20:24:42.809592Z",
     "shell.execute_reply": "2021-12-15T20:24:42.809225Z"
    },
    "pycharm": {
     "is_executing": false
    }
   },
   "outputs": [
    {
     "data": {
      "text/plain": [
       "0       20171101\n",
       "1       20171101\n",
       "2       20171101\n",
       "3       20171101\n",
       "4       20171101\n",
       "          ...   \n",
       "7780    20171101\n",
       "7781    20171101\n",
       "7782    20171101\n",
       "7783    20171101\n",
       "7784    20171113\n",
       "Name: proc_date, Length: 7783, dtype: object"
      ]
     },
     "execution_count": 38,
     "metadata": {},
     "output_type": "execute_result"
    }
   ],
   "source": [
    "pd_biz_log.get('proc_date')"
   ]
  },
  {
   "cell_type": "code",
   "execution_count": 39,
   "metadata": {
    "execution": {
     "iopub.execute_input": "2021-12-15T20:24:42.813306Z",
     "iopub.status.busy": "2021-12-15T20:24:42.812951Z",
     "iopub.status.idle": "2021-12-15T20:24:44.238665Z",
     "shell.execute_reply": "2021-12-15T20:24:44.239468Z"
    },
    "pycharm": {
     "is_executing": false
    }
   },
   "outputs": [
    {
     "data": {
      "text/plain": [
       "0       20171101\n",
       "1       20171101\n",
       "2       20171101\n",
       "3       20171101\n",
       "4       20171101\n",
       "          ...   \n",
       "7780    20171101\n",
       "7781    20171101\n",
       "7782    20171101\n",
       "7783    20171101\n",
       "7784    20171113\n",
       "Name: proc_date, Length: 7783, dtype: object"
      ]
     },
     "execution_count": 39,
     "metadata": {},
     "output_type": "execute_result"
    }
   ],
   "source": [
    "oml_biz_log.get('proc_date')"
   ]
  },
  {
   "cell_type": "code",
   "execution_count": 40,
   "metadata": {
    "execution": {
     "iopub.execute_input": "2021-12-15T20:24:44.252784Z",
     "iopub.status.busy": "2021-12-15T20:24:44.244955Z",
     "iopub.status.idle": "2021-12-15T20:24:44.257030Z",
     "shell.execute_reply": "2021-12-15T20:24:44.258040Z"
    },
    "pycharm": {
     "is_executing": false
    }
   },
   "outputs": [
    {
     "data": {
      "text/html": [
       "<div>\n",
       "<style scoped>\n",
       "    .dataframe tbody tr th:only-of-type {\n",
       "        vertical-align: middle;\n",
       "    }\n",
       "\n",
       "    .dataframe tbody tr th {\n",
       "        vertical-align: top;\n",
       "    }\n",
       "\n",
       "    .dataframe thead th {\n",
       "        text-align: right;\n",
       "    }\n",
       "</style>\n",
       "<table border=\"1\" class=\"dataframe\">\n",
       "  <thead>\n",
       "    <tr style=\"text-align: right;\">\n",
       "      <th></th>\n",
       "      <th>proc_date</th>\n",
       "      <th>user_ip</th>\n",
       "    </tr>\n",
       "  </thead>\n",
       "  <tbody>\n",
       "    <tr>\n",
       "      <th>0</th>\n",
       "      <td>20171101</td>\n",
       "      <td>10.1.72.55</td>\n",
       "    </tr>\n",
       "    <tr>\n",
       "      <th>1</th>\n",
       "      <td>20171101</td>\n",
       "      <td>10.1.72.55</td>\n",
       "    </tr>\n",
       "    <tr>\n",
       "      <th>2</th>\n",
       "      <td>20171101</td>\n",
       "      <td>10.1.72.55</td>\n",
       "    </tr>\n",
       "    <tr>\n",
       "      <th>3</th>\n",
       "      <td>20171101</td>\n",
       "      <td>10.1.72.55</td>\n",
       "    </tr>\n",
       "    <tr>\n",
       "      <th>4</th>\n",
       "      <td>20171101</td>\n",
       "      <td>10.100.4.66</td>\n",
       "    </tr>\n",
       "    <tr>\n",
       "      <th>...</th>\n",
       "      <td>...</td>\n",
       "      <td>...</td>\n",
       "    </tr>\n",
       "    <tr>\n",
       "      <th>7780</th>\n",
       "      <td>20171101</td>\n",
       "      <td>10.100.20.176</td>\n",
       "    </tr>\n",
       "    <tr>\n",
       "      <th>7781</th>\n",
       "      <td>20171101</td>\n",
       "      <td>10.6.1.104</td>\n",
       "    </tr>\n",
       "    <tr>\n",
       "      <th>7782</th>\n",
       "      <td>20171101</td>\n",
       "      <td>10.6.1.104</td>\n",
       "    </tr>\n",
       "    <tr>\n",
       "      <th>7783</th>\n",
       "      <td>20171101</td>\n",
       "      <td>10.6.1.104</td>\n",
       "    </tr>\n",
       "    <tr>\n",
       "      <th>7784</th>\n",
       "      <td>20171113</td>\n",
       "      <td>10.100.4.66</td>\n",
       "    </tr>\n",
       "  </tbody>\n",
       "</table>\n",
       "<p>7783 rows × 2 columns</p>\n",
       "</div>"
      ],
      "text/plain": [
       "     proc_date        user_ip\n",
       "0     20171101     10.1.72.55\n",
       "1     20171101     10.1.72.55\n",
       "2     20171101     10.1.72.55\n",
       "3     20171101     10.1.72.55\n",
       "4     20171101    10.100.4.66\n",
       "...        ...            ...\n",
       "7780  20171101  10.100.20.176\n",
       "7781  20171101     10.6.1.104\n",
       "7782  20171101     10.6.1.104\n",
       "7783  20171101     10.6.1.104\n",
       "7784  20171113    10.100.4.66\n",
       "\n",
       "[7783 rows x 2 columns]"
      ]
     },
     "execution_count": 40,
     "metadata": {},
     "output_type": "execute_result"
    }
   ],
   "source": [
    "pd_biz_log.get(['proc_date', 'user_ip'])"
   ]
  },
  {
   "cell_type": "markdown",
   "metadata": {},
   "source": [
    "List input not currently supported by `opensearch_py_ml.DataFrame.get`"
   ]
  },
  {
   "cell_type": "code",
   "execution_count": 42,
   "metadata": {
    "execution": {
     "iopub.execute_input": "2021-12-15T20:24:44.263674Z",
     "iopub.status.busy": "2021-12-15T20:24:44.261671Z",
     "iopub.status.idle": "2021-12-15T20:24:44.266564Z",
     "shell.execute_reply": "2021-12-15T20:24:44.267454Z"
    },
    "pycharm": {
     "is_executing": false
    }
   },
   "outputs": [
    {
     "name": "stdout",
     "output_type": "stream",
     "text": [
      "unhashable type: 'list'\n"
     ]
    }
   ],
   "source": [
    "try:\n",
    "    oml_biz_log.get(['proc_date', 'user_ip'])\n",
    "except TypeError as e:\n",
    "    print(e)"
   ]
  },
  {
   "cell_type": "markdown",
   "metadata": {},
   "source": [
    "### DataFrame.query"
   ]
  },
  {
   "cell_type": "code",
   "execution_count": 43,
   "metadata": {
    "execution": {
     "iopub.execute_input": "2021-12-15T20:24:44.291893Z",
     "iopub.status.busy": "2021-12-15T20:24:44.279615Z",
     "iopub.status.idle": "2021-12-15T20:24:44.294715Z",
     "shell.execute_reply": "2021-12-15T20:24:44.294192Z"
    },
    "pycharm": {
     "is_executing": false
    }
   },
   "outputs": [
    {
     "data": {
      "text/html": [
       "<div>\n",
       "<style scoped>\n",
       "    .dataframe tbody tr th:only-of-type {\n",
       "        vertical-align: middle;\n",
       "    }\n",
       "\n",
       "    .dataframe tbody tr th {\n",
       "        vertical-align: top;\n",
       "    }\n",
       "\n",
       "    .dataframe thead th {\n",
       "        text-align: right;\n",
       "    }\n",
       "</style>\n",
       "<table border=\"1\" class=\"dataframe\">\n",
       "  <thead>\n",
       "    <tr style=\"text-align: right;\">\n",
       "      <th></th>\n",
       "      <th>busi_cd</th>\n",
       "      <th>busi_dtl_contn</th>\n",
       "      <th>...</th>\n",
       "      <th>user_ip</th>\n",
       "      <th>ykiho_cd</th>\n",
       "    </tr>\n",
       "  </thead>\n",
       "  <tbody>\n",
       "  </tbody>\n",
       "</table>\n",
       "<p>0 rows × 25 columns</p>\n",
       "</div>"
      ],
      "text/plain": [
       "Empty DataFrame\n",
       "Columns: [busi_cd, busi_dtl_contn, button_cd, dept_cd, emp_cd, hq_cd, inq_reason, inq_seq, join_ssn, log_agency_cd, log_seq, org_cd, per_inf_cd, prg_id, proc_date, proc_hour, proc_time, recv_no, recv_yyyy, req_url, sear_val, sys_cd, user_id, user_ip, ykiho_cd]\n",
       "Index: []\n",
       "\n",
       "[0 rows x 25 columns]"
      ]
     },
     "execution_count": 43,
     "metadata": {},
     "output_type": "execute_result"
    }
   ],
   "source": [
    "# pd_biz_log.query('user_id == \"20150068\" & AvgTicketPrice > 900.0 & Cancelled == True')\n",
    "pd_biz_log.query('user_id == \"20150068\"')"
   ]
  },
  {
   "attachments": {},
   "cell_type": "markdown",
   "metadata": {},
   "source": [
    "`opensearch_py_ml.DataFrame.query` requires qualifier on bool i.e.\n",
    "\n",
    "`oml_biz_log.query('Carrier == \"Kibana Airlines\" & AvgTicketPrice > 900.0 & Cancelled')` fails"
   ]
  },
  {
   "cell_type": "code",
   "execution_count": 46,
   "metadata": {
    "execution": {
     "iopub.execute_input": "2021-12-15T20:24:44.317223Z",
     "iopub.status.busy": "2021-12-15T20:24:44.316680Z",
     "iopub.status.idle": "2021-12-15T20:24:46.365286Z",
     "shell.execute_reply": "2021-12-15T20:24:46.366706Z"
    },
    "pycharm": {
     "is_executing": false
    }
   },
   "outputs": [
    {
     "data": {
      "text/html": [
       "<div>\n",
       "<style scoped>\n",
       "    .dataframe tbody tr th:only-of-type {\n",
       "        vertical-align: middle;\n",
       "    }\n",
       "\n",
       "    .dataframe tbody tr th {\n",
       "        vertical-align: top;\n",
       "    }\n",
       "\n",
       "    .dataframe thead th {\n",
       "        text-align: right;\n",
       "    }\n",
       "</style>\n",
       "<table border=\"1\" class=\"dataframe\">\n",
       "  <thead>\n",
       "    <tr style=\"text-align: right;\">\n",
       "      <th></th>\n",
       "      <th>busi_cd</th>\n",
       "      <th>busi_dtl_contn</th>\n",
       "      <th>...</th>\n",
       "      <th>user_ip</th>\n",
       "      <th>ykiho_cd</th>\n",
       "    </tr>\n",
       "  </thead>\n",
       "  <tbody>\n",
       "  </tbody>\n",
       "</table>\n",
       "</div>\n",
       "<p>0 rows × 25 columns</p>"
      ],
      "text/plain": [
       "Empty DataFrame\n",
       "Columns: [busi_cd, busi_dtl_contn, button_cd, dept_cd, emp_cd, hq_cd, inq_reason, inq_seq, join_ssn, log_agency_cd, log_seq, org_cd, per_inf_cd, prg_id, proc_date, proc_hour, proc_time, recv_no, recv_yyyy, req_url, sear_val, sys_cd, user_id, user_ip, ykiho_cd]\n",
       "Index: []\n",
       "\n",
       "[0 rows x 25 columns]"
      ]
     },
     "execution_count": 46,
     "metadata": {},
     "output_type": "execute_result"
    }
   ],
   "source": [
    "# oml_biz_log.query('Carrier == \"Kibana Airlines\" & AvgTicketPrice > 900.0 & Cancelled == True')\n",
    "oml_biz_log.query('user_id == \"20150068\"')"
   ]
  },
  {
   "cell_type": "markdown",
   "metadata": {},
   "source": [
    "#### Boolean indexing query"
   ]
  },
  {
   "cell_type": "code",
   "execution_count": 39,
   "metadata": {
    "execution": {
     "iopub.execute_input": "2021-12-15T20:24:46.417274Z",
     "iopub.status.busy": "2021-12-15T20:24:46.416156Z",
     "iopub.status.idle": "2021-12-15T20:24:46.421120Z",
     "shell.execute_reply": "2021-12-15T20:24:46.421781Z"
    },
    "pycharm": {
     "is_executing": false
    }
   },
   "outputs": [
    {
     "data": {
      "text/html": [
       "<div>\n",
       "<style scoped>\n",
       "    .dataframe tbody tr th:only-of-type {\n",
       "        vertical-align: middle;\n",
       "    }\n",
       "\n",
       "    .dataframe tbody tr th {\n",
       "        vertical-align: top;\n",
       "    }\n",
       "\n",
       "    .dataframe thead th {\n",
       "        text-align: right;\n",
       "    }\n",
       "</style>\n",
       "<table border=\"1\" class=\"dataframe\">\n",
       "  <thead>\n",
       "    <tr style=\"text-align: right;\">\n",
       "      <th></th>\n",
       "      <th>AvgTicketPrice</th>\n",
       "      <th>Cancelled</th>\n",
       "      <th>...</th>\n",
       "      <th>dayOfWeek</th>\n",
       "      <th>timestamp</th>\n",
       "    </tr>\n",
       "  </thead>\n",
       "  <tbody>\n",
       "    <tr>\n",
       "      <th>8</th>\n",
       "      <td>960.869736</td>\n",
       "      <td>True</td>\n",
       "      <td>...</td>\n",
       "      <td>0</td>\n",
       "      <td>2018-01-01 12:09:35</td>\n",
       "    </tr>\n",
       "    <tr>\n",
       "      <th>26</th>\n",
       "      <td>975.812632</td>\n",
       "      <td>True</td>\n",
       "      <td>...</td>\n",
       "      <td>0</td>\n",
       "      <td>2018-01-01 15:38:32</td>\n",
       "    </tr>\n",
       "    <tr>\n",
       "      <th>311</th>\n",
       "      <td>946.358410</td>\n",
       "      <td>True</td>\n",
       "      <td>...</td>\n",
       "      <td>0</td>\n",
       "      <td>2018-01-01 11:51:12</td>\n",
       "    </tr>\n",
       "    <tr>\n",
       "      <th>651</th>\n",
       "      <td>975.383864</td>\n",
       "      <td>True</td>\n",
       "      <td>...</td>\n",
       "      <td>2</td>\n",
       "      <td>2018-01-03 21:13:17</td>\n",
       "    </tr>\n",
       "    <tr>\n",
       "      <th>950</th>\n",
       "      <td>907.836523</td>\n",
       "      <td>True</td>\n",
       "      <td>...</td>\n",
       "      <td>2</td>\n",
       "      <td>2018-01-03 05:14:51</td>\n",
       "    </tr>\n",
       "    <tr>\n",
       "      <th>...</th>\n",
       "      <td>...</td>\n",
       "      <td>...</td>\n",
       "      <td>...</td>\n",
       "      <td>...</td>\n",
       "      <td>...</td>\n",
       "    </tr>\n",
       "    <tr>\n",
       "      <th>12820</th>\n",
       "      <td>909.973606</td>\n",
       "      <td>True</td>\n",
       "      <td>...</td>\n",
       "      <td>5</td>\n",
       "      <td>2018-02-10 05:11:35</td>\n",
       "    </tr>\n",
       "    <tr>\n",
       "      <th>12906</th>\n",
       "      <td>983.429244</td>\n",
       "      <td>True</td>\n",
       "      <td>...</td>\n",
       "      <td>6</td>\n",
       "      <td>2018-02-11 06:19:58</td>\n",
       "    </tr>\n",
       "    <tr>\n",
       "      <th>12918</th>\n",
       "      <td>1136.678150</td>\n",
       "      <td>True</td>\n",
       "      <td>...</td>\n",
       "      <td>6</td>\n",
       "      <td>2018-02-11 16:03:10</td>\n",
       "    </tr>\n",
       "    <tr>\n",
       "      <th>12919</th>\n",
       "      <td>1105.211803</td>\n",
       "      <td>True</td>\n",
       "      <td>...</td>\n",
       "      <td>6</td>\n",
       "      <td>2018-02-11 05:36:05</td>\n",
       "    </tr>\n",
       "    <tr>\n",
       "      <th>13013</th>\n",
       "      <td>1055.350213</td>\n",
       "      <td>True</td>\n",
       "      <td>...</td>\n",
       "      <td>6</td>\n",
       "      <td>2018-02-11 13:20:16</td>\n",
       "    </tr>\n",
       "  </tbody>\n",
       "</table>\n",
       "<p>68 rows × 27 columns</p>\n",
       "</div>"
      ],
      "text/plain": [
       "       AvgTicketPrice  Cancelled  ... dayOfWeek           timestamp\n",
       "8          960.869736       True  ...         0 2018-01-01 12:09:35\n",
       "26         975.812632       True  ...         0 2018-01-01 15:38:32\n",
       "311        946.358410       True  ...         0 2018-01-01 11:51:12\n",
       "651        975.383864       True  ...         2 2018-01-03 21:13:17\n",
       "950        907.836523       True  ...         2 2018-01-03 05:14:51\n",
       "...               ...        ...  ...       ...                 ...\n",
       "12820      909.973606       True  ...         5 2018-02-10 05:11:35\n",
       "12906      983.429244       True  ...         6 2018-02-11 06:19:58\n",
       "12918     1136.678150       True  ...         6 2018-02-11 16:03:10\n",
       "12919     1105.211803       True  ...         6 2018-02-11 05:36:05\n",
       "13013     1055.350213       True  ...         6 2018-02-11 13:20:16\n",
       "\n",
       "[68 rows x 27 columns]"
      ]
     },
     "execution_count": 39,
     "metadata": {},
     "output_type": "execute_result"
    }
   ],
   "source": [
    "# pd_biz_log[(pd_biz_log.Carrier==\"Kibana Airlines\") & \n",
    "#            (pd_biz_log.AvgTicketPrice > 900.0) &\n",
    "#            (pd_biz_log.Cancelled == True)]"
   ]
  },
  {
   "cell_type": "code",
   "execution_count": 41,
   "metadata": {
    "execution": {
     "iopub.execute_input": "2021-12-15T20:24:46.431697Z",
     "iopub.status.busy": "2021-12-15T20:24:46.431114Z",
     "iopub.status.idle": "2021-12-15T20:24:48.414684Z",
     "shell.execute_reply": "2021-12-15T20:24:48.415148Z"
    },
    "pycharm": {
     "is_executing": false
    }
   },
   "outputs": [
    {
     "data": {
      "text/html": [
       "<div>\n",
       "<style scoped>\n",
       "    .dataframe tbody tr th:only-of-type {\n",
       "        vertical-align: middle;\n",
       "    }\n",
       "\n",
       "    .dataframe tbody tr th {\n",
       "        vertical-align: top;\n",
       "    }\n",
       "\n",
       "    .dataframe thead th {\n",
       "        text-align: right;\n",
       "    }\n",
       "</style>\n",
       "<table border=\"1\" class=\"dataframe\">\n",
       "  <thead>\n",
       "    <tr style=\"text-align: right;\">\n",
       "      <th></th>\n",
       "      <th>AvgTicketPrice</th>\n",
       "      <th>Cancelled</th>\n",
       "      <th>...</th>\n",
       "      <th>dayOfWeek</th>\n",
       "      <th>timestamp</th>\n",
       "    </tr>\n",
       "  </thead>\n",
       "  <tbody>\n",
       "    <tr>\n",
       "      <th>8</th>\n",
       "      <td>960.869736</td>\n",
       "      <td>True</td>\n",
       "      <td>...</td>\n",
       "      <td>0</td>\n",
       "      <td>2018-01-01 12:09:35</td>\n",
       "    </tr>\n",
       "    <tr>\n",
       "      <th>26</th>\n",
       "      <td>975.812632</td>\n",
       "      <td>True</td>\n",
       "      <td>...</td>\n",
       "      <td>0</td>\n",
       "      <td>2018-01-01 15:38:32</td>\n",
       "    </tr>\n",
       "    <tr>\n",
       "      <th>311</th>\n",
       "      <td>946.358410</td>\n",
       "      <td>True</td>\n",
       "      <td>...</td>\n",
       "      <td>0</td>\n",
       "      <td>2018-01-01 11:51:12</td>\n",
       "    </tr>\n",
       "    <tr>\n",
       "      <th>651</th>\n",
       "      <td>975.383864</td>\n",
       "      <td>True</td>\n",
       "      <td>...</td>\n",
       "      <td>2</td>\n",
       "      <td>2018-01-03 21:13:17</td>\n",
       "    </tr>\n",
       "    <tr>\n",
       "      <th>950</th>\n",
       "      <td>907.836523</td>\n",
       "      <td>True</td>\n",
       "      <td>...</td>\n",
       "      <td>2</td>\n",
       "      <td>2018-01-03 05:14:51</td>\n",
       "    </tr>\n",
       "    <tr>\n",
       "      <th>...</th>\n",
       "      <td>...</td>\n",
       "      <td>...</td>\n",
       "      <td>...</td>\n",
       "      <td>...</td>\n",
       "      <td>...</td>\n",
       "    </tr>\n",
       "    <tr>\n",
       "      <th>12820</th>\n",
       "      <td>909.973606</td>\n",
       "      <td>True</td>\n",
       "      <td>...</td>\n",
       "      <td>5</td>\n",
       "      <td>2018-02-10 05:11:35</td>\n",
       "    </tr>\n",
       "    <tr>\n",
       "      <th>12906</th>\n",
       "      <td>983.429244</td>\n",
       "      <td>True</td>\n",
       "      <td>...</td>\n",
       "      <td>6</td>\n",
       "      <td>2018-02-11 06:19:58</td>\n",
       "    </tr>\n",
       "    <tr>\n",
       "      <th>12918</th>\n",
       "      <td>1136.678150</td>\n",
       "      <td>True</td>\n",
       "      <td>...</td>\n",
       "      <td>6</td>\n",
       "      <td>2018-02-11 16:03:10</td>\n",
       "    </tr>\n",
       "    <tr>\n",
       "      <th>12919</th>\n",
       "      <td>1105.211803</td>\n",
       "      <td>True</td>\n",
       "      <td>...</td>\n",
       "      <td>6</td>\n",
       "      <td>2018-02-11 05:36:05</td>\n",
       "    </tr>\n",
       "    <tr>\n",
       "      <th>13013</th>\n",
       "      <td>1055.350213</td>\n",
       "      <td>True</td>\n",
       "      <td>...</td>\n",
       "      <td>6</td>\n",
       "      <td>2018-02-11 13:20:16</td>\n",
       "    </tr>\n",
       "  </tbody>\n",
       "</table>\n",
       "</div>\n",
       "<p>68 rows × 27 columns</p>"
      ],
      "text/plain": [
       "       AvgTicketPrice  Cancelled  ... dayOfWeek           timestamp\n",
       "8          960.869736       True  ...         0 2018-01-01 12:09:35\n",
       "26         975.812632       True  ...         0 2018-01-01 15:38:32\n",
       "311        946.358410       True  ...         0 2018-01-01 11:51:12\n",
       "651        975.383864       True  ...         2 2018-01-03 21:13:17\n",
       "950        907.836523       True  ...         2 2018-01-03 05:14:51\n",
       "...               ...        ...  ...       ...                 ...\n",
       "12820      909.973606       True  ...         5 2018-02-10 05:11:35\n",
       "12906      983.429244       True  ...         6 2018-02-11 06:19:58\n",
       "12918     1136.678150       True  ...         6 2018-02-11 16:03:10\n",
       "12919     1105.211803       True  ...         6 2018-02-11 05:36:05\n",
       "13013     1055.350213       True  ...         6 2018-02-11 13:20:16\n",
       "\n",
       "[68 rows x 27 columns]"
      ]
     },
     "execution_count": 41,
     "metadata": {},
     "output_type": "execute_result"
    }
   ],
   "source": [
    "# oml_biz_log[(oml_biz_log.Carrier==\"Kibana Airlines\") & \n",
    "#            (oml_biz_log.AvgTicketPrice > 900.0) &\n",
    "#            (oml_biz_log.Cancelled == True)]"
   ]
  },
  {
   "cell_type": "markdown",
   "metadata": {},
   "source": [
    "## Function application, GroupBy & window"
   ]
  },
  {
   "cell_type": "markdown",
   "metadata": {},
   "source": [
    "### DataFrame.aggs"
   ]
  },
  {
   "cell_type": "code",
   "execution_count": 42,
   "metadata": {
    "execution": {
     "iopub.execute_input": "2021-12-15T20:24:48.421015Z",
     "iopub.status.busy": "2021-12-15T20:24:48.420431Z",
     "iopub.status.idle": "2021-12-15T20:24:48.428382Z",
     "shell.execute_reply": "2021-12-15T20:24:48.428690Z"
    },
    "pycharm": {
     "is_executing": false
    }
   },
   "outputs": [
    {
     "data": {
      "text/html": [
       "<div>\n",
       "<style scoped>\n",
       "    .dataframe tbody tr th:only-of-type {\n",
       "        vertical-align: middle;\n",
       "    }\n",
       "\n",
       "    .dataframe tbody tr th {\n",
       "        vertical-align: top;\n",
       "    }\n",
       "\n",
       "    .dataframe thead th {\n",
       "        text-align: right;\n",
       "    }\n",
       "</style>\n",
       "<table border=\"1\" class=\"dataframe\">\n",
       "  <thead>\n",
       "    <tr style=\"text-align: right;\">\n",
       "      <th></th>\n",
       "      <th>DistanceKilometers</th>\n",
       "      <th>AvgTicketPrice</th>\n",
       "    </tr>\n",
       "  </thead>\n",
       "  <tbody>\n",
       "    <tr>\n",
       "      <th>sum</th>\n",
       "      <td>9.261629e+07</td>\n",
       "      <td>8.204365e+06</td>\n",
       "    </tr>\n",
       "    <tr>\n",
       "      <th>min</th>\n",
       "      <td>0.000000e+00</td>\n",
       "      <td>1.000205e+02</td>\n",
       "    </tr>\n",
       "    <tr>\n",
       "      <th>std</th>\n",
       "      <td>4.578438e+03</td>\n",
       "      <td>2.663969e+02</td>\n",
       "    </tr>\n",
       "  </tbody>\n",
       "</table>\n",
       "</div>"
      ],
      "text/plain": [
       "     DistanceKilometers  AvgTicketPrice\n",
       "sum        9.261629e+07    8.204365e+06\n",
       "min        0.000000e+00    1.000205e+02\n",
       "std        4.578438e+03    2.663969e+02"
      ]
     },
     "execution_count": 42,
     "metadata": {},
     "output_type": "execute_result"
    }
   ],
   "source": [
    "pd_biz_log[['DistanceKilometers', 'AvgTicketPrice']].aggregate(['sum', 'min', 'std'])"
   ]
  },
  {
   "cell_type": "markdown",
   "metadata": {},
   "source": [
    "`opensearch_py_ml.DataFrame.aggregate` currently only supported numeric columns"
   ]
  },
  {
   "cell_type": "code",
   "execution_count": 43,
   "metadata": {
    "execution": {
     "iopub.execute_input": "2021-12-15T20:24:48.433082Z",
     "iopub.status.busy": "2021-12-15T20:24:48.432716Z",
     "iopub.status.idle": "2021-12-15T20:24:48.541272Z",
     "shell.execute_reply": "2021-12-15T20:24:48.542346Z"
    },
    "pycharm": {
     "is_executing": false
    }
   },
   "outputs": [
    {
     "data": {
      "text/html": [
       "<div>\n",
       "<style scoped>\n",
       "    .dataframe tbody tr th:only-of-type {\n",
       "        vertical-align: middle;\n",
       "    }\n",
       "\n",
       "    .dataframe tbody tr th {\n",
       "        vertical-align: top;\n",
       "    }\n",
       "\n",
       "    .dataframe thead th {\n",
       "        text-align: right;\n",
       "    }\n",
       "</style>\n",
       "<table border=\"1\" class=\"dataframe\">\n",
       "  <thead>\n",
       "    <tr style=\"text-align: right;\">\n",
       "      <th></th>\n",
       "      <th>DistanceKilometers</th>\n",
       "      <th>AvgTicketPrice</th>\n",
       "    </tr>\n",
       "  </thead>\n",
       "  <tbody>\n",
       "    <tr>\n",
       "      <th>sum</th>\n",
       "      <td>9.261629e+07</td>\n",
       "      <td>8.204365e+06</td>\n",
       "    </tr>\n",
       "    <tr>\n",
       "      <th>min</th>\n",
       "      <td>0.000000e+00</td>\n",
       "      <td>1.000205e+02</td>\n",
       "    </tr>\n",
       "    <tr>\n",
       "      <th>std</th>\n",
       "      <td>4.578614e+03</td>\n",
       "      <td>2.664071e+02</td>\n",
       "    </tr>\n",
       "  </tbody>\n",
       "</table>\n",
       "</div>"
      ],
      "text/plain": [
       "     DistanceKilometers  AvgTicketPrice\n",
       "sum        9.261629e+07    8.204365e+06\n",
       "min        0.000000e+00    1.000205e+02\n",
       "std        4.578614e+03    2.664071e+02"
      ]
     },
     "execution_count": 43,
     "metadata": {},
     "output_type": "execute_result"
    }
   ],
   "source": [
    "oml_biz_log[['DistanceKilometers', 'AvgTicketPrice']].aggregate(['sum', 'min', 'std'])"
   ]
  },
  {
   "cell_type": "markdown",
   "metadata": {},
   "source": [
    "## Computations / descriptive stats"
   ]
  },
  {
   "cell_type": "markdown",
   "metadata": {},
   "source": [
    "### DataFrame.count"
   ]
  },
  {
   "cell_type": "code",
   "execution_count": 47,
   "metadata": {
    "execution": {
     "iopub.execute_input": "2021-12-15T20:24:48.574692Z",
     "iopub.status.busy": "2021-12-15T20:24:48.574008Z",
     "iopub.status.idle": "2021-12-15T20:24:48.580240Z",
     "shell.execute_reply": "2021-12-15T20:24:48.579845Z"
    },
    "pycharm": {
     "is_executing": false
    }
   },
   "outputs": [
    {
     "data": {
      "text/plain": [
       "busi_cd           7783\n",
       "busi_dtl_contn    7783\n",
       "button_cd         7783\n",
       "dept_cd           7783\n",
       "emp_cd            7783\n",
       "                  ... \n",
       "sear_val          7783\n",
       "sys_cd            7783\n",
       "user_id           7783\n",
       "user_ip           7783\n",
       "ykiho_cd          7783\n",
       "Length: 25, dtype: int64"
      ]
     },
     "execution_count": 47,
     "metadata": {},
     "output_type": "execute_result"
    }
   ],
   "source": [
    "pd_biz_log.count()"
   ]
  },
  {
   "cell_type": "code",
   "execution_count": 48,
   "metadata": {
    "execution": {
     "iopub.execute_input": "2021-12-15T20:24:48.583948Z",
     "iopub.status.busy": "2021-12-15T20:24:48.583565Z",
     "iopub.status.idle": "2021-12-15T20:24:50.642201Z",
     "shell.execute_reply": "2021-12-15T20:24:50.643158Z"
    },
    "pycharm": {
     "is_executing": false
    }
   },
   "outputs": [
    {
     "data": {
      "text/plain": [
       "busi_cd           7783\n",
       "busi_dtl_contn    7783\n",
       "button_cd         7783\n",
       "dept_cd           7783\n",
       "emp_cd            7783\n",
       "                  ... \n",
       "sear_val          7783\n",
       "sys_cd            7783\n",
       "user_id           7783\n",
       "user_ip           7783\n",
       "ykiho_cd          7783\n",
       "Length: 25, dtype: int64"
      ]
     },
     "execution_count": 48,
     "metadata": {},
     "output_type": "execute_result"
    }
   ],
   "source": [
    "oml_biz_log.count()"
   ]
  },
  {
   "cell_type": "markdown",
   "metadata": {},
   "source": [
    "### DataFrame.describe"
   ]
  },
  {
   "cell_type": "code",
   "execution_count": 49,
   "metadata": {
    "execution": {
     "iopub.execute_input": "2021-12-15T20:24:50.655939Z",
     "iopub.status.busy": "2021-12-15T20:24:50.654654Z",
     "iopub.status.idle": "2021-12-15T20:24:50.702251Z",
     "shell.execute_reply": "2021-12-15T20:24:50.701757Z"
    },
    "pycharm": {
     "is_executing": false
    }
   },
   "outputs": [
    {
     "data": {
      "text/html": [
       "<div>\n",
       "<style scoped>\n",
       "    .dataframe tbody tr th:only-of-type {\n",
       "        vertical-align: middle;\n",
       "    }\n",
       "\n",
       "    .dataframe tbody tr th {\n",
       "        vertical-align: top;\n",
       "    }\n",
       "\n",
       "    .dataframe thead th {\n",
       "        text-align: right;\n",
       "    }\n",
       "</style>\n",
       "<table border=\"1\" class=\"dataframe\">\n",
       "  <thead>\n",
       "    <tr style=\"text-align: right;\">\n",
       "      <th></th>\n",
       "      <th>emp_cd</th>\n",
       "      <th>inq_seq</th>\n",
       "      <th>...</th>\n",
       "      <th>proc_time</th>\n",
       "      <th>user_id</th>\n",
       "    </tr>\n",
       "  </thead>\n",
       "  <tbody>\n",
       "    <tr>\n",
       "      <th>count</th>\n",
       "      <td>7.783000e+03</td>\n",
       "      <td>7.783000e+03</td>\n",
       "      <td>...</td>\n",
       "      <td>7783.000000</td>\n",
       "      <td>7.783000e+03</td>\n",
       "    </tr>\n",
       "    <tr>\n",
       "      <th>mean</th>\n",
       "      <td>2.008112e+07</td>\n",
       "      <td>2.287276e+07</td>\n",
       "      <td>...</td>\n",
       "      <td>29.137479</td>\n",
       "      <td>2.008112e+07</td>\n",
       "    </tr>\n",
       "    <tr>\n",
       "      <th>std</th>\n",
       "      <td>1.137854e+05</td>\n",
       "      <td>6.957642e+06</td>\n",
       "      <td>...</td>\n",
       "      <td>17.355383</td>\n",
       "      <td>1.137854e+05</td>\n",
       "    </tr>\n",
       "    <tr>\n",
       "      <th>min</th>\n",
       "      <td>1.981011e+07</td>\n",
       "      <td>6.626240e+06</td>\n",
       "      <td>...</td>\n",
       "      <td>0.000000</td>\n",
       "      <td>1.981011e+07</td>\n",
       "    </tr>\n",
       "    <tr>\n",
       "      <th>25%</th>\n",
       "      <td>2.001132e+07</td>\n",
       "      <td>1.255400e+07</td>\n",
       "      <td>...</td>\n",
       "      <td>14.000000</td>\n",
       "      <td>2.001132e+07</td>\n",
       "    </tr>\n",
       "    <tr>\n",
       "      <th>50%</th>\n",
       "      <td>2.014029e+07</td>\n",
       "      <td>2.712638e+07</td>\n",
       "      <td>...</td>\n",
       "      <td>29.000000</td>\n",
       "      <td>2.014029e+07</td>\n",
       "    </tr>\n",
       "    <tr>\n",
       "      <th>75%</th>\n",
       "      <td>2.016240e+07</td>\n",
       "      <td>2.712833e+07</td>\n",
       "      <td>...</td>\n",
       "      <td>44.000000</td>\n",
       "      <td>2.016240e+07</td>\n",
       "    </tr>\n",
       "    <tr>\n",
       "      <th>max</th>\n",
       "      <td>2.017252e+07</td>\n",
       "      <td>2.713027e+07</td>\n",
       "      <td>...</td>\n",
       "      <td>59.000000</td>\n",
       "      <td>2.017252e+07</td>\n",
       "    </tr>\n",
       "  </tbody>\n",
       "</table>\n",
       "<p>8 rows × 6 columns</p>\n",
       "</div>"
      ],
      "text/plain": [
       "             emp_cd       inq_seq  ...    proc_time       user_id\n",
       "count  7.783000e+03  7.783000e+03  ...  7783.000000  7.783000e+03\n",
       "mean   2.008112e+07  2.287276e+07  ...    29.137479  2.008112e+07\n",
       "std    1.137854e+05  6.957642e+06  ...    17.355383  1.137854e+05\n",
       "min    1.981011e+07  6.626240e+06  ...     0.000000  1.981011e+07\n",
       "25%    2.001132e+07  1.255400e+07  ...    14.000000  2.001132e+07\n",
       "50%    2.014029e+07  2.712638e+07  ...    29.000000  2.014029e+07\n",
       "75%    2.016240e+07  2.712833e+07  ...    44.000000  2.016240e+07\n",
       "max    2.017252e+07  2.713027e+07  ...    59.000000  2.017252e+07\n",
       "\n",
       "[8 rows x 6 columns]"
      ]
     },
     "execution_count": 49,
     "metadata": {},
     "output_type": "execute_result"
    }
   ],
   "source": [
    "pd_biz_log.describe()"
   ]
  },
  {
   "cell_type": "markdown",
   "metadata": {},
   "source": [
    "Values returned from `opensearch_py_ml.DataFrame.describe` may vary due to results of Opensearch aggregations."
   ]
  },
  {
   "cell_type": "code",
   "execution_count": 51,
   "metadata": {
    "execution": {
     "iopub.execute_input": "2021-12-15T20:24:50.710321Z",
     "iopub.status.busy": "2021-12-15T20:24:50.709905Z",
     "iopub.status.idle": "2021-12-15T20:24:50.912876Z",
     "shell.execute_reply": "2021-12-15T20:24:50.913469Z"
    },
    "pycharm": {
     "is_executing": false
    }
   },
   "outputs": [
    {
     "data": {
      "text/html": [
       "<div>\n",
       "<style scoped>\n",
       "    .dataframe tbody tr th:only-of-type {\n",
       "        vertical-align: middle;\n",
       "    }\n",
       "\n",
       "    .dataframe tbody tr th {\n",
       "        vertical-align: top;\n",
       "    }\n",
       "\n",
       "    .dataframe thead th {\n",
       "        text-align: right;\n",
       "    }\n",
       "</style>\n",
       "<table border=\"1\" class=\"dataframe\">\n",
       "  <thead>\n",
       "    <tr style=\"text-align: right;\">\n",
       "      <th></th>\n",
       "    </tr>\n",
       "  </thead>\n",
       "  <tbody>\n",
       "    <tr>\n",
       "      <th>count</th>\n",
       "    </tr>\n",
       "    <tr>\n",
       "      <th>mean</th>\n",
       "    </tr>\n",
       "    <tr>\n",
       "      <th>std</th>\n",
       "    </tr>\n",
       "    <tr>\n",
       "      <th>min</th>\n",
       "    </tr>\n",
       "    <tr>\n",
       "      <th>25%</th>\n",
       "    </tr>\n",
       "    <tr>\n",
       "      <th>50%</th>\n",
       "    </tr>\n",
       "    <tr>\n",
       "      <th>75%</th>\n",
       "    </tr>\n",
       "    <tr>\n",
       "      <th>max</th>\n",
       "    </tr>\n",
       "  </tbody>\n",
       "</table>\n",
       "</div>"
      ],
      "text/plain": [
       "Empty DataFrame\n",
       "Columns: []\n",
       "Index: [count, mean, std, min, 25%, 50%, 75%, max]"
      ]
     },
     "execution_count": 51,
     "metadata": {},
     "output_type": "execute_result"
    }
   ],
   "source": [
    "# NBVAL_IGNORE_OUTPUT\n",
    "oml_biz_log.describe()"
   ]
  },
  {
   "cell_type": "markdown",
   "metadata": {},
   "source": [
    "### DataFrame.info"
   ]
  },
  {
   "cell_type": "code",
   "execution_count": 52,
   "metadata": {
    "execution": {
     "iopub.execute_input": "2021-12-15T20:24:50.944997Z",
     "iopub.status.busy": "2021-12-15T20:24:50.918277Z",
     "iopub.status.idle": "2021-12-15T20:24:50.958394Z",
     "shell.execute_reply": "2021-12-15T20:24:50.958030Z"
    },
    "pycharm": {
     "is_executing": false
    }
   },
   "outputs": [
    {
     "name": "stdout",
     "output_type": "stream",
     "text": [
      "<class 'pandas.core.frame.DataFrame'>\n",
      "Index: 7783 entries, 0 to 7784\n",
      "Data columns (total 25 columns):\n",
      " #   Column          Non-Null Count  Dtype  \n",
      "---  ------          --------------  -----  \n",
      " 0   busi_cd         7783 non-null   object \n",
      " 1   busi_dtl_contn  7783 non-null   object \n",
      " 2   button_cd       7783 non-null   object \n",
      " 3   dept_cd         7783 non-null   object \n",
      " 4   emp_cd          7783 non-null   float64\n",
      " 5   hq_cd           7783 non-null   object \n",
      " 6   inq_reason      7783 non-null   object \n",
      " 7   inq_seq         7783 non-null   float64\n",
      " 8   join_ssn        7783 non-null   object \n",
      " 9   log_agency_cd   7783 non-null   object \n",
      " 10  log_seq         7783 non-null   float64\n",
      " 11  org_cd          7783 non-null   object \n",
      " 12  per_inf_cd      7783 non-null   object \n",
      " 13  prg_id          7783 non-null   object \n",
      " 14  proc_date       7783 non-null   object \n",
      " 15  proc_hour       7783 non-null   float64\n",
      " 16  proc_time       7783 non-null   float64\n",
      " 17  recv_no         7783 non-null   object \n",
      " 18  recv_yyyy       7783 non-null   object \n",
      " 19  req_url         7783 non-null   object \n",
      " 20  sear_val        7783 non-null   object \n",
      " 21  sys_cd          7783 non-null   object \n",
      " 22  user_id         7783 non-null   float64\n",
      " 23  user_ip         7783 non-null   object \n",
      " 24  ykiho_cd        7783 non-null   object \n",
      "dtypes: float64(6), object(19)\n",
      "memory usage: 1.8+ MB\n"
     ]
    }
   ],
   "source": [
    "pd_biz_log.info()"
   ]
  },
  {
   "cell_type": "code",
   "execution_count": 53,
   "metadata": {
    "execution": {
     "iopub.execute_input": "2021-12-15T20:24:50.961762Z",
     "iopub.status.busy": "2021-12-15T20:24:50.961398Z",
     "iopub.status.idle": "2021-12-15T20:24:55.507758Z",
     "shell.execute_reply": "2021-12-15T20:24:55.507382Z"
    },
    "pycharm": {
     "is_executing": false
    }
   },
   "outputs": [
    {
     "name": "stdout",
     "output_type": "stream",
     "text": [
      "<class 'opensearch_py_ml.dataframe.DataFrame'>\n",
      "Index: 7783 entries, 0 to 7784\n",
      "Data columns (total 25 columns):\n",
      " #   Column          Non-Null Count  Dtype \n",
      "---  ------          --------------  ----- \n",
      " 0   busi_cd         7783 non-null   object\n",
      " 1   busi_dtl_contn  7783 non-null   object\n",
      " 2   button_cd       7783 non-null   object\n",
      " 3   dept_cd         7783 non-null   object\n",
      " 4   emp_cd          7783 non-null   object\n",
      " 5   hq_cd           7783 non-null   object\n",
      " 6   inq_reason      7783 non-null   object\n",
      " 7   inq_seq         7783 non-null   object\n",
      " 8   join_ssn        7783 non-null   object\n",
      " 9   log_agency_cd   7783 non-null   object\n",
      " 10  log_seq         7783 non-null   object\n",
      " 11  org_cd          7783 non-null   object\n",
      " 12  per_inf_cd      7783 non-null   object\n",
      " 13  prg_id          7783 non-null   object\n",
      " 14  proc_date       7783 non-null   object\n",
      " 15  proc_hour       7783 non-null   object\n",
      " 16  proc_time       7783 non-null   object\n",
      " 17  recv_no         7783 non-null   object\n",
      " 18  recv_yyyy       7783 non-null   object\n",
      " 19  req_url         7783 non-null   object\n",
      " 20  sear_val        7783 non-null   object\n",
      " 21  sys_cd          7783 non-null   object\n",
      " 22  user_id         7783 non-null   object\n",
      " 23  user_ip         7783 non-null   object\n",
      " 24  ykiho_cd        7783 non-null   object\n",
      "dtypes: object(25)\n",
      "memory usage: 88.000 bytes\n",
      "OpenSearch storage usage: 9.342 MB\n"
     ]
    }
   ],
   "source": [
    "oml_biz_log.info()"
   ]
  },
  {
   "cell_type": "markdown",
   "metadata": {},
   "source": [
    "### DataFrame.max, DataFrame.min, DataFrame.mean, DataFrame.sum"
   ]
  },
  {
   "cell_type": "markdown",
   "metadata": {},
   "source": [
    "#### max"
   ]
  },
  {
   "cell_type": "code",
   "execution_count": 54,
   "metadata": {
    "execution": {
     "iopub.execute_input": "2021-12-15T20:24:55.511067Z",
     "iopub.status.busy": "2021-12-15T20:24:55.510706Z",
     "iopub.status.idle": "2021-12-15T20:24:55.515166Z",
     "shell.execute_reply": "2021-12-15T20:24:55.514795Z"
    },
    "pycharm": {
     "is_executing": false
    }
   },
   "outputs": [
    {
     "data": {
      "text/plain": [
       "emp_cd       20172524.0\n",
       "inq_seq      27130274.0\n",
       "log_seq         41597.0\n",
       "proc_hour        2354.0\n",
       "proc_time          59.0\n",
       "user_id      20172524.0\n",
       "dtype: float64"
      ]
     },
     "execution_count": 54,
     "metadata": {},
     "output_type": "execute_result"
    }
   ],
   "source": [
    "pd_biz_log.max(numeric_only=True)"
   ]
  },
  {
   "cell_type": "markdown",
   "metadata": {},
   "source": [
    "`opensearch_py_ml.DataFrame.max,min,mean,sum` only aggregate numeric columns"
   ]
  },
  {
   "cell_type": "code",
   "execution_count": 55,
   "metadata": {
    "execution": {
     "iopub.execute_input": "2021-12-15T20:24:55.521502Z",
     "iopub.status.busy": "2021-12-15T20:24:55.521124Z",
     "iopub.status.idle": "2021-12-15T20:24:55.615898Z",
     "shell.execute_reply": "2021-12-15T20:24:55.614418Z"
    },
    "pycharm": {
     "is_executing": false
    }
   },
   "outputs": [
    {
     "data": {
      "text/plain": [
       "Series([], dtype: float64)"
      ]
     },
     "execution_count": 55,
     "metadata": {},
     "output_type": "execute_result"
    }
   ],
   "source": [
    "oml_biz_log.max(numeric_only=True)"
   ]
  },
  {
   "cell_type": "markdown",
   "metadata": {},
   "source": [
    "#### min"
   ]
  },
  {
   "cell_type": "code",
   "execution_count": 56,
   "metadata": {
    "execution": {
     "iopub.execute_input": "2021-12-15T20:24:55.629444Z",
     "iopub.status.busy": "2021-12-15T20:24:55.627340Z",
     "iopub.status.idle": "2021-12-15T20:24:55.638818Z",
     "shell.execute_reply": "2021-12-15T20:24:55.637856Z"
    },
    "pycharm": {
     "is_executing": false
    }
   },
   "outputs": [
    {
     "data": {
      "text/plain": [
       "emp_cd       19810109.0\n",
       "inq_seq       6626240.0\n",
       "log_seq             5.0\n",
       "proc_hour           0.0\n",
       "proc_time           0.0\n",
       "user_id      19810109.0\n",
       "dtype: float64"
      ]
     },
     "execution_count": 56,
     "metadata": {},
     "output_type": "execute_result"
    }
   ],
   "source": [
    "pd_biz_log.min(numeric_only=True)"
   ]
  },
  {
   "cell_type": "code",
   "execution_count": 57,
   "metadata": {
    "execution": {
     "iopub.execute_input": "2021-12-15T20:24:55.649953Z",
     "iopub.status.busy": "2021-12-15T20:24:55.644304Z",
     "iopub.status.idle": "2021-12-15T20:24:55.731911Z",
     "shell.execute_reply": "2021-12-15T20:24:55.731393Z"
    },
    "pycharm": {
     "is_executing": false
    }
   },
   "outputs": [
    {
     "data": {
      "text/plain": [
       "Series([], dtype: float64)"
      ]
     },
     "execution_count": 57,
     "metadata": {},
     "output_type": "execute_result"
    }
   ],
   "source": [
    "oml_biz_log.min(numeric_only=True)"
   ]
  },
  {
   "cell_type": "markdown",
   "metadata": {},
   "source": [
    "#### mean"
   ]
  },
  {
   "cell_type": "code",
   "execution_count": 58,
   "metadata": {
    "execution": {
     "iopub.execute_input": "2021-12-15T20:24:55.735976Z",
     "iopub.status.busy": "2021-12-15T20:24:55.735398Z",
     "iopub.status.idle": "2021-12-15T20:24:55.740446Z",
     "shell.execute_reply": "2021-12-15T20:24:55.740037Z"
    },
    "pycharm": {
     "is_executing": false
    }
   },
   "outputs": [
    {
     "data": {
      "text/plain": [
       "emp_cd       2.008112e+07\n",
       "inq_seq      2.287276e+07\n",
       "log_seq      2.390149e+04\n",
       "proc_hour    1.325850e+03\n",
       "proc_time    2.913748e+01\n",
       "user_id      2.008112e+07\n",
       "dtype: float64"
      ]
     },
     "execution_count": 58,
     "metadata": {},
     "output_type": "execute_result"
    }
   ],
   "source": [
    "pd_biz_log.mean(numeric_only=True)"
   ]
  },
  {
   "cell_type": "code",
   "execution_count": 59,
   "metadata": {
    "execution": {
     "iopub.execute_input": "2021-12-15T20:24:55.746976Z",
     "iopub.status.busy": "2021-12-15T20:24:55.746605Z",
     "iopub.status.idle": "2021-12-15T20:24:55.852359Z",
     "shell.execute_reply": "2021-12-15T20:24:55.850558Z"
    },
    "pycharm": {
     "is_executing": false
    }
   },
   "outputs": [
    {
     "data": {
      "text/plain": [
       "Series([], dtype: float64)"
      ]
     },
     "execution_count": 59,
     "metadata": {},
     "output_type": "execute_result"
    }
   ],
   "source": [
    "oml_biz_log.mean(numeric_only=True)"
   ]
  },
  {
   "cell_type": "markdown",
   "metadata": {},
   "source": [
    "#### sum"
   ]
  },
  {
   "cell_type": "code",
   "execution_count": 56,
   "metadata": {
    "execution": {
     "iopub.execute_input": "2021-12-15T20:24:55.867747Z",
     "iopub.status.busy": "2021-12-15T20:24:55.865996Z",
     "iopub.status.idle": "2021-12-15T20:24:55.882127Z",
     "shell.execute_reply": "2021-12-15T20:24:55.883534Z"
    },
    "pycharm": {
     "is_executing": false
    }
   },
   "outputs": [
    {
     "data": {
      "text/plain": [
       "AvgTicketPrice        8.204365e+06\n",
       "Cancelled             1.678000e+03\n",
       "DistanceKilometers    9.261629e+07\n",
       "DistanceMiles         5.754909e+07\n",
       "FlightDelay           3.280000e+03\n",
       "FlightDelayMin        6.181500e+05\n",
       "FlightTimeHour        1.112470e+05\n",
       "FlightTimeMin         6.674818e+06\n",
       "dayOfWeek             3.703500e+04\n",
       "dtype: float64"
      ]
     },
     "execution_count": 56,
     "metadata": {},
     "output_type": "execute_result"
    }
   ],
   "source": [
    "pd_biz_log.sum(numeric_only=True)"
   ]
  },
  {
   "cell_type": "code",
   "execution_count": 57,
   "metadata": {
    "execution": {
     "iopub.execute_input": "2021-12-15T20:24:55.906057Z",
     "iopub.status.busy": "2021-12-15T20:24:55.904964Z",
     "iopub.status.idle": "2021-12-15T20:24:55.997011Z",
     "shell.execute_reply": "2021-12-15T20:24:55.997419Z"
    },
    "pycharm": {
     "is_executing": false
    }
   },
   "outputs": [
    {
     "data": {
      "text/plain": [
       "AvgTicketPrice        8.204365e+06\n",
       "Cancelled             1.678000e+03\n",
       "DistanceKilometers    9.261629e+07\n",
       "DistanceMiles         5.754909e+07\n",
       "FlightDelay           3.280000e+03\n",
       "FlightDelayMin        6.181500e+05\n",
       "FlightTimeHour        1.112470e+05\n",
       "FlightTimeMin         6.674818e+06\n",
       "dayOfWeek             3.703500e+04\n",
       "dtype: float64"
      ]
     },
     "execution_count": 57,
     "metadata": {},
     "output_type": "execute_result"
    }
   ],
   "source": [
    "oml_biz_log.sum(numeric_only=True)"
   ]
  },
  {
   "cell_type": "markdown",
   "metadata": {},
   "source": [
    "### DataFrame.nunique"
   ]
  },
  {
   "cell_type": "code",
   "execution_count": 58,
   "metadata": {
    "execution": {
     "iopub.execute_input": "2021-12-15T20:24:56.003863Z",
     "iopub.status.busy": "2021-12-15T20:24:56.003311Z",
     "iopub.status.idle": "2021-12-15T20:24:56.012352Z",
     "shell.execute_reply": "2021-12-15T20:24:56.012798Z"
    },
    "pycharm": {
     "is_executing": false
    }
   },
   "outputs": [
    {
     "data": {
      "text/plain": [
       "Carrier      4\n",
       "Origin     156\n",
       "Dest       156\n",
       "dtype: int64"
      ]
     },
     "execution_count": 58,
     "metadata": {},
     "output_type": "execute_result"
    }
   ],
   "source": [
    "pd_biz_log[['Carrier', 'Origin', 'Dest']].nunique()"
   ]
  },
  {
   "cell_type": "code",
   "execution_count": 59,
   "metadata": {
    "execution": {
     "iopub.execute_input": "2021-12-15T20:24:56.018633Z",
     "iopub.status.busy": "2021-12-15T20:24:56.018038Z",
     "iopub.status.idle": "2021-12-15T20:24:56.109194Z",
     "shell.execute_reply": "2021-12-15T20:24:56.108015Z"
    },
    "pycharm": {
     "is_executing": false
    }
   },
   "outputs": [
    {
     "data": {
      "text/plain": [
       "Carrier      4\n",
       "Origin     156\n",
       "Dest       156\n",
       "dtype: int64"
      ]
     },
     "execution_count": 59,
     "metadata": {},
     "output_type": "execute_result"
    }
   ],
   "source": [
    "oml_biz_log[['Carrier', 'Origin', 'Dest']].nunique()"
   ]
  },
  {
   "cell_type": "markdown",
   "metadata": {},
   "source": [
    "### DataFrame.drop"
   ]
  },
  {
   "cell_type": "code",
   "execution_count": 60,
   "metadata": {
    "execution": {
     "iopub.execute_input": "2021-12-15T20:24:56.124377Z",
     "iopub.status.busy": "2021-12-15T20:24:56.123206Z",
     "iopub.status.idle": "2021-12-15T20:24:56.145226Z",
     "shell.execute_reply": "2021-12-15T20:24:56.145628Z"
    },
    "pycharm": {
     "is_executing": false
    }
   },
   "outputs": [
    {
     "data": {
      "text/html": [
       "<div>\n",
       "<style scoped>\n",
       "    .dataframe tbody tr th:only-of-type {\n",
       "        vertical-align: middle;\n",
       "    }\n",
       "\n",
       "    .dataframe tbody tr th {\n",
       "        vertical-align: top;\n",
       "    }\n",
       "\n",
       "    .dataframe thead th {\n",
       "        text-align: right;\n",
       "    }\n",
       "</style>\n",
       "<table border=\"1\" class=\"dataframe\">\n",
       "  <thead>\n",
       "    <tr style=\"text-align: right;\">\n",
       "      <th></th>\n",
       "      <th>Carrier</th>\n",
       "      <th>DestRegion</th>\n",
       "      <th>...</th>\n",
       "      <th>dayOfWeek</th>\n",
       "      <th>timestamp</th>\n",
       "    </tr>\n",
       "  </thead>\n",
       "  <tbody>\n",
       "    <tr>\n",
       "      <th>0</th>\n",
       "      <td>Kibana Airlines</td>\n",
       "      <td>SE-BD</td>\n",
       "      <td>...</td>\n",
       "      <td>0</td>\n",
       "      <td>2018-01-01 00:00:00</td>\n",
       "    </tr>\n",
       "    <tr>\n",
       "      <th>1</th>\n",
       "      <td>Logstash Airways</td>\n",
       "      <td>IT-34</td>\n",
       "      <td>...</td>\n",
       "      <td>0</td>\n",
       "      <td>2018-01-01 18:27:00</td>\n",
       "    </tr>\n",
       "    <tr>\n",
       "      <th>2</th>\n",
       "      <td>Logstash Airways</td>\n",
       "      <td>IT-34</td>\n",
       "      <td>...</td>\n",
       "      <td>0</td>\n",
       "      <td>2018-01-01 17:11:14</td>\n",
       "    </tr>\n",
       "    <tr>\n",
       "      <th>3</th>\n",
       "      <td>Kibana Airlines</td>\n",
       "      <td>IT-34</td>\n",
       "      <td>...</td>\n",
       "      <td>0</td>\n",
       "      <td>2018-01-01 10:33:28</td>\n",
       "    </tr>\n",
       "    <tr>\n",
       "      <th>4</th>\n",
       "      <td>Kibana Airlines</td>\n",
       "      <td>SE-BD</td>\n",
       "      <td>...</td>\n",
       "      <td>0</td>\n",
       "      <td>2018-01-01 05:13:00</td>\n",
       "    </tr>\n",
       "    <tr>\n",
       "      <th>...</th>\n",
       "      <td>...</td>\n",
       "      <td>...</td>\n",
       "      <td>...</td>\n",
       "      <td>...</td>\n",
       "      <td>...</td>\n",
       "    </tr>\n",
       "    <tr>\n",
       "      <th>13054</th>\n",
       "      <td>Logstash Airways</td>\n",
       "      <td>SE-BD</td>\n",
       "      <td>...</td>\n",
       "      <td>6</td>\n",
       "      <td>2018-02-11 20:42:25</td>\n",
       "    </tr>\n",
       "    <tr>\n",
       "      <th>13055</th>\n",
       "      <td>Logstash Airways</td>\n",
       "      <td>CH-ZH</td>\n",
       "      <td>...</td>\n",
       "      <td>6</td>\n",
       "      <td>2018-02-11 01:41:57</td>\n",
       "    </tr>\n",
       "    <tr>\n",
       "      <th>13056</th>\n",
       "      <td>Logstash Airways</td>\n",
       "      <td>RU-AMU</td>\n",
       "      <td>...</td>\n",
       "      <td>6</td>\n",
       "      <td>2018-02-11 04:09:27</td>\n",
       "    </tr>\n",
       "    <tr>\n",
       "      <th>13057</th>\n",
       "      <td>JetBeats</td>\n",
       "      <td>SE-BD</td>\n",
       "      <td>...</td>\n",
       "      <td>6</td>\n",
       "      <td>2018-02-11 08:28:21</td>\n",
       "    </tr>\n",
       "    <tr>\n",
       "      <th>13058</th>\n",
       "      <td>JetBeats</td>\n",
       "      <td>US-DC</td>\n",
       "      <td>...</td>\n",
       "      <td>6</td>\n",
       "      <td>2018-02-11 14:54:34</td>\n",
       "    </tr>\n",
       "  </tbody>\n",
       "</table>\n",
       "<p>13059 rows × 20 columns</p>\n",
       "</div>"
      ],
      "text/plain": [
       "                Carrier DestRegion  ... dayOfWeek           timestamp\n",
       "0       Kibana Airlines      SE-BD  ...         0 2018-01-01 00:00:00\n",
       "1      Logstash Airways      IT-34  ...         0 2018-01-01 18:27:00\n",
       "2      Logstash Airways      IT-34  ...         0 2018-01-01 17:11:14\n",
       "3       Kibana Airlines      IT-34  ...         0 2018-01-01 10:33:28\n",
       "4       Kibana Airlines      SE-BD  ...         0 2018-01-01 05:13:00\n",
       "...                 ...        ...  ...       ...                 ...\n",
       "13054  Logstash Airways      SE-BD  ...         6 2018-02-11 20:42:25\n",
       "13055  Logstash Airways      CH-ZH  ...         6 2018-02-11 01:41:57\n",
       "13056  Logstash Airways     RU-AMU  ...         6 2018-02-11 04:09:27\n",
       "13057          JetBeats      SE-BD  ...         6 2018-02-11 08:28:21\n",
       "13058          JetBeats      US-DC  ...         6 2018-02-11 14:54:34\n",
       "\n",
       "[13059 rows x 20 columns]"
      ]
     },
     "execution_count": 60,
     "metadata": {},
     "output_type": "execute_result"
    }
   ],
   "source": [
    "pd_biz_log.drop(columns=['AvgTicketPrice', \n",
    "                         'Cancelled', \n",
    "                         'DestLocation',\n",
    "                         'Dest', \n",
    "                         'DestAirportID', \n",
    "                         'DestCityName', \n",
    "                         'DestCountry'])"
   ]
  },
  {
   "cell_type": "code",
   "execution_count": 61,
   "metadata": {
    "execution": {
     "iopub.execute_input": "2021-12-15T20:24:56.151182Z",
     "iopub.status.busy": "2021-12-15T20:24:56.150754Z",
     "iopub.status.idle": "2021-12-15T20:25:00.584497Z",
     "shell.execute_reply": "2021-12-15T20:25:00.583176Z"
    },
    "pycharm": {
     "is_executing": false
    }
   },
   "outputs": [
    {
     "data": {
      "text/html": [
       "<div>\n",
       "<style scoped>\n",
       "    .dataframe tbody tr th:only-of-type {\n",
       "        vertical-align: middle;\n",
       "    }\n",
       "\n",
       "    .dataframe tbody tr th {\n",
       "        vertical-align: top;\n",
       "    }\n",
       "\n",
       "    .dataframe thead th {\n",
       "        text-align: right;\n",
       "    }\n",
       "</style>\n",
       "<table border=\"1\" class=\"dataframe\">\n",
       "  <thead>\n",
       "    <tr style=\"text-align: right;\">\n",
       "      <th></th>\n",
       "      <th>Carrier</th>\n",
       "      <th>DestRegion</th>\n",
       "      <th>...</th>\n",
       "      <th>dayOfWeek</th>\n",
       "      <th>timestamp</th>\n",
       "    </tr>\n",
       "  </thead>\n",
       "  <tbody>\n",
       "    <tr>\n",
       "      <th>0</th>\n",
       "      <td>Kibana Airlines</td>\n",
       "      <td>SE-BD</td>\n",
       "      <td>...</td>\n",
       "      <td>0</td>\n",
       "      <td>2018-01-01 00:00:00</td>\n",
       "    </tr>\n",
       "    <tr>\n",
       "      <th>1</th>\n",
       "      <td>Logstash Airways</td>\n",
       "      <td>IT-34</td>\n",
       "      <td>...</td>\n",
       "      <td>0</td>\n",
       "      <td>2018-01-01 18:27:00</td>\n",
       "    </tr>\n",
       "    <tr>\n",
       "      <th>2</th>\n",
       "      <td>Logstash Airways</td>\n",
       "      <td>IT-34</td>\n",
       "      <td>...</td>\n",
       "      <td>0</td>\n",
       "      <td>2018-01-01 17:11:14</td>\n",
       "    </tr>\n",
       "    <tr>\n",
       "      <th>3</th>\n",
       "      <td>Kibana Airlines</td>\n",
       "      <td>IT-34</td>\n",
       "      <td>...</td>\n",
       "      <td>0</td>\n",
       "      <td>2018-01-01 10:33:28</td>\n",
       "    </tr>\n",
       "    <tr>\n",
       "      <th>4</th>\n",
       "      <td>Kibana Airlines</td>\n",
       "      <td>SE-BD</td>\n",
       "      <td>...</td>\n",
       "      <td>0</td>\n",
       "      <td>2018-01-01 05:13:00</td>\n",
       "    </tr>\n",
       "    <tr>\n",
       "      <th>...</th>\n",
       "      <td>...</td>\n",
       "      <td>...</td>\n",
       "      <td>...</td>\n",
       "      <td>...</td>\n",
       "      <td>...</td>\n",
       "    </tr>\n",
       "    <tr>\n",
       "      <th>13054</th>\n",
       "      <td>Logstash Airways</td>\n",
       "      <td>SE-BD</td>\n",
       "      <td>...</td>\n",
       "      <td>6</td>\n",
       "      <td>2018-02-11 20:42:25</td>\n",
       "    </tr>\n",
       "    <tr>\n",
       "      <th>13055</th>\n",
       "      <td>Logstash Airways</td>\n",
       "      <td>CH-ZH</td>\n",
       "      <td>...</td>\n",
       "      <td>6</td>\n",
       "      <td>2018-02-11 01:41:57</td>\n",
       "    </tr>\n",
       "    <tr>\n",
       "      <th>13056</th>\n",
       "      <td>Logstash Airways</td>\n",
       "      <td>RU-AMU</td>\n",
       "      <td>...</td>\n",
       "      <td>6</td>\n",
       "      <td>2018-02-11 04:09:27</td>\n",
       "    </tr>\n",
       "    <tr>\n",
       "      <th>13057</th>\n",
       "      <td>JetBeats</td>\n",
       "      <td>SE-BD</td>\n",
       "      <td>...</td>\n",
       "      <td>6</td>\n",
       "      <td>2018-02-11 08:28:21</td>\n",
       "    </tr>\n",
       "    <tr>\n",
       "      <th>13058</th>\n",
       "      <td>JetBeats</td>\n",
       "      <td>US-DC</td>\n",
       "      <td>...</td>\n",
       "      <td>6</td>\n",
       "      <td>2018-02-11 14:54:34</td>\n",
       "    </tr>\n",
       "  </tbody>\n",
       "</table>\n",
       "</div>\n",
       "<p>13059 rows × 20 columns</p>"
      ],
      "text/plain": [
       "                Carrier DestRegion  ... dayOfWeek           timestamp\n",
       "0       Kibana Airlines      SE-BD  ...         0 2018-01-01 00:00:00\n",
       "1      Logstash Airways      IT-34  ...         0 2018-01-01 18:27:00\n",
       "2      Logstash Airways      IT-34  ...         0 2018-01-01 17:11:14\n",
       "3       Kibana Airlines      IT-34  ...         0 2018-01-01 10:33:28\n",
       "4       Kibana Airlines      SE-BD  ...         0 2018-01-01 05:13:00\n",
       "...                 ...        ...  ...       ...                 ...\n",
       "13054  Logstash Airways      SE-BD  ...         6 2018-02-11 20:42:25\n",
       "13055  Logstash Airways      CH-ZH  ...         6 2018-02-11 01:41:57\n",
       "13056  Logstash Airways     RU-AMU  ...         6 2018-02-11 04:09:27\n",
       "13057          JetBeats      SE-BD  ...         6 2018-02-11 08:28:21\n",
       "13058          JetBeats      US-DC  ...         6 2018-02-11 14:54:34\n",
       "\n",
       "[13059 rows x 20 columns]"
      ]
     },
     "execution_count": 61,
     "metadata": {},
     "output_type": "execute_result"
    }
   ],
   "source": [
    "oml_biz_log.drop(columns=['AvgTicketPrice', \n",
    "                         'Cancelled', \n",
    "                         'DestLocation',\n",
    "                         'Dest', \n",
    "                         'DestAirportID', \n",
    "                         'DestCityName', \n",
    "                         'DestCountry'])"
   ]
  },
  {
   "cell_type": "markdown",
   "metadata": {},
   "source": [
    "### Plotting"
   ]
  },
  {
   "cell_type": "code",
   "execution_count": 60,
   "metadata": {
    "execution": {
     "iopub.execute_input": "2021-12-15T20:25:00.608502Z",
     "iopub.status.busy": "2021-12-15T20:25:00.607311Z",
     "iopub.status.idle": "2021-12-15T20:25:01.255494Z",
     "shell.execute_reply": "2021-12-15T20:25:01.255790Z"
    },
    "pycharm": {
     "is_executing": false
    }
   },
   "outputs": [
    {
     "data": {
      "image/png": "[encoded data removed]",
      "text/plain": [
       "<Figure size 1000x1000 with 6 Axes>"
      ]
     },
     "metadata": {},
     "output_type": "display_data"
    }
   ],
   "source": [
    "pd_biz_log.select_dtypes(include=np.number).hist(figsize=[10,10])\n",
    "plt.show()"
   ]
  },
  {
   "cell_type": "code",
   "execution_count": 61,
   "metadata": {
    "execution": {
     "iopub.execute_input": "2021-12-15T20:25:01.270515Z",
     "iopub.status.busy": "2021-12-15T20:25:01.269865Z",
     "iopub.status.idle": "2021-12-15T20:25:02.205574Z",
     "shell.execute_reply": "2021-12-15T20:25:02.205194Z"
    },
    "pycharm": {
     "is_executing": false
    }
   },
   "outputs": [
    {
     "ename": "ValueError",
     "evalue": "hist method requires numerical columns, nothing to plot.",
     "output_type": "error",
     "traceback": [
      "\u001b[1;31m---------------------------------------------------------------------------\u001b[0m",
      "\u001b[1;31mValueError\u001b[0m                                Traceback (most recent call last)",
      "Cell \u001b[1;32mIn[61], line 1\u001b[0m\n\u001b[1;32m----> 1\u001b[0m oml_biz_log\u001b[39m.\u001b[39;49mselect_dtypes(include\u001b[39m=\u001b[39;49mnp\u001b[39m.\u001b[39;49mnumber)\u001b[39m.\u001b[39;49mhist(figsize\u001b[39m=\u001b[39;49m[\u001b[39m10\u001b[39;49m,\u001b[39m10\u001b[39;49m])\n\u001b[0;32m      2\u001b[0m plt\u001b[39m.\u001b[39mshow()\n",
      "File \u001b[1;32mc:\\Python311\\Lib\\site-packages\\opensearch_py_ml\\plotting\\_core.py:126\u001b[0m, in \u001b[0;36moml_hist_frame\u001b[1;34m(data, column, by, grid, xlabelsize, xrot, ylabelsize, yrot, ax, sharex, sharey, figsize, layout, bins, **kwds)\u001b[0m\n\u001b[0;32m     76\u001b[0m \u001b[39mdef\u001b[39;00m \u001b[39moml_hist_frame\u001b[39m(\n\u001b[0;32m     77\u001b[0m     data,\n\u001b[0;32m     78\u001b[0m     column\u001b[39m=\u001b[39m\u001b[39mNone\u001b[39;00m,\n\u001b[1;32m   (...)\u001b[0m\n\u001b[0;32m     91\u001b[0m     \u001b[39m*\u001b[39m\u001b[39m*\u001b[39mkwds,\n\u001b[0;32m     92\u001b[0m ):\n\u001b[0;32m     93\u001b[0m \u001b[39m    \u001b[39m\u001b[39m\"\"\"\u001b[39;00m\n\u001b[0;32m     94\u001b[0m \u001b[39m    Make a histogram of the DataFrame's.\u001b[39;00m\n\u001b[0;32m     95\u001b[0m \n\u001b[1;32m   (...)\u001b[0m\n\u001b[0;32m    124\u001b[0m \u001b[39m    >>> hist = df.select_dtypes(include=[np.number]).hist(figsize=[10,10]) # doctest: +SKIP\u001b[39;00m\n\u001b[0;32m    125\u001b[0m \u001b[39m    \"\"\"\u001b[39;00m\n\u001b[1;32m--> 126\u001b[0m     \u001b[39mreturn\u001b[39;00m hist_frame(\n\u001b[0;32m    127\u001b[0m         data,\n\u001b[0;32m    128\u001b[0m         column\u001b[39m=\u001b[39;49mcolumn,\n\u001b[0;32m    129\u001b[0m         by\u001b[39m=\u001b[39;49mby,\n\u001b[0;32m    130\u001b[0m         grid\u001b[39m=\u001b[39;49mgrid,\n\u001b[0;32m    131\u001b[0m         xlabelsize\u001b[39m=\u001b[39;49mxlabelsize,\n\u001b[0;32m    132\u001b[0m         xrot\u001b[39m=\u001b[39;49mxrot,\n\u001b[0;32m    133\u001b[0m         ylabelsize\u001b[39m=\u001b[39;49mylabelsize,\n\u001b[0;32m    134\u001b[0m         yrot\u001b[39m=\u001b[39;49myrot,\n\u001b[0;32m    135\u001b[0m         ax\u001b[39m=\u001b[39;49max,\n\u001b[0;32m    136\u001b[0m         sharex\u001b[39m=\u001b[39;49msharex,\n\u001b[0;32m    137\u001b[0m         sharey\u001b[39m=\u001b[39;49msharey,\n\u001b[0;32m    138\u001b[0m         figsize\u001b[39m=\u001b[39;49mfigsize,\n\u001b[0;32m    139\u001b[0m         layout\u001b[39m=\u001b[39;49mlayout,\n\u001b[0;32m    140\u001b[0m         bins\u001b[39m=\u001b[39;49mbins,\n\u001b[0;32m    141\u001b[0m         \u001b[39m*\u001b[39;49m\u001b[39m*\u001b[39;49mkwds,\n\u001b[0;32m    142\u001b[0m     )\n",
      "File \u001b[1;32mc:\\Python311\\Lib\\site-packages\\opensearch_py_ml\\plotting\\_matplotlib\\hist.py:132\u001b[0m, in \u001b[0;36mhist_frame\u001b[1;34m(data, column, by, grid, xlabelsize, xrot, ylabelsize, yrot, ax, sharex, sharey, figsize, layout, bins, **kwds)\u001b[0m\n\u001b[0;32m    129\u001b[0m naxes \u001b[39m=\u001b[39m \u001b[39mlen\u001b[39m(oml_df_bins\u001b[39m.\u001b[39mcolumns)\n\u001b[0;32m    131\u001b[0m \u001b[39mif\u001b[39;00m naxes \u001b[39m==\u001b[39m \u001b[39m0\u001b[39m:\n\u001b[1;32m--> 132\u001b[0m     \u001b[39mraise\u001b[39;00m \u001b[39mValueError\u001b[39;00m(\u001b[39m\"\u001b[39m\u001b[39mhist method requires numerical columns, \u001b[39m\u001b[39m\"\u001b[39m \u001b[39m\"\u001b[39m\u001b[39mnothing to plot.\u001b[39m\u001b[39m\"\u001b[39m)\n\u001b[0;32m    134\u001b[0m fig, axes \u001b[39m=\u001b[39m create_subplots(\n\u001b[0;32m    135\u001b[0m     naxes\u001b[39m=\u001b[39mnaxes,\n\u001b[0;32m    136\u001b[0m     ax\u001b[39m=\u001b[39max,\n\u001b[1;32m   (...)\u001b[0m\n\u001b[0;32m    141\u001b[0m     layout\u001b[39m=\u001b[39mlayout,\n\u001b[0;32m    142\u001b[0m )\n\u001b[0;32m    143\u001b[0m _axes \u001b[39m=\u001b[39m flatten_axes(axes)\n",
      "\u001b[1;31mValueError\u001b[0m: hist method requires numerical columns, nothing to plot."
     ]
    }
   ],
   "source": [
    "oml_biz_log.select_dtypes(include=np.number).hist(figsize=[10,10])\n",
    "plt.show()"
   ]
  },
  {
   "cell_type": "markdown",
   "metadata": {},
   "source": [
    "### Opensearch utilities"
   ]
  },
  {
   "cell_type": "code",
   "execution_count": 64,
   "metadata": {
    "execution": {
     "iopub.execute_input": "2021-12-15T20:25:02.211768Z",
     "iopub.status.busy": "2021-12-15T20:25:02.211404Z",
     "iopub.status.idle": "2021-12-15T20:25:02.297769Z",
     "shell.execute_reply": "2021-12-15T20:25:02.295526Z"
    },
    "pycharm": {
     "is_executing": false
    }
   },
   "outputs": [],
   "source": [
    "oml_biz_log2 = oml_biz_log[(oml_biz_log.OriginAirportID == 'AMS') & (oml_biz_log.FlightDelayMin > 60)]\n",
    "oml_biz_log2 = oml_biz_log2[['timestamp', 'OriginAirportID', 'DestAirportID', 'FlightDelayMin']]\n",
    "oml_biz_log2 = oml_biz_log2.tail()"
   ]
  },
  {
   "cell_type": "code",
   "execution_count": 65,
   "metadata": {
    "execution": {
     "iopub.execute_input": "2021-12-15T20:25:02.319861Z",
     "iopub.status.busy": "2021-12-15T20:25:02.305735Z",
     "iopub.status.idle": "2021-12-15T20:25:02.325635Z",
     "shell.execute_reply": "2021-12-15T20:25:02.326869Z"
    },
    "pycharm": {
     "is_executing": false
    }
   },
   "outputs": [
    {
     "name": "stdout",
     "output_type": "stream",
     "text": [
      "os_index_pattern: flights\n",
      "Index:\n",
      " os_index_field: _id\n",
      " is_source_field: False\n",
      "Mappings:\n",
      " capabilities:\n",
      "                   os_field_name  is_source os_dtype                  os_date_format        pd_dtype  is_searchable  is_aggregatable  is_scripted aggregatable_os_field_name\n",
      "timestamp              timestamp       True     date  strict_date_hour_minute_second  datetime64[ns]           True             True        False                  timestamp\n",
      "OriginAirportID  OriginAirportID       True  keyword                            None          object           True             True        False            OriginAirportID\n",
      "DestAirportID      DestAirportID       True  keyword                            None          object           True             True        False              DestAirportID\n",
      "FlightDelayMin    FlightDelayMin       True  integer                            None           int64           True             True        False             FlightDelayMin\n",
      "Operations:\n",
      " tasks: [('boolean_filter': ('boolean_filter': {'bool': {'must': [{'term': {'OriginAirportID': 'AMS'}}, {'range': {'FlightDelayMin': {'gt': 60}}}]}})), ('tail': ('sort_field': '_doc', 'count': 5))]\n",
      " size: 5\n",
      " sort_params: {'_doc': 'desc'}\n",
      " _source: ['timestamp', 'OriginAirportID', 'DestAirportID', 'FlightDelayMin']\n",
      " body: {'query': {'bool': {'must': [{'term': {'OriginAirportID': 'AMS'}}, {'range': {'FlightDelayMin': {'gt': 60}}}]}}}\n",
      " post_processing: [('sort_index')]\n",
      "\n"
     ]
    }
   ],
   "source": [
    "print(oml_biz_log2.os_info())"
   ]
  },
  {
   "cell_type": "code",
   "execution_count": null,
   "metadata": {},
   "outputs": [],
   "source": []
  }
 ],
 "metadata": {
  "kernelspec": {
   "display_name": "Python 3",
   "language": "python",
   "name": "python3"
  },
  "language_info": {
   "codemirror_mode": {
    "name": "ipython",
    "version": 3
   },
   "file_extension": ".py",
   "mimetype": "text/x-python",
   "name": "python",
   "nbconvert_exporter": "python",
   "pygments_lexer": "ipython3",
   "version": "3.11.0"
  },
  "vscode": {
   "interpreter": {
    "hash": "c261aea317cc0286b3b3261fbba9abdec21eaa57589985bb7a274bf54d6cc0a7"
   }
  }
 },
 "nbformat": 4,
 "nbformat_minor": 2
}
