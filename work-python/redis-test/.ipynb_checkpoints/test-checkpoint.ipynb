{
 "cells": [
  {
   "cell_type": "markdown",
   "id": "fccc12f1-72e4-4ff7-ad84-a48a6efceba5",
   "metadata": {},
   "source": [
    "## - get connection "
   ]
  },
  {
   "cell_type": "code",
   "execution_count": 13,
   "id": "64eb3e9e-f597-4ef1-bdd9-dc5d988d2063",
   "metadata": {},
   "outputs": [],
   "source": [
    "import redis\n",
    "import datetime\n",
    "\n",
    "pool = redis.ConnectionPool(host='localhost', port=6379, db=0)\n",
    "r = redis.Redis(connection_pool=pool)\n"
   ]
  },
  {
   "cell_type": "markdown",
   "id": "709f9c0b-c588-4a9b-bdc0-029d52e41a3e",
   "metadata": {
    "jp-MarkdownHeadingCollapsed": true
   },
   "source": [
    "## - test code - 0"
   ]
  },
  {
   "cell_type": "code",
   "execution_count": 2,
   "id": "c0b195d9-2c65-419e-b58c-d3a33916c2bd",
   "metadata": {},
   "outputs": [],
   "source": [
    "import random\n",
    "\n",
    "random.seed(444)\n",
    "hats = {f\"hat:{random.getrandbits(32)}\": i for i in (\n",
    "    {\n",
    "        \"color\": \"black\",\n",
    "        \"price\": 49.99,\n",
    "        \"style\": \"fitted\",\n",
    "        \"quantity\": 1000,\n",
    "        \"npurchased\": 0,\n",
    "    },\n",
    "    {\n",
    "        \"color\": \"maroon\",\n",
    "        \"price\": 59.99,\n",
    "        \"style\": \"hipster\",\n",
    "        \"quantity\": 500,\n",
    "        \"npurchased\": 0,\n",
    "    },\n",
    "    {\n",
    "        \"color\": \"green\",\n",
    "        \"price\": 99.99,\n",
    "        \"style\": \"baseball\",\n",
    "        \"quantity\": 200,\n",
    "        \"npurchased\": 0,\n",
    "    })\n",
    "}"
   ]
  },
  {
   "cell_type": "code",
   "execution_count": 4,
   "id": "9114fb36-5ea9-4c66-8202-ce1865c3bb6d",
   "metadata": {
    "scrolled": true
   },
   "outputs": [
    {
     "name": "stderr",
     "output_type": "stream",
     "text": [
      "/tmp/ipykernel_12307/59337920.py:3: DeprecationWarning: Pipeline.hmset() is deprecated. Use Pipeline.hset() instead.\n",
      "  pipe.hmset(h_id, hat)\n"
     ]
    },
    {
     "data": {
      "text/plain": [
       "True"
      ]
     },
     "execution_count": 4,
     "metadata": {},
     "output_type": "execute_result"
    }
   ],
   "source": [
    "with r.pipeline() as pipe:\n",
    "    for h_id, hat in hats.items():\n",
    "        pipe.hmset(h_id, hat)\n",
    "    pipe.execute()\n",
    "r.bgsave()"
   ]
  },
  {
   "cell_type": "code",
   "execution_count": 5,
   "id": "215b0591-e3d7-400b-86db-a8ef8f970bc1",
   "metadata": {},
   "outputs": [
    {
     "data": {
      "text/plain": [
       "[b'hat:1236154736', b'mykey', b'hat:56854717', b'hat:1326692461']"
      ]
     },
     "execution_count": 5,
     "metadata": {},
     "output_type": "execute_result"
    }
   ],
   "source": [
    "r.keys()"
   ]
  },
  {
   "cell_type": "code",
   "execution_count": 6,
   "id": "bfaa1622-2b9c-483e-908a-2d73aa71cb3c",
   "metadata": {},
   "outputs": [
    {
     "name": "stdout",
     "output_type": "stream",
     "text": [
      "{b'1': b'1',\n",
      " b'color': b'maroon',\n",
      " b'npurchased': b'0',\n",
      " b'price': b'59.99',\n",
      " b'quantity': b'500',\n",
      " b'style': b'hipster'}\n"
     ]
    }
   ],
   "source": [
    "import pprint\n",
    "\n",
    "pprint.pprint(r.hgetall(\"hat:1236154736\"))"
   ]
  },
  {
   "cell_type": "code",
   "execution_count": 7,
   "id": "f4f5a734-d5d4-4e8c-9128-8b2660b42b3e",
   "metadata": {},
   "outputs": [
    {
     "data": {
      "text/plain": [
       "2"
      ]
     },
     "execution_count": 7,
     "metadata": {},
     "output_type": "execute_result"
    }
   ],
   "source": [
    "r.hincrby( 'hat:1236154736', 1 )"
   ]
  },
  {
   "cell_type": "code",
   "execution_count": 8,
   "id": "db8eb7aa-0481-4ca5-b836-13248c45e8e5",
   "metadata": {},
   "outputs": [
    {
     "data": {
      "text/plain": [
       "499"
      ]
     },
     "execution_count": 8,
     "metadata": {},
     "output_type": "execute_result"
    }
   ],
   "source": [
    "r.hincrby( 'hat:1236154736', 'quantity', -1 )"
   ]
  },
  {
   "cell_type": "code",
   "execution_count": 9,
   "id": "26fa8b09-519c-4617-98f9-73a381583edb",
   "metadata": {},
   "outputs": [
    {
     "data": {
      "text/plain": [
       "b'499'"
      ]
     },
     "execution_count": 9,
     "metadata": {},
     "output_type": "execute_result"
    }
   ],
   "source": [
    "r.hget( 'hat:1236154736', 'quantity' )"
   ]
  },
  {
   "cell_type": "code",
   "execution_count": 10,
   "id": "6e9a1743-20c7-4ca1-8cce-0682cafe4775",
   "metadata": {},
   "outputs": [
    {
     "data": {
      "text/plain": [
       "1"
      ]
     },
     "execution_count": 10,
     "metadata": {},
     "output_type": "execute_result"
    }
   ],
   "source": [
    " r.hincrby(\"hat:1236154736\", \"npurchased\", 1)"
   ]
  },
  {
   "cell_type": "code",
   "execution_count": 11,
   "id": "84d113a6-a8ed-42f3-8682-4f8b3653fb4f",
   "metadata": {},
   "outputs": [],
   "source": [
    "import logging\n",
    "import redis\n",
    "\n",
    "logging.basicConfig()\n",
    "\n",
    "class OutOfStockError( Exception ):\n",
    "    \"\"\"Raised when PyHats.com is all out of today's hottest hat\"\"\"\n",
    "\n",
    "def buyitem( r: redis.Redis, itemid: int ) -> None:\n",
    "    with r.pipeline() as pipe:\n",
    "        error_count = 0\n",
    "        while True:\n",
    "            try:\n",
    "                # Get available inventory, watching for changes\n",
    "                # related to this itemid before the transaction\n",
    "                pipe.watch( itemid )\n",
    "                nleft: bytes = r.hget( itemid, 'quantity' )\n",
    "                if nleft > b'0':\n",
    "                    pipe.multi()\n",
    "                    pipe.hincrby( itemid, 'quantity', -1 )                    \n",
    "                    pipe.hincrby( itemid, 'npurchased', 1 )\n",
    "                    pipe.execute()\n",
    "                    break\n",
    "                else:\n",
    "                    # Stop watching the itemid and raise to break out\n",
    "                    pipe.unwatch()\n",
    "                    raise OutOfStockError (\n",
    "                        f'Sorry, {itemid} is out of stock!'\n",
    "                    )\n",
    "            except redis.WatchError:\n",
    "                # Log total num. of errors by this user to buy this item,\n",
    "                # then try the same process again of WATCH/HGET/MULTI/EXEC\n",
    "                error_count += 1\n",
    "                logging.warning(\n",
    "                    'WatchError #%d: %s; retrying',\n",
    "                    error_count, itemid\n",
    "                )\n",
    "    return None\n",
    "                "
   ]
  },
  {
   "cell_type": "code",
   "execution_count": 12,
   "id": "9fb3f872-eeed-43fd-a49a-a399f1a4b491",
   "metadata": {},
   "outputs": [],
   "source": [
    "buyitem( r, 'hat:1236154736' )\n",
    "buyitem( r, 'hat:1236154736' )\n",
    "buyitem( r, 'hat:1236154736' )"
   ]
  },
  {
   "cell_type": "code",
   "execution_count": 13,
   "id": "b91ce5d7-b73a-4cd0-9d5c-8eb6ba2bede2",
   "metadata": {},
   "outputs": [
    {
     "data": {
      "text/plain": [
       "[b'496', b'4']"
      ]
     },
     "execution_count": 13,
     "metadata": {},
     "output_type": "execute_result"
    }
   ],
   "source": [
    "r.hmget( 'hat:1236154736', 'quantity', 'npurchased' )"
   ]
  },
  {
   "cell_type": "code",
   "execution_count": 14,
   "id": "be8bd598-cf17-43e7-996e-fa2b03d6c9d7",
   "metadata": {},
   "outputs": [],
   "source": [
    "for _ in range( 196 ):\n",
    "    hat:buyitem( r, 'hat:1236154736' )"
   ]
  },
  {
   "cell_type": "code",
   "execution_count": 15,
   "id": "edcf1035-107f-4062-b4d1-53ebb4cd209a",
   "metadata": {},
   "outputs": [
    {
     "data": {
      "text/plain": [
       "[b'300', b'200']"
      ]
     },
     "execution_count": 15,
     "metadata": {},
     "output_type": "execute_result"
    }
   ],
   "source": [
    "r.hmget( 'hat:1236154736', 'quantity', 'npurchased' )"
   ]
  },
  {
   "cell_type": "code",
   "execution_count": 16,
   "id": "4cbd6d85-2cef-4e12-bb00-b1590977e707",
   "metadata": {},
   "outputs": [],
   "source": [
    "for _ in range( 300 ):\n",
    "    hat:buyitem( r, 'hat:1236154736' )"
   ]
  },
  {
   "cell_type": "code",
   "execution_count": 17,
   "id": "529758c2-78dd-4b91-be07-3979e1e0d305",
   "metadata": {},
   "outputs": [
    {
     "data": {
      "text/plain": [
       "[b'0', b'500']"
      ]
     },
     "execution_count": 17,
     "metadata": {},
     "output_type": "execute_result"
    }
   ],
   "source": [
    "r.hmget( 'hat:1236154736', 'quantity', 'npurchased' )"
   ]
  },
  {
   "cell_type": "code",
   "execution_count": 18,
   "id": "864dfd90-93f3-4ca9-84ce-6cdb641cfb43",
   "metadata": {},
   "outputs": [
    {
     "ename": "OutOfStockError",
     "evalue": "Sorry, hat:1236154736 is out of stock!",
     "output_type": "error",
     "traceback": [
      "\u001b[0;31m---------------------------------------------------------------------------\u001b[0m",
      "\u001b[0;31mOutOfStockError\u001b[0m                           Traceback (most recent call last)",
      "Cell \u001b[0;32mIn[18], line 1\u001b[0m\n\u001b[0;32m----> 1\u001b[0m \u001b[43mbuyitem\u001b[49m\u001b[43m(\u001b[49m\u001b[43m \u001b[49m\u001b[43mr\u001b[49m\u001b[43m,\u001b[49m\u001b[43m \u001b[49m\u001b[38;5;124;43m'\u001b[39;49m\u001b[38;5;124;43mhat:1236154736\u001b[39;49m\u001b[38;5;124;43m'\u001b[39;49m\u001b[43m \u001b[49m\u001b[43m)\u001b[49m\n",
      "Cell \u001b[0;32mIn[11], line 27\u001b[0m, in \u001b[0;36mbuyitem\u001b[0;34m(r, itemid)\u001b[0m\n\u001b[1;32m     24\u001b[0m     \u001b[38;5;28;01melse\u001b[39;00m:\n\u001b[1;32m     25\u001b[0m         \u001b[38;5;66;03m# Stop watching the itemid and raise to break out\u001b[39;00m\n\u001b[1;32m     26\u001b[0m         pipe\u001b[38;5;241m.\u001b[39munwatch()\n\u001b[0;32m---> 27\u001b[0m         \u001b[38;5;28;01mraise\u001b[39;00m OutOfStockError (\n\u001b[1;32m     28\u001b[0m             \u001b[38;5;124mf\u001b[39m\u001b[38;5;124m'\u001b[39m\u001b[38;5;124mSorry, \u001b[39m\u001b[38;5;132;01m{\u001b[39;00mitemid\u001b[38;5;132;01m}\u001b[39;00m\u001b[38;5;124m is out of stock!\u001b[39m\u001b[38;5;124m'\u001b[39m\n\u001b[1;32m     29\u001b[0m         )\n\u001b[1;32m     30\u001b[0m \u001b[38;5;28;01mexcept\u001b[39;00m redis\u001b[38;5;241m.\u001b[39mWatchError:\n\u001b[1;32m     31\u001b[0m     \u001b[38;5;66;03m# Log total num. of errors by this user to buy this item,\u001b[39;00m\n\u001b[1;32m     32\u001b[0m     \u001b[38;5;66;03m# then try the same process again of WATCH/HGET/MULTI/EXEC\u001b[39;00m\n\u001b[1;32m     33\u001b[0m     error_count \u001b[38;5;241m+\u001b[39m\u001b[38;5;241m=\u001b[39m \u001b[38;5;241m1\u001b[39m\n",
      "\u001b[0;31mOutOfStockError\u001b[0m: Sorry, hat:1236154736 is out of stock!"
     ]
    }
   ],
   "source": [
    "buyitem( r, 'hat:1236154736' )"
   ]
  },
  {
   "cell_type": "code",
   "execution_count": 19,
   "id": "013ce09a-4612-4b81-a12f-f64dc96e237f",
   "metadata": {},
   "outputs": [
    {
     "data": {
      "text/plain": [
       "True"
      ]
     },
     "execution_count": 19,
     "metadata": {},
     "output_type": "execute_result"
    }
   ],
   "source": [
    "from datetime import timedelta\n",
    "\n",
    "# setex: \"SET\" with expiration\n",
    "r.setex(\n",
    "    \"runner\",\n",
    "    timedelta(minutes=1),\n",
    "    value=\"now you see me, now you don't\"\n",
    ")"
   ]
  },
  {
   "cell_type": "code",
   "execution_count": 22,
   "id": "d9fb4104-1b3f-412f-a86e-a4997afdcc17",
   "metadata": {},
   "outputs": [
    {
     "data": {
      "text/plain": [
       "-2"
      ]
     },
     "execution_count": 22,
     "metadata": {},
     "output_type": "execute_result"
    }
   ],
   "source": [
    "r.ttl(\"runner\")  # \"Time To Live\", in seconds"
   ]
  },
  {
   "cell_type": "code",
   "execution_count": 23,
   "id": "80a67f6b-bcc5-437d-8b3b-eed748b12980",
   "metadata": {},
   "outputs": [
    {
     "data": {
      "text/plain": [
       "-2"
      ]
     },
     "execution_count": 23,
     "metadata": {},
     "output_type": "execute_result"
    }
   ],
   "source": [
    "r.pttl(\"runner\")  # Like ttl, but milliseconds"
   ]
  },
  {
   "cell_type": "code",
   "execution_count": 27,
   "id": "feec77d8-e3e3-4f93-b6cb-c43c7fe6702a",
   "metadata": {},
   "outputs": [],
   "source": [
    "r.get(\"runner\")  # Not expired yet"
   ]
  },
  {
   "cell_type": "code",
   "execution_count": 26,
   "id": "f7137d77-a40e-48b7-94f8-cd40d4ae672d",
   "metadata": {},
   "outputs": [
    {
     "data": {
      "text/plain": [
       "False"
      ]
     },
     "execution_count": 26,
     "metadata": {},
     "output_type": "execute_result"
    }
   ],
   "source": [
    "r.expire(\"runner\", timedelta(seconds=100))"
   ]
  },
  {
   "cell_type": "code",
   "execution_count": 28,
   "id": "0569affb-6b3f-429a-bb9a-f46d71f6168c",
   "metadata": {},
   "outputs": [
    {
     "data": {
      "text/plain": [
       "0"
      ]
     },
     "execution_count": 28,
     "metadata": {},
     "output_type": "execute_result"
    }
   ],
   "source": [
    "r.exists(\"runner\")"
   ]
  },
  {
   "cell_type": "code",
   "execution_count": 29,
   "id": "41d7174c-b1a8-4c29-9bd3-b71d0096f7eb",
   "metadata": {},
   "outputs": [
    {
     "data": {
      "text/plain": [
       "datetime.datetime(2023, 5, 25, 14, 12, 41)"
      ]
     },
     "execution_count": 29,
     "metadata": {},
     "output_type": "execute_result"
    }
   ],
   "source": [
    "r.lastsave()"
   ]
  },
  {
   "cell_type": "code",
   "execution_count": 32,
   "id": "286d3626-d142-4767-a2b1-a5ea4d3abd00",
   "metadata": {},
   "outputs": [
    {
     "data": {
      "text/plain": [
       "'2023-05-25T14:12:41'"
      ]
     },
     "execution_count": 32,
     "metadata": {},
     "output_type": "execute_result"
    }
   ],
   "source": [
    "import datetime\n",
    "\n",
    "datetime.datetime(2023, 5, 25, 14, 12, 41).isoformat()"
   ]
  },
  {
   "cell_type": "code",
   "execution_count": 38,
   "id": "0f0b276b-d570-4912-8ef1-f627517fe418",
   "metadata": {},
   "outputs": [],
   "source": [
    "restaurant_484272 = {\n",
    "    \"name\": \"Ravagh\",\n",
    "    \"type\": \"Persian\",\n",
    "    \"address\": {\n",
    "        \"street\": {\n",
    "            \"line1\": \"11 E 30th St\",\n",
    "            \"line2\": \"APT 1\",\n",
    "        },\n",
    "        \"city\": \"New York\",\n",
    "        \"state\": \"NY\",\n",
    "        \"zip\": 10016,\n",
    "    }\n",
    "}"
   ]
  },
  {
   "cell_type": "code",
   "execution_count": 42,
   "id": "3e1fbc57-d275-4ec0-9e96-452b1a62a975",
   "metadata": {},
   "outputs": [
    {
     "data": {
      "text/plain": [
       "True"
      ]
     },
     "execution_count": 42,
     "metadata": {},
     "output_type": "execute_result"
    }
   ],
   "source": [
    "import json\n",
    "\n",
    "data = json.dumps( restaurant_484272 )\n",
    "\n",
    "r.set( 484272, data )"
   ]
  },
  {
   "cell_type": "code",
   "execution_count": 43,
   "id": "64501653-2dcd-48c9-9abb-776e6bd2b10e",
   "metadata": {},
   "outputs": [
    {
     "data": {
      "text/plain": [
       "b'{\"name\": \"Ravagh\", \"type\": \"Persian\", \"address\": {\"street\": {\"line1\": \"11 E 30th St\", \"line2\": \"APT 1\"}, \"city\": \"New York\", \"state\": \"NY\", \"zip\": 10016}}'"
      ]
     },
     "execution_count": 43,
     "metadata": {},
     "output_type": "execute_result"
    }
   ],
   "source": [
    "r.get( 484272 )"
   ]
  },
  {
   "cell_type": "markdown",
   "id": "f2ce04d1-1c92-4184-8a59-1f6a3638c3a1",
   "metadata": {},
   "source": [
    "## - query code"
   ]
  },
  {
   "cell_type": "code",
   "execution_count": 71,
   "id": "a8627fd1-c2c8-491f-8cf0-740823125352",
   "metadata": {},
   "outputs": [],
   "source": [
    "seq_1 = {\n",
    "    'seq': 1,\n",
    "\t'req-data': '230525000157',\n",
    "\t'res-Data': '230525003011',\n",
    "\t'status-code': '0',\n",
    "\t'anomal-data': {\n",
    "        'data1' : 'no-more',\n",
    "        'data2' : 'no-more'\n",
    "    }\n",
    "}"
   ]
  },
  {
   "cell_type": "code",
   "execution_count": 5,
   "id": "c89a84f8-92ce-456a-94fe-db43aa9f2bc3",
   "metadata": {},
   "outputs": [
    {
     "data": {
      "text/plain": [
       "{'seq': '1',\n",
       " 'req-date': '20230525 21:44:58',\n",
       " 'res-date': '',\n",
       " 'status-code': '0',\n",
       " 'anomal-data': {}}"
      ]
     },
     "execution_count": 5,
     "metadata": {},
     "output_type": "execute_result"
    }
   ],
   "source": [
    "req_date = datetime.datetime.now().strftime('%Y%m%d %H:%M:%S')\n",
    "       \n",
    "seq_1 = {\n",
    "  'seq': '1',\n",
    "  'req-date': req_date,\n",
    "  'res-date': '',\n",
    "  'status-code': '0',\n",
    "  'anomal-data': dict()\n",
    "}\n",
    "\n",
    "seq_1"
   ]
  },
  {
   "cell_type": "code",
   "execution_count": 6,
   "id": "45faa5e6-68ee-441c-97a6-99c0aa3b1ed9",
   "metadata": {},
   "outputs": [
    {
     "data": {
      "text/plain": [
       "True"
      ]
     },
     "execution_count": 6,
     "metadata": {},
     "output_type": "execute_result"
    }
   ],
   "source": [
    "import json\n",
    "\n",
    "data = json.dumps( seq_1 )\n",
    "\n",
    "r.set( 'seq_1', data )"
   ]
  },
  {
   "cell_type": "code",
   "execution_count": 7,
   "id": "53d7722a-4616-4e7e-9932-1087b2d19489",
   "metadata": {},
   "outputs": [
    {
     "data": {
      "text/plain": [
       "b'{\"seq\": \"1\", \"req-date\": \"20230525 21:44:58\", \"res-date\": \"\", \"status-code\": \"0\", \"anomal-data\": {}}'"
      ]
     },
     "execution_count": 7,
     "metadata": {},
     "output_type": "execute_result"
    }
   ],
   "source": [
    "r.get( 'seq_1' )"
   ]
  },
  {
   "cell_type": "code",
   "execution_count": 8,
   "id": "b8f621bf-9d34-4a5d-a813-aa4810b7bd2d",
   "metadata": {},
   "outputs": [
    {
     "data": {
      "text/plain": [
       "{'seq': '1',\n",
       " 'req-date': '20230525 21:44:58',\n",
       " 'res-date': '',\n",
       " 'status-code': '0',\n",
       " 'anomal-data': {}}"
      ]
     },
     "execution_count": 8,
     "metadata": {},
     "output_type": "execute_result"
    }
   ],
   "source": [
    "json.loads( r.get( 'seq_1' ) )"
   ]
  },
  {
   "cell_type": "code",
   "execution_count": 76,
   "id": "cbbd1875-9131-44da-a225-6a0755f00cbf",
   "metadata": {},
   "outputs": [
    {
     "data": {
      "text/plain": [
       "dict"
      ]
     },
     "execution_count": 76,
     "metadata": {},
     "output_type": "execute_result"
    }
   ],
   "source": [
    "temp = json.loads( r.get( 'seq_1' ) )\n",
    "type( temp )"
   ]
  },
  {
   "cell_type": "code",
   "execution_count": 77,
   "id": "997642de-f9b3-42e1-9e8f-f9a9e7f8b699",
   "metadata": {},
   "outputs": [
    {
     "data": {
      "text/plain": [
       "{'seq': '1',\n",
       " 'req-date': '20230525 18:34:22',\n",
       " 'res-date': '',\n",
       " 'status-code': '0',\n",
       " 'anomal-data': {}}"
      ]
     },
     "execution_count": 77,
     "metadata": {},
     "output_type": "execute_result"
    }
   ],
   "source": [
    "temp"
   ]
  },
  {
   "cell_type": "code",
   "execution_count": 81,
   "id": "fea8f2d1-ca14-4e01-9f56-1fb3b2480672",
   "metadata": {},
   "outputs": [
    {
     "data": {
      "text/plain": [
       "{'seq': '1',\n",
       " 'req-date': '20230525 18:34:22',\n",
       " 'res-date': '20230525 18:39:45',\n",
       " 'status-code': '1',\n",
       " 'anomal-data': {}}"
      ]
     },
     "execution_count": 81,
     "metadata": {},
     "output_type": "execute_result"
    }
   ],
   "source": [
    "res_date = datetime.datetime.now().strftime('%Y%m%d %H:%M:%S')\n",
    "temp.update( {\n",
    "            'res-date': res_date,\n",
    "            'status-code' : '1'\n",
    "       })\n",
    "\n",
    "temp"
   ]
  },
  {
   "cell_type": "code",
   "execution_count": 95,
   "id": "f1269f17-ea43-479b-ba45-5b8eb744a0e2",
   "metadata": {},
   "outputs": [
    {
     "name": "stdout",
     "output_type": "stream",
     "text": [
      "req_seq 0 : 2 \n",
      "req_seq 1 : 3 \n",
      "req_seq 2 : 3 \n"
     ]
    }
   ],
   "source": [
    "req_seq = r.get( 'req_seq' ).decode( 'utf-8' )\n",
    "print( f'req_seq 0 : {req_seq} ' )\n",
    "req_seq = str(int( req_seq ) + 1)\n",
    "print( f'req_seq 1 : {req_seq} ' )\n",
    "r.incr( 'req_seq' )\n",
    "req_seq\n",
    "print( f'req_seq 2 : {req_seq} ' )"
   ]
  },
  {
   "cell_type": "code",
   "execution_count": 106,
   "id": "a6371129-2921-4653-a832-f2fd20065983",
   "metadata": {},
   "outputs": [
    {
     "name": "stdout",
     "output_type": "stream",
     "text": [
      "req_seq -1 : Pipeline<ConnectionPool<Connection<host=localhost,port=6379,db=0>>> \n",
      "[b'3', 4]\n",
      "now number : 4\n"
     ]
    }
   ],
   "source": [
    "pipeline = r.pipeline( transaction=False )\n",
    "\n",
    "#req_seq = pipeline.get( 'req_seq' )\n",
    "pipeline.get( 'req_seq' )\n",
    "print( f'req_seq -1 : {req_seq} ' )\n",
    "# req_seq.decode( 'utf-8' )\n",
    "\n",
    "# print( f'req_seq 0 : {req_seq} ' )\n",
    "\n",
    "# req_seq = str(int( req_seq ) + 1)\n",
    "\n",
    "# print( f'req_seq 1 : {req_seq} ' )\n",
    "\n",
    "pipeline.incr( 'req_seq' )\n",
    "\n",
    "# print( f'req_seq 2 : {req_seq} ' )\n",
    "\n",
    "result = pipeline.execute()\n",
    "\n",
    "print( result )\n",
    "type( result[1] )\n",
    "print( f'now number : {result[1]}' )"
   ]
  },
  {
   "cell_type": "code",
   "execution_count": null,
   "id": "1978f40f-aea4-4f07-bdd3-c42304b8c334",
   "metadata": {},
   "outputs": [],
   "source": []
  },
  {
   "cell_type": "code",
   "execution_count": 48,
   "id": "4229f2a0-df5d-46a4-b089-f31ff7a6b6e1",
   "metadata": {},
   "outputs": [
    {
     "name": "stdout",
     "output_type": "stream",
     "text": [
      "{'anomal-data': {'data1': 'no-more', 'data2': 'no-more'},\n",
      " 'req-data': '230525000157',\n",
      " 'res-Data': '230525003011',\n",
      " 'seq': 1,\n",
      " 'status-code': 0}\n"
     ]
    }
   ],
   "source": [
    "from pprint import pprint\n",
    "\n",
    "pprint( json.loads( r.get( 1 ) ) )\n"
   ]
  },
  {
   "cell_type": "markdown",
   "id": "867afc6e-d8ca-47ab-a528-ba2289fe99b2",
   "metadata": {},
   "source": [
    "## yaml dump"
   ]
  },
  {
   "cell_type": "code",
   "execution_count": 50,
   "id": "ee5fcfb4-1ff7-4f56-a2a7-5e9fa2296a03",
   "metadata": {},
   "outputs": [
    {
     "name": "stdout",
     "output_type": "stream",
     "text": [
      "anomal-data:\n",
      "  data1: no-more\n",
      "  data2: no-more\n",
      "req-data: '230525000157'\n",
      "res-Data: '230525003011'\n",
      "seq: 1\n",
      "status-code: 0\n",
      "\n"
     ]
    }
   ],
   "source": [
    "import yaml  # python -m pip install PyYAML\n",
    "\n",
    "print( yaml.dump( seq_1 ) )"
   ]
  },
  {
   "cell_type": "code",
   "execution_count": 51,
   "id": "bd0d63f4-49df-410d-9f1e-4af30777ff24",
   "metadata": {},
   "outputs": [],
   "source": [
    "from collections.abc import MutableMapping\n",
    "\n",
    "def setflat_skeys(\n",
    "    r: redis.Redis,\n",
    "    obj: dict,\n",
    "    prefix: str,\n",
    "    delim: str = \":\",\n",
    "    *,\n",
    "    _autopfix=\"\"\n",
    ") -> None:\n",
    "    \"\"\"Flatten `obj` and set resulting field-value pairs into `r`.\n",
    "\n",
    "    Calls `.set()` to write to Redis instance inplace and returns None.\n",
    "\n",
    "    `prefix` is an optional str that prefixes all keys.\n",
    "    `delim` is the delimiter that separates the joined, flattened keys.\n",
    "    `_autopfix` is used in recursive calls to created de-nested keys.\n",
    "\n",
    "    The deepest-nested keys must be str, bytes, float, or int.\n",
    "    Otherwise a TypeError is raised.\n",
    "    \"\"\"\n",
    "    allowed_vtypes = (str, bytes, float, int)\n",
    "    for key, value in obj.items():\n",
    "        key = _autopfix + key\n",
    "        if isinstance(value, allowed_vtypes):\n",
    "            r.set(f\"{prefix}{delim}{key}\", value)\n",
    "        elif isinstance(value, MutableMapping):\n",
    "            setflat_skeys(\n",
    "                r, value, prefix, delim, _autopfix=f\"{key}{delim}\"\n",
    "            )\n",
    "        else:\n",
    "            raise TypeError(f\"Unsupported value type: {type(value)}\")"
   ]
  },
  {
   "cell_type": "code",
   "execution_count": 52,
   "id": "8688f347-eaa4-46ce-b25f-f2f41cc3d029",
   "metadata": {},
   "outputs": [
    {
     "data": {
      "text/plain": [
       "True"
      ]
     },
     "execution_count": 52,
     "metadata": {},
     "output_type": "execute_result"
    }
   ],
   "source": [
    "r.flushdb()"
   ]
  },
  {
   "cell_type": "code",
   "execution_count": 56,
   "id": "680650c6-ee75-4787-afcb-894e15a3b4eb",
   "metadata": {},
   "outputs": [
    {
     "name": "stdout",
     "output_type": "stream",
     "text": [
      "b'484272:address:city'             b'New York'    \n",
      "b'484272:address:state'            b'NY'          \n",
      "b'484272:address:street:line1'     b'11 E 30th St'\n",
      "b'484272:address:street:line2'     b'APT 1'       \n",
      "b'484272:address:zip'              b'10016'       \n",
      "b'484272:name'                     b'Ravagh'      \n",
      "b'484272:type'                     b'Persian'     \n"
     ]
    },
    {
     "data": {
      "text/plain": [
       "b'11 E 30th St'"
      ]
     },
     "execution_count": 56,
     "metadata": {},
     "output_type": "execute_result"
    }
   ],
   "source": [
    "setflat_skeys(r, restaurant_484272, 484272)\n",
    "\n",
    "for key in sorted(r.keys(\"484272*\")):  # Filter to this pattern\n",
    "    print(f\"{repr(key):35}{repr(r.get(key)):15}\")\n",
    "\n",
    "r.get(\"484272:address:street:line1\")"
   ]
  },
  {
   "cell_type": "code",
   "execution_count": 55,
   "id": "df498002-0827-4722-a834-b22d643dcf84",
   "metadata": {},
   "outputs": [
    {
     "data": {
      "text/plain": [
       "{'name': 'Ravagh',\n",
       " 'type': 'Persian',\n",
       " 'address': {'street': {'line1': '11 E 30th St', 'line2': 'APT 1'},\n",
       "  'city': 'New York',\n",
       "  'state': 'NY',\n",
       "  'zip': 10016}}"
      ]
     },
     "execution_count": 55,
     "metadata": {},
     "output_type": "execute_result"
    }
   ],
   "source": [
    "restaurant_484272"
   ]
  },
  {
   "cell_type": "markdown",
   "id": "6228c107-c563-4b45-b6cd-3eafa1e8597c",
   "metadata": {},
   "source": [
    "## - make class MemDB"
   ]
  },
  {
   "cell_type": "code",
   "execution_count": 21,
   "id": "c138dc4e-c01d-4b2c-bc0b-109bfc6a2e61",
   "metadata": {},
   "outputs": [],
   "source": [
    "import redis\n",
    "import datetime\n",
    "import json\n",
    "\n",
    "class MemDB:\n",
    "    def __init__(self ):        \n",
    "        self.pool = redis.ConnectionPool( \n",
    "                                host='localhost', \n",
    "                                port=6379,\n",
    "                                db=0\n",
    "                                )\n",
    "        self.r = redis.Redis( connection_pool=pool )\n",
    "        \n",
    "    # insert: initialize data \n",
    "    def init_data( self ):\n",
    "        \n",
    "        # use pipeline because of concurrency\n",
    "        # req_seq is like a primary key \n",
    "        pipe = r.pipeline( transaction=False )\n",
    "        pipe.get( 'req_seq' )\n",
    "        pipe.incr( 'req_seq' )\n",
    "        result = pipe.execute()\n",
    "        seq_no = str( result[1] )\n",
    "        \n",
    "        # req_date format : '20230525 18:15:06' \n",
    "        req_date = datetime.datetime.now().strftime('%Y%m%d %H:%M:%S')       \n",
    "\n",
    "        data =  {\n",
    "                'seq': seq_no,\n",
    "                'req-date': req_date,\n",
    "                'res-date': '',\n",
    "                'status-code': '0',\n",
    "                'anomal-data': dict()\n",
    "        }\n",
    "\n",
    "        temp = json.dumps( data )\n",
    "        seq_no = f'seq:{str(seq_no)}'\n",
    "        r.set( seq_no, temp )\n",
    "        print()\n",
    "        print( seq_no )\n",
    "        print( temp )\n",
    "        \n",
    "        return seq_no\n",
    "        \n",
    "    # insert : after response data \n",
    "    def consume_data( self, seq_no: str  ) -> None:\n",
    "        \n",
    "       # req_date format : '20230525 18:15:06' \n",
    "       res_date = datetime.datetime.now().strftime('%Y%m%d %H:%M:%S')\n",
    "       \n",
    "       temp_dict = json.loads( r.get( 'seq_1' ) )\n",
    "       temp_dict.update({\n",
    "            'res-date': res_date,\n",
    "            'status-code' : '1'\n",
    "       })"
   ]
  },
  {
   "cell_type": "code",
   "execution_count": 11,
   "id": "d0101ee8-b419-4a2c-8a74-9ac82e7b7e7b",
   "metadata": {},
   "outputs": [],
   "source": [
    "from multiprocessing import Process"
   ]
  },
  {
   "cell_type": "code",
   "execution_count": 20,
   "id": "3582b300-5b7e-4687-acd2-c26ee2249c24",
   "metadata": {},
   "outputs": [
    {
     "name": "stdout",
     "output_type": "stream",
     "text": [
      "\n",
      "\n",
      "\n",
      "seq:2seq:1seq:3\n",
      "\n",
      "\n",
      "\n",
      "seq:4{\"seq\": \"3\", \"req-date\": \"20230526 17:17:53\", \"res-date\": \"\", \"status-code\": \"0\", \"anomal-data\": {}}\n",
      "{\"seq\": \"1\", \"req-date\": \"20230526 17:17:53\", \"res-date\": \"\", \"status-code\": \"0\", \"anomal-data\": {}}{\"seq\": \"2\", \"req-date\": \"20230526 17:17:53\", \"res-date\": \"\", \"status-code\": \"0\", \"anomal-data\": {}}\n",
      "seq:5\n",
      "\n",
      "\n",
      "{\"seq\": \"5\", \"req-date\": \"20230526 17:17:53\", \"res-date\": \"\", \"status-code\": \"0\", \"anomal-data\": {}}\n",
      "\n",
      "{\"seq\": \"4\", \"req-date\": \"20230526 17:17:53\", \"res-date\": \"\", \"status-code\": \"0\", \"anomal-data\": {}}\n",
      "\n",
      "seq:6\n",
      "{\"seq\": \"6\", \"req-date\": \"20230526 17:17:53\", \"res-date\": \"\", \"status-code\": \"0\", \"anomal-data\": {}}\n",
      "\n",
      "seq:7\n",
      "{\"seq\": \"7\", \"req-date\": \"20230526 17:17:53\", \"res-date\": \"\", \"status-code\": \"0\", \"anomal-data\": {}}\n",
      "\n",
      "seq:8\n",
      "{\"seq\": \"8\", \"req-date\": \"20230526 17:17:53\", \"res-date\": \"\", \"status-code\": \"0\", \"anomal-data\": {}}\n",
      "seq:9\n",
      "\n",
      "{\"seq\": \"9\", \"req-date\": \"20230526 17:17:53\", \"res-date\": \"\", \"status-code\": \"0\", \"anomal-data\": {}}\n",
      "\n",
      "seq:10\n",
      "{\"seq\": \"10\", \"req-date\": \"20230526 17:17:53\", \"res-date\": \"\", \"status-code\": \"0\", \"anomal-data\": {}}\n",
      "\n",
      "seq:11\n",
      "{\"seq\": \"11\", \"req-date\": \"20230526 17:17:53\", \"res-date\": \"\", \"status-code\": \"0\", \"anomal-data\": {}}\n",
      "\n",
      "seq:12\n",
      "{\"seq\": \"12\", \"req-date\": \"20230526 17:17:53\", \"res-date\": \"\", \"status-code\": \"0\", \"anomal-data\": {}}\n",
      "\n",
      "seq:13\n",
      "\n",
      "{\"seq\": \"13\", \"req-date\": \"20230526 17:17:53\", \"res-date\": \"\", \"status-code\": \"0\", \"anomal-data\": {}}seq:14\n",
      "\n",
      "{\"seq\": \"14\", \"req-date\": \"20230526 17:17:53\", \"res-date\": \"\", \"status-code\": \"0\", \"anomal-data\": {}}\n",
      "seq:15\n",
      "\n",
      "{\"seq\": \"15\", \"req-date\": \"20230526 17:17:53\", \"res-date\": \"\", \"status-code\": \"0\", \"anomal-data\": {}}\n",
      "\n",
      "seq:16\n",
      "{\"seq\": \"16\", \"req-date\": \"20230526 17:17:53\", \"res-date\": \"\", \"status-code\": \"0\", \"anomal-data\": {}}\n",
      "\n",
      "seq:17\n",
      "{\"seq\": \"17\", \"req-date\": \"20230526 17:17:53\", \"res-date\": \"\", \"status-code\": \"0\", \"anomal-data\": {}}\n",
      "\n",
      "seq:18\n",
      "{\"seq\": \"18\", \"req-date\": \"20230526 17:17:53\", \"res-date\": \"\", \"status-code\": \"0\", \"anomal-data\": {}}\n",
      "\n",
      "seq:19\n",
      "{\"seq\": \"19\", \"req-date\": \"20230526 17:17:53\", \"res-date\": \"\", \"status-code\": \"0\", \"anomal-data\": {}}\n",
      "\n",
      "seq:20\n",
      "{\"seq\": \"20\", \"req-date\": \"20230526 17:17:53\", \"res-date\": \"\", \"status-code\": \"0\", \"anomal-data\": {}}\n",
      "\n",
      "seq:21\n",
      "\n",
      "{\"seq\": \"21\", \"req-date\": \"20230526 17:17:53\", \"res-date\": \"\", \"status-code\": \"0\", \"anomal-data\": {}}seq:22\n",
      "\n",
      "{\"seq\": \"22\", \"req-date\": \"20230526 17:17:53\", \"res-date\": \"\", \"status-code\": \"0\", \"anomal-data\": {}}\n",
      "\n",
      "\n",
      "seq:24seq:23\n",
      "\n",
      "{\"seq\": \"24\", \"req-date\": \"20230526 17:17:53\", \"res-date\": \"\", \"status-code\": \"0\", \"anomal-data\": {}}{\"seq\": \"23\", \"req-date\": \"20230526 17:17:53\", \"res-date\": \"\", \"status-code\": \"0\", \"anomal-data\": {}}\n",
      "\n",
      "\n",
      "seq:25\n",
      "{\"seq\": \"25\", \"req-date\": \"20230526 17:17:53\", \"res-date\": \"\", \"status-code\": \"0\", \"anomal-data\": {}}\n",
      "\n",
      "seq:26\n",
      "{\"seq\": \"26\", \"req-date\": \"20230526 17:17:53\", \"res-date\": \"\", \"status-code\": \"0\", \"anomal-data\": {}}\n",
      "\n",
      "seq:27\n",
      "{\"seq\": \"27\", \"req-date\": \"20230526 17:17:53\", \"res-date\": \"\", \"status-code\": \"0\", \"anomal-data\": {}}\n",
      "\n",
      "seq:28\n",
      "\n",
      "seq:29{\"seq\": \"28\", \"req-date\": \"20230526 17:17:53\", \"res-date\": \"\", \"status-code\": \"0\", \"anomal-data\": {}}\n",
      "\n",
      "{\"seq\": \"29\", \"req-date\": \"20230526 17:17:53\", \"res-date\": \"\", \"status-code\": \"0\", \"anomal-data\": {}}\n",
      "\n",
      "seq:30\n",
      "{\"seq\": \"30\", \"req-date\": \"20230526 17:17:53\", \"res-date\": \"\", \"status-code\": \"0\", \"anomal-data\": {}}\n",
      "\n",
      "seq:31\n",
      "{\"seq\": \"31\", \"req-date\": \"20230526 17:17:53\", \"res-date\": \"\", \"status-code\": \"0\", \"anomal-data\": {}}\n",
      "\n",
      "seq:32\n",
      "{\"seq\": \"32\", \"req-date\": \"20230526 17:17:53\", \"res-date\": \"\", \"status-code\": \"0\", \"anomal-data\": {}}\n",
      "\n",
      "seq:33\n",
      "{\"seq\": \"33\", \"req-date\": \"20230526 17:17:53\", \"res-date\": \"\", \"status-code\": \"0\", \"anomal-data\": {}}\n",
      "\n",
      "seq:34\n",
      "{\"seq\": \"34\", \"req-date\": \"20230526 17:17:53\", \"res-date\": \"\", \"status-code\": \"0\", \"anomal-data\": {}}\n",
      "\n",
      "seq:35\n",
      "{\"seq\": \"35\", \"req-date\": \"20230526 17:17:53\", \"res-date\": \"\", \"status-code\": \"0\", \"anomal-data\": {}}\n",
      "\n",
      "seq:36\n",
      "{\"seq\": \"36\", \"req-date\": \"20230526 17:17:53\", \"res-date\": \"\", \"status-code\": \"0\", \"anomal-data\": {}}\n",
      "\n",
      "seq:37\n",
      "{\"seq\": \"37\", \"req-date\": \"20230526 17:17:53\", \"res-date\": \"\", \"status-code\": \"0\", \"anomal-data\": {}}\n",
      "\n",
      "seq:38\n",
      "{\"seq\": \"38\", \"req-date\": \"20230526 17:17:53\", \"res-date\": \"\", \"status-code\": \"0\", \"anomal-data\": {}}\n",
      "\n",
      "seq:39\n",
      "{\"seq\": \"39\", \"req-date\": \"20230526 17:17:53\", \"res-date\": \"\", \"status-code\": \"0\", \"anomal-data\": {}}\n",
      "\n",
      "seq:40\n",
      "{\"seq\": \"40\", \"req-date\": \"20230526 17:17:53\", \"res-date\": \"\", \"status-code\": \"0\", \"anomal-data\": {}}\n",
      "\n",
      "seq:41\n",
      "{\"seq\": \"41\", \"req-date\": \"20230526 17:17:53\", \"res-date\": \"\", \"status-code\": \"0\", \"anomal-data\": {}}\n",
      "\n",
      "seq:42\n",
      "{\"seq\": \"42\", \"req-date\": \"20230526 17:17:53\", \"res-date\": \"\", \"status-code\": \"0\", \"anomal-data\": {}}\n",
      "\n",
      "seq:43\n",
      "\n",
      "seq:44{\"seq\": \"43\", \"req-date\": \"20230526 17:17:53\", \"res-date\": \"\", \"status-code\": \"0\", \"anomal-data\": {}}\n",
      "\n",
      "{\"seq\": \"44\", \"req-date\": \"20230526 17:17:53\", \"res-date\": \"\", \"status-code\": \"0\", \"anomal-data\": {}}\n",
      "\n",
      "seq:45\n",
      "{\"seq\": \"45\", \"req-date\": \"20230526 17:17:53\", \"res-date\": \"\", \"status-code\": \"0\", \"anomal-data\": {}}\n",
      "\n",
      "seq:46\n",
      "{\"seq\": \"46\", \"req-date\": \"20230526 17:17:53\", \"res-date\": \"\", \"status-code\": \"0\", \"anomal-data\": {}}\n",
      "\n",
      "\n",
      "seq:47seq:48\n",
      "\n",
      "{\"seq\": \"48\", \"req-date\": \"20230526 17:17:53\", \"res-date\": \"\", \"status-code\": \"0\", \"anomal-data\": {}}{\"seq\": \"47\", \"req-date\": \"20230526 17:17:53\", \"res-date\": \"\", \"status-code\": \"0\", \"anomal-data\": {}}\n",
      "seq:49\n",
      "\n",
      "\n",
      "\n",
      "{\"seq\": \"49\", \"req-date\": \"20230526 17:17:53\", \"res-date\": \"\", \"status-code\": \"0\", \"anomal-data\": {}}\n",
      "seq:50\n",
      "\n",
      "{\"seq\": \"50\", \"req-date\": \"20230526 17:17:53\", \"res-date\": \"\", \"status-code\": \"0\", \"anomal-data\": {}}seq:51\n",
      "\n",
      "{\"seq\": \"51\", \"req-date\": \"20230526 17:17:53\", \"res-date\": \"\", \"status-code\": \"0\", \"anomal-data\": {}}\n",
      "\n",
      "seq:52\n",
      "{\"seq\": \"52\", \"req-date\": \"20230526 17:17:53\", \"res-date\": \"\", \"status-code\": \"0\", \"anomal-data\": {}}\n",
      "\n",
      "seq:53\n",
      "\n",
      "{\"seq\": \"53\", \"req-date\": \"20230526 17:17:53\", \"res-date\": \"\", \"status-code\": \"0\", \"anomal-data\": {}}seq:54\n",
      "\n",
      "\n",
      "\n",
      "seq:55{\"seq\": \"54\", \"req-date\": \"20230526 17:17:53\", \"res-date\": \"\", \"status-code\": \"0\", \"anomal-data\": {}}\n",
      "{\"seq\": \"55\", \"req-date\": \"20230526 17:17:53\", \"res-date\": \"\", \"status-code\": \"0\", \"anomal-data\": {}}\n",
      "\n",
      "seq:56\n",
      "{\"seq\": \"56\", \"req-date\": \"20230526 17:17:53\", \"res-date\": \"\", \"status-code\": \"0\", \"anomal-data\": {}}\n",
      "\n",
      "seq:57\n",
      "{\"seq\": \"57\", \"req-date\": \"20230526 17:17:53\", \"res-date\": \"\", \"status-code\": \"0\", \"anomal-data\": {}}\n",
      "\n",
      "seq:58\n",
      "\n",
      "seq:59{\"seq\": \"58\", \"req-date\": \"20230526 17:17:53\", \"res-date\": \"\", \"status-code\": \"0\", \"anomal-data\": {}}\n",
      "{\"seq\": \"59\", \"req-date\": \"20230526 17:17:53\", \"res-date\": \"\", \"status-code\": \"0\", \"anomal-data\": {}}\n",
      "\n",
      "\n",
      "seq:60\n",
      "{\"seq\": \"60\", \"req-date\": \"20230526 17:17:53\", \"res-date\": \"\", \"status-code\": \"0\", \"anomal-data\": {}}\n",
      "\n",
      "seq:61\n",
      "\n",
      "{\"seq\": \"61\", \"req-date\": \"20230526 17:17:53\", \"res-date\": \"\", \"status-code\": \"0\", \"anomal-data\": {}}seq:62\n",
      "\n",
      "{\"seq\": \"62\", \"req-date\": \"20230526 17:17:53\", \"res-date\": \"\", \"status-code\": \"0\", \"anomal-data\": {}}\n",
      "\n",
      "seq:63\n",
      "{\"seq\": \"63\", \"req-date\": \"20230526 17:17:53\", \"res-date\": \"\", \"status-code\": \"0\", \"anomal-data\": {}}\n",
      "\n",
      "seq:64\n",
      "{\"seq\": \"64\", \"req-date\": \"20230526 17:17:53\", \"res-date\": \"\", \"status-code\": \"0\", \"anomal-data\": {}}\n",
      "\n",
      "seq:65\n",
      "{\"seq\": \"65\", \"req-date\": \"20230526 17:17:53\", \"res-date\": \"\", \"status-code\": \"0\", \"anomal-data\": {}}\n",
      "\n",
      "seq:66\n",
      "{\"seq\": \"66\", \"req-date\": \"20230526 17:17:53\", \"res-date\": \"\", \"status-code\": \"0\", \"anomal-data\": {}}\n",
      "\n",
      "seq:67\n",
      "{\"seq\": \"67\", \"req-date\": \"20230526 17:17:53\", \"res-date\": \"\", \"status-code\": \"0\", \"anomal-data\": {}}\n",
      "\n",
      "seq:68\n",
      "{\"seq\": \"68\", \"req-date\": \"20230526 17:17:53\", \"res-date\": \"\", \"status-code\": \"0\", \"anomal-data\": {}}\n",
      "\n",
      "seq:69\n",
      "{\"seq\": \"69\", \"req-date\": \"20230526 17:17:53\", \"res-date\": \"\", \"status-code\": \"0\", \"anomal-data\": {}}\n",
      "\n",
      "seq:70\n",
      "{\"seq\": \"70\", \"req-date\": \"20230526 17:17:53\", \"res-date\": \"\", \"status-code\": \"0\", \"anomal-data\": {}}\n",
      "\n",
      "seq:71\n",
      "{\"seq\": \"71\", \"req-date\": \"20230526 17:17:53\", \"res-date\": \"\", \"status-code\": \"0\", \"anomal-data\": {}}\n",
      "\n",
      "seq:72\n",
      "{\"seq\": \"72\", \"req-date\": \"20230526 17:17:53\", \"res-date\": \"\", \"status-code\": \"0\", \"anomal-data\": {}}\n",
      "\n",
      "seq:73\n",
      "{\"seq\": \"73\", \"req-date\": \"20230526 17:17:53\", \"res-date\": \"\", \"status-code\": \"0\", \"anomal-data\": {}}\n",
      "\n",
      "seq:74\n",
      "{\"seq\": \"74\", \"req-date\": \"20230526 17:17:53\", \"res-date\": \"\", \"status-code\": \"0\", \"anomal-data\": {}}\n",
      "\n",
      "seq:75\n",
      "{\"seq\": \"75\", \"req-date\": \"20230526 17:17:53\", \"res-date\": \"\", \"status-code\": \"0\", \"anomal-data\": {}}\n",
      "\n",
      "seq:76\n",
      "{\"seq\": \"76\", \"req-date\": \"20230526 17:17:53\", \"res-date\": \"\", \"status-code\": \"0\", \"anomal-data\": {}}\n",
      "\n",
      "seq:77\n",
      "{\"seq\": \"77\", \"req-date\": \"20230526 17:17:53\", \"res-date\": \"\", \"status-code\": \"0\", \"anomal-data\": {}}\n",
      "\n",
      "seq:78\n",
      "{\"seq\": \"78\", \"req-date\": \"20230526 17:17:53\", \"res-date\": \"\", \"status-code\": \"0\", \"anomal-data\": {}}\n",
      "\n",
      "seq:79\n",
      "{\"seq\": \"79\", \"req-date\": \"20230526 17:17:53\", \"res-date\": \"\", \"status-code\": \"0\", \"anomal-data\": {}}\n",
      "\n",
      "seq:80\n",
      "{\"seq\": \"80\", \"req-date\": \"20230526 17:17:53\", \"res-date\": \"\", \"status-code\": \"0\", \"anomal-data\": {}}\n"
     ]
    }
   ],
   "source": [
    "pids = list()\n",
    "\n",
    "memDB = MemDB()\n",
    "\n",
    "for idx in range( 80 ):\n",
    "    p = Process( target=memDB.init_data )\n",
    "    pids.append( p )\n",
    "    p.start()\n",
    "\n",
    "# for pid in pids:\n",
    "#     pid.join()\n",
    "                "
   ]
  }
 ],
 "metadata": {
  "kernelspec": {
   "display_name": "Python 3 (ipykernel)",
   "language": "python",
   "name": "python3"
  },
  "language_info": {
   "codemirror_mode": {
    "name": "ipython",
    "version": 3
   },
   "file_extension": ".py",
   "mimetype": "text/x-python",
   "name": "python",
   "nbconvert_exporter": "python",
   "pygments_lexer": "ipython3",
   "version": "3.9.13"
  }
 },
 "nbformat": 4,
 "nbformat_minor": 5
}
