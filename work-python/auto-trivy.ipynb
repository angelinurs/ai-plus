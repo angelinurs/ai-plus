{
 "cells": [
  {
   "cell_type": "code",
   "execution_count": 9,
   "metadata": {},
   "outputs": [],
   "source": [
    "text = \\\n",
    "'''\n",
    "psm-rparser 0.1\n",
    "psm-frs 0.1\n",
    "psm-ui 0.2\n",
    "psm-portal 0.2\n",
    "psm-admin 0.2\n",
    "tenent-backup-scheduler 0.3\n",
    "backup-scheduler 0.2\n",
    "psm-configuration-server 0.3\n",
    "psm-summary 0.1\n",
    "psm-partition 0.1\n",
    "psm-summary-monthly 0.1\n",
    "psm-extractor 0.1\n",
    "psm-db-m 0.3\n",
    "'''\n",
    "\n"
   ]
  },
  {
   "cell_type": "code",
   "execution_count": 10,
   "metadata": {},
   "outputs": [
    {
     "data": {
      "text/plain": [
       "['psm-rparser 0.1',\n",
       " 'psm-frs 0.1',\n",
       " 'psm-ui 0.2',\n",
       " 'psm-portal 0.2',\n",
       " 'psm-admin 0.2',\n",
       " 'tenent-backup-scheduler 0.3',\n",
       " 'backup-scheduler 0.2',\n",
       " 'psm-configuration-server 0.3',\n",
       " 'psm-summary 0.1',\n",
       " 'psm-partition 0.1',\n",
       " 'psm-summary-monthly 0.1',\n",
       " 'psm-extractor 0.1',\n",
       " 'psm-db-m 0.3']"
      ]
     },
     "execution_count": 10,
     "metadata": {},
     "output_type": "execute_result"
    }
   ],
   "source": [
    "text.split('\\n')[1:-1]"
   ]
  },
  {
   "cell_type": "code",
   "execution_count": 11,
   "metadata": {},
   "outputs": [
    {
     "name": "stdout",
     "output_type": "stream",
     "text": [
      "sudo trivy image no6d6r14.private-ncr.gov-ntruss.com/psm-rparser:0.1  > psm-rparser.txt \\\n",
      "&& sudo trivy image no6d6r14.private-ncr.gov-ntruss.com/psm-frs:0.1  > psm-frs.txt \\\n",
      "&& sudo trivy image no6d6r14.private-ncr.gov-ntruss.com/psm-ui:0.2  > psm-ui.txt \\\n",
      "&& sudo trivy image no6d6r14.private-ncr.gov-ntruss.com/psm-portal:0.2  > psm-portal.txt \\\n",
      "&& sudo trivy image no6d6r14.private-ncr.gov-ntruss.com/psm-admin:0.2  > psm-admin.txt \\\n",
      "&& sudo trivy image no6d6r14.private-ncr.gov-ntruss.com/tenent-backup-scheduler:0.3  > tenent-backup-scheduler.txt \\\n",
      "&& sudo trivy image no6d6r14.private-ncr.gov-ntruss.com/backup-scheduler:0.2  > backup-scheduler.txt \\\n",
      "&& sudo trivy image no6d6r14.private-ncr.gov-ntruss.com/psm-configuration-server:0.3  > psm-configuration-server.txt \\\n",
      "&& sudo trivy image no6d6r14.private-ncr.gov-ntruss.com/psm-summary:0.1  > psm-summary.txt \\\n",
      "&& sudo trivy image no6d6r14.private-ncr.gov-ntruss.com/psm-partition:0.1  > psm-partition.txt \\\n",
      "&& sudo trivy image no6d6r14.private-ncr.gov-ntruss.com/psm-summary-monthly:0.1  > psm-summary-monthly.txt \\\n",
      "&& sudo trivy image no6d6r14.private-ncr.gov-ntruss.com/psm-extractor:0.1  > psm-extractor.txt \\\n",
      "&& sudo trivy image no6d6r14.private-ncr.gov-ntruss.com/psm-db-m:0.3  > psm-db-m.txt\n"
     ]
    }
   ],
   "source": [
    "command_lines = list()\n",
    "for line in text.split('\\n')[1:-1]:\n",
    "    name, version = line.split(' ')\n",
    "    # command_lines.append( f'sudo trivy image no6d6r14.private-ncr.gov-ntruss.com/{name}:{version} --format json  > {name}.json')\n",
    "    command_lines.append( f'sudo trivy image no6d6r14.private-ncr.gov-ntruss.com/{name}:{version}  > {name}.txt')\n",
    "\n",
    "print( ' \\\\\\n&& '.join(command_lines) )\n",
    "    "
   ]
  }
 ],
 "metadata": {
  "kernelspec": {
   "display_name": "py3.9.5",
   "language": "python",
   "name": "python3"
  },
  "language_info": {
   "codemirror_mode": {
    "name": "ipython",
    "version": 3
   },
   "file_extension": ".py",
   "mimetype": "text/x-python",
   "name": "python",
   "nbconvert_exporter": "python",
   "pygments_lexer": "ipython3",
   "version": "3.9.5"
  },
  "orig_nbformat": 4
 },
 "nbformat": 4,
 "nbformat_minor": 2
}
