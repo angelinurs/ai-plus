{
 "cells": [
  {
   "cell_type": "code",
   "execution_count": 11,
   "metadata": {},
   "outputs": [
    {
     "name": "stdout",
     "output_type": "stream",
     "text": [
      "[{'ip': '94.102.61.88', 'city': None, 'region': None, 'country': None}, {'ip': '47.92.236.60', 'city': None, 'region': None, 'country': None}, {'ip': '167.94.146.58', 'city': None, 'region': None, 'country': None}, {'ip': '209.141.60.74', 'city': None, 'region': None, 'country': None}, {'ip': '62.210.90.216', 'city': None, 'region': None, 'country': None}, {'ip': '167.94.138.36', 'city': None, 'region': None, 'country': None}, {'ip': '162.243.144.4', 'city': None, 'region': None, 'country': None}]\n"
     ]
    }
   ],
   "source": [
    "import requests as req\n",
    "import pandas as pd\n",
    "import datetime as dt\n",
    "\n",
    "class IpChecker:\n",
    "\n",
    "    ips = []\n",
    "\n",
    "    def __init__(self) -> None:\n",
    "        pass\n",
    "\n",
    "\n",
    "    def get_ip(self):\n",
    "        response = req.get('https://api64.ipify.org?format=json').json()\n",
    "\n",
    "        return response[\"ip\"]\n",
    "\n",
    "    def get_location(self, ip_address_input):\n",
    "        ip_address =  ip_address_input if ip_address_input != None else self.get_ip()\n",
    "            \n",
    "        response = req.get(f'https://ipapi.co/{ip_address}/json/').json()\n",
    "\n",
    "        location_data = {\n",
    "            \"ip\": ip_address,\n",
    "            \"city\": response.get(\"city\"),\n",
    "            \"region\": response.get(\"region\"),\n",
    "            \"country\": response.get(\"country_name\")\n",
    "        }\n",
    "\n",
    "        return location_data\n",
    "    \n",
    "    def getFileContents( self, filename ):        \n",
    "        with open(filename) as fr:\n",
    "            data = fr.read()\n",
    "\n",
    "        self.ips = list(set(data.split('\\n')))\n",
    "\n",
    "    def exportReports( self ):\n",
    "        if not bool(len(self.ips)):\n",
    "            self.getFileContents( './ip_addresses.txt' )\n",
    "\n",
    "        data = [ipChecker.get_location( ip ) for ip in self.ips]\n",
    "\n",
    "        date_stamp = dt.datetime.now().strftime(\"%Y%m%d-%H:%M:%S\")\n",
    "        filename = f'./ip_attack_location-{date_stamp}.csv'\n",
    "\n",
    "        pd.DataFrame( data=data ).to_csv( filename, index=False )\n",
    "\n",
    "ipChecker = IpChecker()\n",
    "\n",
    "ipChecker.exportReports()\n"
   ]
  },
  {
   "cell_type": "code",
   "execution_count": 8,
   "metadata": {},
   "outputs": [],
   "source": [
    "ips = \\\n",
    "'''\n",
    "167.94.138.36\n",
    "167.94.138.36\n",
    "94.102.61.88\n",
    "167.94.146.58\n",
    "167.94.146.58\n",
    "209.141.60.74\n",
    "47.92.236.60\n",
    "47.92.236.60\n",
    "47.92.236.60\n",
    "47.92.236.60\n",
    "47.92.236.60\n",
    "162.243.144.4\n",
    "62.210.90.216\n",
    "'''\n",
    "\n",
    "# ips.split('\\n')[1:-1]\n"
   ]
  },
  {
   "cell_type": "code",
   "execution_count": 6,
   "metadata": {},
   "outputs": [
    {
     "data": {
      "text/plain": [
       "{'ip': '62.210.90.216', 'city': None, 'region': None, 'country': None}"
      ]
     },
     "execution_count": 6,
     "metadata": {},
     "output_type": "execute_result"
    }
   ],
   "source": [
    "ipChecker = IpChecker()\n",
    "\n",
    "ipChecker.get_ip()\n",
    "ipChecker.get_location('62.210.90.216')"
   ]
  },
  {
   "cell_type": "code",
   "execution_count": 9,
   "metadata": {},
   "outputs": [
    {
     "name": "stdout",
     "output_type": "stream",
     "text": [
      "{'ip': '167.94.138.36', 'city': None, 'region': None, 'country': None}\n",
      "{'ip': '167.94.138.36', 'city': None, 'region': None, 'country': None}\n",
      "{'ip': '94.102.61.88', 'city': None, 'region': None, 'country': None}\n",
      "{'ip': '167.94.146.58', 'city': None, 'region': None, 'country': None}\n",
      "{'ip': '167.94.146.58', 'city': None, 'region': None, 'country': None}\n",
      "{'ip': '209.141.60.74', 'city': None, 'region': None, 'country': None}\n",
      "{'ip': '47.92.236.60', 'city': None, 'region': None, 'country': None}\n",
      "{'ip': '47.92.236.60', 'city': None, 'region': None, 'country': None}\n",
      "{'ip': '47.92.236.60', 'city': None, 'region': None, 'country': None}\n",
      "{'ip': '47.92.236.60', 'city': None, 'region': None, 'country': None}\n",
      "{'ip': '47.92.236.60', 'city': None, 'region': None, 'country': None}\n",
      "{'ip': '162.243.144.4', 'city': None, 'region': None, 'country': None}\n",
      "{'ip': '62.210.90.216', 'city': None, 'region': None, 'country': None}\n"
     ]
    }
   ],
   "source": [
    "ipChecker = IpChecker()\n",
    "\n",
    "result_arr = list()\n",
    "for ip in ips.split('\\n')[1:-1]:\n",
    "    result_arr.append(ipChecker.get_location( ip ))\n",
    "\n",
    "print( *result_arr, sep='\\n' )"
   ]
  },
  {
   "cell_type": "code",
   "execution_count": 21,
   "metadata": {},
   "outputs": [],
   "source": [
    "import pandas as pd\n",
    "\n",
    "columns = ['ip', 'city', 'region', 'country']\n",
    "filename = './ip_attack_location.csv'\n",
    "\n",
    "pd.DataFrame( data=result_arr ).to_csv( filename, index=False )"
   ]
  },
  {
   "cell_type": "code",
   "execution_count": 2,
   "metadata": {},
   "outputs": [
    {
     "data": {
      "text/plain": [
       "{'ip': '118.130.197.244',\n",
       " 'city': 'Nam-gu',\n",
       " 'region': 'Busan',\n",
       " 'country': 'South Korea'}"
      ]
     },
     "execution_count": 2,
     "metadata": {},
     "output_type": "execute_result"
    }
   ],
   "source": [
    "ipChecker = IpChecker()\n",
    "\n",
    "ipChecker.get_location()"
   ]
  },
  {
   "cell_type": "code",
   "execution_count": 26,
   "metadata": {},
   "outputs": [
    {
     "name": "stdout",
     "output_type": "stream",
     "text": [
      "20231127-11:37:12\n"
     ]
    }
   ],
   "source": [
    "import datetime as dt\n",
    "\n",
    "print(dt.datetime.now().strftime(\"%Y%m%d-%H:%M:%S\"))"
   ]
  },
  {
   "cell_type": "code",
   "execution_count": 14,
   "metadata": {},
   "outputs": [],
   "source": [
    "with open('./ip_addresses.txt') as fr:\n",
    "    ips = fr.read()\n",
    "\n",
    "ips = ips.split('\\n')"
   ]
  },
  {
   "cell_type": "code",
   "execution_count": 17,
   "metadata": {},
   "outputs": [
    {
     "name": "stdout",
     "output_type": "stream",
     "text": [
      "{'query': '167.94.138.36', 'queryType': 'IPv4', 'registry': 'ARIN', 'countryCode': 'US'}\n"
     ]
    }
   ],
   "source": [
    "import requests as req\n",
    "\n",
    "url = 'http://apis.data.go.kr/B551505/whois/ip_address'\n",
    "key = 'Br4iAAGD3WXTBvy3pjnlcQ2WPVCsvk0oPjoivwzcyDuR6316lg2V21gwH1NRxkhSiPxfTKv9/1hkqABZefw3ow=='\n",
    "ip = '167.94.138.36'\n",
    "ext = 'json'\n",
    "params ={'serviceKey' : f'{key}', 'query' : f'{ip}', 'answer' : f'{ext}' }\n",
    "# params ={'serviceKey' : 'Br4iAAGD3WXTBvy3pjnlcQ2WPVCsvk0oPjoivwzcyDuR6316lg2V21gwH1NRxkhSiPxfTKv9/1hkqABZefw3ow==', 'query' : '167.94.138.36', 'answer' : 'json' }\n",
    "\n",
    "response = req.get(url, params=params).json()\n",
    "# response.encoding = 'utf-8'\n",
    "print( response['response']['whois'] )"
   ]
  },
  {
   "cell_type": "code",
   "execution_count": 26,
   "metadata": {},
   "outputs": [
    {
     "name": "stdout",
     "output_type": "stream",
     "text": [
      "{'response': {'result': {'result_code': '10000', 'result_msg': '정상 응답 입니다.'}, 'whois': {'query': '167.94.138.36', 'queryType': 'IPv4', 'registry': 'ARIN', 'countryCode': 'US'}}}\n",
      "{'response': {'result': {'result_code': '10000', 'result_msg': '정상 응답 입니다.'}, 'whois': {'query': '167.94.138.36', 'queryType': 'IPv4', 'registry': 'ARIN', 'countryCode': 'US'}}}\n",
      "{'response': {'result': {'result_code': '10000', 'result_msg': '정상 응답 입니다.'}, 'whois': {'query': '94.102.61.88', 'queryType': 'IPv4', 'registry': 'RIPENCC', 'countryCode': 'NL'}}}\n",
      "{'response': {'result': {'result_code': '10000', 'result_msg': '정상 응답 입니다.'}, 'whois': {'query': '167.94.146.58', 'queryType': 'IPv4', 'registry': 'ARIN', 'countryCode': 'US'}}}\n",
      "{'response': {'result': {'result_code': '10000', 'result_msg': '정상 응답 입니다.'}, 'whois': {'query': '167.94.146.58', 'queryType': 'IPv4', 'registry': 'ARIN', 'countryCode': 'US'}}}\n",
      "{'response': {'result': {'result_code': '10000', 'result_msg': '정상 응답 입니다.'}, 'whois': {'query': '209.141.60.74', 'queryType': 'IPv4', 'registry': 'ARIN', 'countryCode': 'US'}}}\n",
      "{'response': {'result': {'result_code': '10000', 'result_msg': '정상 응답 입니다.'}, 'whois': {'query': '47.92.236.60', 'queryType': 'IPv4', 'registry': 'APNIC', 'countryCode': 'CN'}}}\n",
      "{'response': {'result': {'result_code': '10000', 'result_msg': '정상 응답 입니다.'}, 'whois': {'query': '47.92.236.60', 'queryType': 'IPv4', 'registry': 'APNIC', 'countryCode': 'CN'}}}\n",
      "{'response': {'result': {'result_code': '10000', 'result_msg': '정상 응답 입니다.'}, 'whois': {'query': '47.92.236.60', 'queryType': 'IPv4', 'registry': 'APNIC', 'countryCode': 'CN'}}}\n",
      "{'response': {'result': {'result_code': '10000', 'result_msg': '정상 응답 입니다.'}, 'whois': {'query': '47.92.236.60', 'queryType': 'IPv4', 'registry': 'APNIC', 'countryCode': 'CN'}}}\n",
      "{'response': {'result': {'result_code': '10000', 'result_msg': '정상 응답 입니다.'}, 'whois': {'query': '47.92.236.60', 'queryType': 'IPv4', 'registry': 'APNIC', 'countryCode': 'CN'}}}\n",
      "{'response': {'result': {'result_code': '10000', 'result_msg': '정상 응답 입니다.'}, 'whois': {'query': '162.243.144.4', 'queryType': 'IPv4', 'registry': 'ARIN', 'countryCode': 'US'}}}\n",
      "{'response': {'result': {'result_code': '10000', 'result_msg': '정상 응답 입니다.'}, 'whois': {'query': '62.210.90.216', 'queryType': 'IPv4', 'registry': 'RIPENCC', 'countryCode': 'FR'}}}\n"
     ]
    }
   ],
   "source": [
    "import requests as req\n",
    "import pandas as pd\n",
    "import datetime as dt\n",
    "\n",
    "class Ip_checker_whois():\n",
    "    ips = []\n",
    "    def __init__(self) -> None:\n",
    "        self.url = 'http://apis.data.go.kr/B551505/whois/ip_address'\n",
    "        # self.key = 'Br4iAAGD3WXTBvy3pjnlcQ2WPVCsvk0oPjoivwzcyDuR6316lg2V21gwH1NRxkhSiPxfTKv9/1hkqABZefw3ow=='\n",
    "        self.key = 'ynMKChB5l6SKs5LkT+mIo6rygtVhX8Sp/WyXQkbOyOofz/m3SiHHjALDr21+hmezZjBrWpyfsMP8JnXNFy1Xdg=='\n",
    "\n",
    "    def get_location( self, ip, extension ):\n",
    "        params ={'serviceKey' : f'{self.key}', 'query' : f'{ip}', 'answer' : f'{extension}' }\n",
    "        response = req.get(self.url, params=params).json()\n",
    "        print( response )\n",
    "        return response['response']['whois']\n",
    "    \n",
    "    def getFileContents( self, filename ):        \n",
    "        with open(filename) as fr:\n",
    "            data = fr.read()\n",
    "\n",
    "        self.ips = data.split('\\n')\n",
    "\n",
    "    def exportReports( self ):\n",
    "        if not bool(len(self.ips)):\n",
    "            self.getFileContents( './ip_addresses.txt' )\n",
    "\n",
    "        data = [self.get_location( ip, 'json' ) for ip in self.ips]\n",
    "\n",
    "        date_stamp = dt.datetime.now().strftime(\"%Y%m%d-%H:%M:%S\")\n",
    "        filename = f'./ip_attack_location-{date_stamp}.csv'\n",
    "\n",
    "        pd.DataFrame( data=data ).to_csv( filename, index=False )\n",
    "\n",
    "ip_checker_whois = Ip_checker_whois()\n",
    "\n",
    "ip_checker_whois.exportReports()\n"
   ]
  },
  {
   "cell_type": "markdown",
   "metadata": {},
   "source": []
  }
 ],
 "metadata": {
  "kernelspec": {
   "display_name": "py3.9.5",
   "language": "python",
   "name": "python3"
  },
  "language_info": {
   "codemirror_mode": {
    "name": "ipython",
    "version": 3
   },
   "file_extension": ".py",
   "mimetype": "text/x-python",
   "name": "python",
   "nbconvert_exporter": "python",
   "pygments_lexer": "ipython3",
   "version": "3.9.5"
  }
 },
 "nbformat": 4,
 "nbformat_minor": 2
}
